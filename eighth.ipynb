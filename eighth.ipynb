{
 "cells": [
  {
   "cell_type": "code",
   "execution_count": 1,
   "metadata": {},
   "outputs": [
    {
     "name": "stdout",
     "output_type": "stream",
     "text": [
      "으~~\n"
     ]
    }
   ],
   "source": [
    "print('으~~')"
   ]
  },
  {
   "cell_type": "code",
   "execution_count": 2,
   "metadata": {},
   "outputs": [],
   "source": [
    "import cv2"
   ]
  },
  {
   "cell_type": "code",
   "execution_count": 6,
   "metadata": {},
   "outputs": [],
   "source": [
    "# sudo apt-get install pkg-config\n",
    "# pkg-config --modversion opencv\n",
    "# sudo apt-get install build-essential cmake\n",
    "# sudo apt-get install freeglut3 freeglut3-dev\n",
    "# sudo apt-get install glew-utils glee-dev\n",
    "# sudo apt-get install libglew-dev\n",
    "# sudo apt-get install libjpeg-dev libtiff5-dev libpng-dev\n",
    "# sudo apt-get install libavcodec-dev libavformat-dev libswscale-dev libxvidcore-dev libx264-dev libxine2-dev\n",
    "# sudo apt-get install libv4l-dev v4l-utils\n",
    "# sudo apt-get install libgstreamer1.0-dev libgstreamer-plugins-base1.0-dev\n",
    "# sudo apt-get install libgtk2.0-dev\n",
    "# sudo apt-get install mesa-utils libgl1-mesa-dri libgtkgl2.0-dev libgtkglext1-dev\n",
    "# sudo apt-get install libatlas-base-dev gfortran libeigen3-dev"
   ]
  },
  {
   "cell_type": "code",
   "execution_count": 7,
   "metadata": {},
   "outputs": [],
   "source": [
    "# cd ~\n",
    "# cd sw/\n",
    "# mkdir opencv\n",
    "# cd opencv\n",
    "# wget -O opencv.zip https://github.com/opencv/opencv/archive/4.2.0.zip\n",
    "# unzip opencv.zip"
   ]
  },
  {
   "cell_type": "code",
   "execution_count": 8,
   "metadata": {},
   "outputs": [],
   "source": [
    "# wget -O opencv_contrib.zip https://github.com/opencv/opencv_contrib/archive/4.2.0.zip\n",
    "# unzip opencv_contrib.zip"
   ]
  },
  {
   "cell_type": "code",
   "execution_count": 9,
   "metadata": {},
   "outputs": [],
   "source": [
    "# cd opencv-4.2.0/\n",
    "# mkdir build\n",
    "# cd build"
   ]
  },
  {
   "cell_type": "code",
   "execution_count": 10,
   "metadata": {},
   "outputs": [],
   "source": [
    "# 아나콘다 환경 설정 잠시 정지시킴\n",
    "# sudo apt-get install python2.7-dev python3-dev python-numpy python3-numpy"
   ]
  },
  {
   "cell_type": "code",
   "execution_count": 11,
   "metadata": {},
   "outputs": [],
   "source": [
    "# /home/bitai/anaconda3/bin/python"
   ]
  },
  {
   "cell_type": "code",
   "execution_count": 12,
   "metadata": {},
   "outputs": [
    {
     "ename": "SyntaxError",
     "evalue": "invalid syntax (<ipython-input-12-c4b21b83e925>, line 3)",
     "output_type": "error",
     "traceback": [
      "\u001b[0;36m  File \u001b[0;32m\"<ipython-input-12-c4b21b83e925>\"\u001b[0;36m, line \u001b[0;32m3\u001b[0m\n\u001b[0;31m    -D WITH_TBB=OFF -D WITH_IPP=OFF -D WITH_1394=OFF -D BUILD_WITH_\u001b[0m\n\u001b[0m              ^\u001b[0m\n\u001b[0;31mSyntaxError\u001b[0m\u001b[0;31m:\u001b[0m invalid syntax\n"
     ]
    }
   ],
   "source": [
    "# 아나콘다 경로를 잘 파악하고 있다면 문제 없음\n",
    "# cmake -D CMAKE_BUILD_TYPE=RELEASE -D CMAKE_INSTALL_PREFIX=/usr/local\n",
    "-D WITH_TBB=OFF -D WITH_IPP=OFF -D WITH_1394=OFF -D BUILD_WITH_\n",
    "DEBUG_INFO=OFF -D BUILD_DOCS=OFF -D INSTALL_C_EXAMPLES=ON -D INSTALL_\n",
    "PYTHON_EXAMPLES=ON -D BUILD_EXAMPLES=OFF -D BUILD_TESTS=OFF -D \n",
    "BUILD_PERF_TESTS=OFF -D WITH_QT=OFF -D WITH_GTK=ON -D WITH_OPENGL=ON \n",
    "-D OPENCV_EXTRA_MODULES_PATH=../../opencv_contrib-4.2.0/modules -D \n",
    "WITH_V4L=ON -D WITH_FFMPEG=ON -D WITH_XINE=ON -D BUILD_NEW_PYTHON_\n",
    "SUPPORT=ON -D OPENCV_GENERATE_PKGCONFIG=ON ../"
   ]
  },
  {
   "cell_type": "code",
   "execution_count": null,
   "metadata": {},
   "outputs": [],
   "source": [
    "# 아나콘다상의 파이썬 경로를 파악하지 못한다면 아래 방식으로\n",
    "# cmake -D CMAKE_BUILD_TYPE=RELEASE -D CMAKE_INSTALL_PREFIX=/usr/local\n",
    "-D WITH_TBB=OFF -D WITH_IPP=OFF -D WITH_1394=OFF -D BUILD_WITH_\n",
    "DEBUG_INFO=OFF -D BUILD_DOCS=OFF -D INSTALL_C_EXAMPLES=ON -D \n",
    "INSTALL_PYTHON_EXAMPLES=ON -D BUILD_EXAMPLES=OFF -D BUILD_TESTS=OFF \n",
    "-D BUILD_PERF_TESTS=OFF -D WITH_QT=OFF -D WITH_GTK=ON -D WITH_OPENGL=\n",
    "ON -D OPENCV_EXTRA_MODULES_PATH=../../opencv_contrib-4.2.0/modules \n",
    "-D WITH_V4L=ON -D WITH_FFMPEG=ON -D WITH_XINE=ON -D BUILD_NEW_\n",
    "PYTHON_SUPPORT=ON -D OPENCV_GENERATE_PKGCONFIG=ON -D PYTHON3_INCLUDE_\n",
    "DIR=/home/bitai/anaconda3/include/python3.7m/ -D PYTHON3_NUMPY_INCLUDE\n",
    "_DIRS=/home/bitai/anaconda3/lib/python3.7/site-packages/numpy/core/\n",
    "include/ -D PYTHON3_PACKAGES_PATH=/home/bitai/anaconda3/lib/python3.7/\n",
    "site-packages -D PYTHON3_LIBRARY=/home/bitai/anaconda3/lib/libpython3.\n",
    "7m.so ../"
   ]
  },
  {
   "cell_type": "code",
   "execution_count": 13,
   "metadata": {},
   "outputs": [],
   "source": [
    "# cat /proc/cpuinfo | grep processor | wc -l\n",
    "# time make -j12"
   ]
  },
  {
   "cell_type": "code",
   "execution_count": 14,
   "metadata": {},
   "outputs": [],
   "source": [
    "# sudo make install"
   ]
  },
  {
   "cell_type": "code",
   "execution_count": 15,
   "metadata": {},
   "outputs": [],
   "source": [
    "# cat /etc/ld.so.conf.d/*\n",
    "# sudo ldconfig"
   ]
  },
  {
   "cell_type": "code",
   "execution_count": null,
   "metadata": {},
   "outputs": [],
   "source": [
    "# cd ~/proj/\n",
    "# mkdir test\n",
    "# cd test\n",
    "# g++ -o facedetect /usr/local/share/opencv4/samples/cpp/\n",
    "facedetect.cpp $(pkg-config opencv4 --libs --cflags)\n",
    "# ./facedetect --cascade=\"/usr/local/share/opencv4/haarcascades/\n",
    "haarcascade_frontalface_alt.xml\" --nested-cascade=\"/usr/local/share/\n",
    "opencv4/haarcascades/haarcascade_eye_tree_eyeglasses.xml\" --scale=1.3"
   ]
  },
  {
   "cell_type": "code",
   "execution_count": 16,
   "metadata": {},
   "outputs": [],
   "source": [
    "# 아나콘다 설정 다시 활성화"
   ]
  },
  {
   "cell_type": "code",
   "execution_count": 3,
   "metadata": {},
   "outputs": [
    {
     "name": "stdout",
     "output_type": "stream",
     "text": [
      "Requirement already satisfied: opencv-python in /home/bitai/anaconda3/lib/python3.7/site-packages (4.3.0.36)\r\n",
      "Requirement already satisfied: numpy>=1.14.5 in /home/bitai/anaconda3/lib/python3.7/site-packages (from opencv-python) (1.18.1)\r\n"
     ]
    }
   ],
   "source": [
    "!pip install opencv-python"
   ]
  },
  {
   "cell_type": "code",
   "execution_count": 4,
   "metadata": {},
   "outputs": [],
   "source": [
    "import cv2"
   ]
  },
  {
   "cell_type": "code",
   "execution_count": 5,
   "metadata": {},
   "outputs": [
    {
     "name": "stdout",
     "output_type": "stream",
     "text": [
      "4.3.0\n"
     ]
    }
   ],
   "source": [
    "print(cv2.__version__)"
   ]
  },
  {
   "cell_type": "code",
   "execution_count": 17,
   "metadata": {},
   "outputs": [],
   "source": [
    "import numpy as np"
   ]
  },
  {
   "cell_type": "code",
   "execution_count": 18,
   "metadata": {},
   "outputs": [
    {
     "name": "stdout",
     "output_type": "stream",
     "text": [
      "[[2 0 6 4 7 5 3]\n",
      " [9 5 7 6 5 2 3]\n",
      " [9 7 9 4 0 1 0]\n",
      " [2 0 7 3 7 2 2]\n",
      " [1 2 5 6 8 9 1]\n",
      " [0 7 5 7 0 8 9]\n",
      " [7 5 4 1 6 3 3]]\n"
     ]
    }
   ],
   "source": [
    "img = np.random.randint(0, 10, (7, 7))\n",
    "\n",
    "print(img)"
   ]
  },
  {
   "cell_type": "code",
   "execution_count": 19,
   "metadata": {},
   "outputs": [
    {
     "name": "stdout",
     "output_type": "stream",
     "text": [
      "[[1. 1. 1. 1. 1. 1. 1.]\n",
      " [1. 1. 1. 1. 1. 1. 1.]\n",
      " [1. 1. 1. 1. 1. 1. 1.]\n",
      " [1. 1. 1. 1. 1. 1. 1.]\n",
      " [1. 1. 1. 1. 1. 1. 1.]\n",
      " [1. 1. 1. 1. 1. 1. 1.]\n",
      " [1. 1. 1. 1. 1. 1. 1.]]\n"
     ]
    }
   ],
   "source": [
    "img_np = np.ones([7, 7])\n",
    "\n",
    "print(img_np)"
   ]
  },
  {
   "cell_type": "code",
   "execution_count": 33,
   "metadata": {},
   "outputs": [
    {
     "name": "stdout",
     "output_type": "stream",
     "text": [
      "[-1  0  1]\n"
     ]
    }
   ],
   "source": [
    "kernel = np.array([-1, 0, 1])\n",
    "\n",
    "print(kernel)"
   ]
  },
  {
   "cell_type": "code",
   "execution_count": 34,
   "metadata": {},
   "outputs": [
    {
     "name": "stdout",
     "output_type": "stream",
     "text": [
      "<class 'numpy.ndarray'>\n",
      "<class 'numpy.ndarray'>\n"
     ]
    }
   ],
   "source": [
    "print(type(kernel))\n",
    "print(type(img_np))"
   ]
  },
  {
   "cell_type": "code",
   "execution_count": 35,
   "metadata": {},
   "outputs": [
    {
     "name": "stdout",
     "output_type": "stream",
     "text": [
      "[[1. 1. 1. 1. 1. 1. 1.]\n",
      " [1. 1. 1. 1. 1. 1. 1.]\n",
      " [1. 1. 1. 1. 1. 1. 1.]\n",
      " [1. 1. 1. 1. 1. 1. 1.]\n",
      " [1. 1. 1. 1. 1. 1. 1.]\n",
      " [1. 1. 1. 1. 1. 1. 1.]\n",
      " [1. 1. 1. 1. 1. 1. 1.]]\n"
     ]
    }
   ],
   "source": [
    "img_cv = cv2.resize(img_np, (7, 7))\n",
    "\n",
    "print(img_cv)"
   ]
  },
  {
   "cell_type": "code",
   "execution_count": 36,
   "metadata": {},
   "outputs": [
    {
     "name": "stdout",
     "output_type": "stream",
     "text": [
      "[[-1]\n",
      " [ 0]\n",
      " [ 1]]\n"
     ]
    }
   ],
   "source": [
    "kernel = cv2.resize(kernel, (1, 3))\n",
    "\n",
    "print(kernel)"
   ]
  },
  {
   "cell_type": "code",
   "execution_count": 37,
   "metadata": {},
   "outputs": [
    {
     "name": "stdout",
     "output_type": "stream",
     "text": [
      "<class 'numpy.ndarray'>\n",
      "<class 'numpy.ndarray'>\n"
     ]
    }
   ],
   "source": [
    "print(type(img_cv))\n",
    "print(type(kernel))"
   ]
  },
  {
   "cell_type": "code",
   "execution_count": 38,
   "metadata": {},
   "outputs": [
    {
     "name": "stdout",
     "output_type": "stream",
     "text": [
      "[[0. 0. 0. 0. 0. 0. 0.]\n",
      " [0. 0. 0. 0. 0. 0. 0.]\n",
      " [0. 0. 0. 0. 0. 0. 0.]\n",
      " [0. 0. 0. 0. 0. 0. 0.]\n",
      " [0. 0. 0. 0. 0. 0. 0.]\n",
      " [0. 0. 0. 0. 0. 0. 0.]\n",
      " [0. 0. 0. 0. 0. 0. 0.]]\n"
     ]
    }
   ],
   "source": [
    "conv_test = cv2.filter2D(img_cv, -1, kernel)\n",
    "\n",
    "print(conv_test)"
   ]
  },
  {
   "cell_type": "code",
   "execution_count": 39,
   "metadata": {},
   "outputs": [
    {
     "name": "stdout",
     "output_type": "stream",
     "text": [
      "[[-1]\n",
      " [ 0]\n",
      " [ 1]]\n"
     ]
    }
   ],
   "source": [
    "print(kernel)"
   ]
  },
  {
   "cell_type": "code",
   "execution_count": 44,
   "metadata": {},
   "outputs": [
    {
     "name": "stdout",
     "output_type": "stream",
     "text": [
      "[[0. 1. 1. 1. 1. 1. 1.]\n",
      " [1. 1. 1. 1. 1. 1. 1.]\n",
      " [1. 1. 1. 1. 1. 1. 1.]\n",
      " [1. 1. 1. 2. 1. 1. 1.]\n",
      " [1. 1. 1. 1. 1. 1. 1.]\n",
      " [1. 1. 1. 1. 1. 1. 1.]\n",
      " [1. 1. 1. 1. 1. 1. 3.]]\n"
     ]
    }
   ],
   "source": [
    "print(img_cv)"
   ]
  },
  {
   "cell_type": "code",
   "execution_count": 45,
   "metadata": {},
   "outputs": [
    {
     "name": "stdout",
     "output_type": "stream",
     "text": [
      "[[ 0.  0.  0.  0.  0.  0.  0.]\n",
      " [ 1.  0.  0.  0.  0.  0.  0.]\n",
      " [ 0.  0.  0.  1.  0.  0.  0.]\n",
      " [ 0.  0.  0.  0.  0.  0.  0.]\n",
      " [ 0.  0.  0. -1.  0.  0.  0.]\n",
      " [ 0.  0.  0.  0.  0.  0.  2.]\n",
      " [ 0.  0.  0.  0.  0.  0.  0.]]\n"
     ]
    }
   ],
   "source": [
    "img_cv[0][0] = 0\n",
    "img_cv[3][3] = 2\n",
    "img_cv[6][6] = 3\n",
    "\n",
    "# filter2D - Convolution이 결국 라플라스 변환과 \n",
    "# 푸리에 변환에 관계를 가지고 있기 때문\n",
    "conv_test = cv2.filter2D(img_cv, -1, kernel)\n",
    "\n",
    "print(conv_test)"
   ]
  },
  {
   "cell_type": "code",
   "execution_count": 46,
   "metadata": {},
   "outputs": [],
   "source": [
    "# sudo apt-get install ctags cscope"
   ]
  },
  {
   "cell_type": "code",
   "execution_count": 1,
   "metadata": {},
   "outputs": [],
   "source": [
    "from keras.models import Sequential\n",
    "from keras.layers import Conv2D, MaxPool2D, Flatten, Dense\n",
    "from keras.layers import Dropout"
   ]
  },
  {
   "cell_type": "code",
   "execution_count": 2,
   "metadata": {},
   "outputs": [],
   "source": [
    "classifier = Sequential()\n",
    "classifier.add(\n",
    "    Conv2D(\n",
    "        32, (3, 3), \n",
    "        input_shape = (64, 64, 3), \n",
    "        activation = 'relu'\n",
    "    )\n",
    ")\n",
    "classifier.add(MaxPool2D(pool_size = (2, 2)))\n",
    "\n",
    "classifier.add(Flatten())"
   ]
  },
  {
   "cell_type": "code",
   "execution_count": 3,
   "metadata": {},
   "outputs": [
    {
     "name": "stdout",
     "output_type": "stream",
     "text": [
      "Model: \"sequential\"\n",
      "_________________________________________________________________\n",
      "Layer (type)                 Output Shape              Param #   \n",
      "=================================================================\n",
      "conv2d (Conv2D)              (None, 62, 62, 32)        896       \n",
      "_________________________________________________________________\n",
      "max_pooling2d (MaxPooling2D) (None, 31, 31, 32)        0         \n",
      "_________________________________________________________________\n",
      "flatten (Flatten)            (None, 30752)             0         \n",
      "=================================================================\n",
      "Total params: 896\n",
      "Trainable params: 896\n",
      "Non-trainable params: 0\n",
      "_________________________________________________________________\n"
     ]
    }
   ],
   "source": [
    "classifier.summary()"
   ]
  },
  {
   "cell_type": "code",
   "execution_count": 11,
   "metadata": {},
   "outputs": [],
   "source": [
    "classifier.add(\n",
    "    Dense(128, activation = 'relu')\n",
    ")\n",
    "classifier.add(Dropout(0.2))\n",
    "classifier.add(\n",
    "    Dense(128, activation = 'relu')\n",
    ")\n",
    "classifier.add(\n",
    "    Dense(128, activation = 'relu')\n",
    ")\n",
    "classifier.add(\n",
    "    Dense(128, activation = 'relu')\n",
    ")\n",
    "classifier.add(\n",
    "    Dense(64, activation = 'relu')\n",
    ")\n",
    "classifier.add(\n",
    "    Dense(64, activation = 'relu')\n",
    ")\n",
    "classifier.add(\n",
    "    Dense(32, activation = 'relu')\n",
    ")\n",
    "classifier.add(\n",
    "    Dense(16, activation = 'relu')\n",
    ")\n",
    "classifier.add(\n",
    "    Dense(1, activation = 'sigmoid')\n",
    ")\n",
    "\n",
    "classifier.compile(\n",
    "    optimizer = 'adam',\n",
    "    loss = 'binary_crossentropy',\n",
    "    metrics = ['accuracy']\n",
    ")"
   ]
  },
  {
   "cell_type": "code",
   "execution_count": 12,
   "metadata": {},
   "outputs": [],
   "source": [
    "from keras.preprocessing.image import ImageDataGenerator\n",
    "\n",
    "train_gen = ImageDataGenerator(\n",
    "    rescale = 1. / 255,\n",
    "    shear_range = 0.2,\n",
    "    zoom_range = 0.2,\n",
    "    horizontal_flip = True\n",
    ")\n",
    "\n",
    "test_gen = ImageDataGenerator(rescale = 1.0 / 255)"
   ]
  },
  {
   "cell_type": "code",
   "execution_count": 13,
   "metadata": {},
   "outputs": [
    {
     "name": "stdout",
     "output_type": "stream",
     "text": [
      "Activity13.ipynb  Datasets\t    Exercise20.ipynb  Exercise22.ipynb\r\n",
      "Activity14.ipynb  Exercise19.ipynb  Exercise21.ipynb\r\n"
     ]
    }
   ],
   "source": [
    "! ls Applied-Deep-Learning-with-Keras/Lesson07"
   ]
  },
  {
   "cell_type": "code",
   "execution_count": 14,
   "metadata": {},
   "outputs": [
    {
     "name": "stdout",
     "output_type": "stream",
     "text": [
      "cats  dogs\r\n"
     ]
    }
   ],
   "source": [
    "! ls Applied-Deep-Learning-with-Keras/Lesson07/Datasets/dataset/training_set"
   ]
  },
  {
   "cell_type": "code",
   "execution_count": 15,
   "metadata": {},
   "outputs": [
    {
     "name": "stdout",
     "output_type": "stream",
     "text": [
      "Found 20000 images belonging to 2 classes.\n",
      "Found 5000 images belonging to 2 classes.\n"
     ]
    }
   ],
   "source": [
    "trainSet = train_gen.flow_from_directory(\n",
    "    'Applied-Deep-Learning-with-Keras/Lesson07/' +\n",
    "    'Datasets/dataset/training_set',\n",
    "    target_size = (64, 64),\n",
    "    batch_size = 32,\n",
    "    class_mode = 'binary'\n",
    ")\n",
    "testSet = test_gen.flow_from_directory(\n",
    "    'Applied-Deep-Learning-with-Keras/Lesson07/' +\n",
    "    'Datasets/dataset/test_set',\n",
    "    target_size = (64, 64),\n",
    "    batch_size = 32,\n",
    "    class_mode = 'binary'\n",
    ")"
   ]
  },
  {
   "cell_type": "code",
   "execution_count": 16,
   "metadata": {
    "scrolled": true
   },
   "outputs": [
    {
     "name": "stdout",
     "output_type": "stream",
     "text": [
      "Epoch 1/100\n",
      "100/100 [==============================] - 9s 92ms/step - loss: 0.6435 - accuracy: 0.6422 - val_loss: 0.6013 - val_accuracy: 0.7088\n",
      "Epoch 2/100\n",
      "100/100 [==============================] - 9s 90ms/step - loss: 0.5857 - accuracy: 0.6953 - val_loss: 0.5508 - val_accuracy: 0.7300\n",
      "Epoch 3/100\n",
      "100/100 [==============================] - 9s 91ms/step - loss: 0.5793 - accuracy: 0.7025 - val_loss: 0.6336 - val_accuracy: 0.6200\n",
      "Epoch 4/100\n",
      "100/100 [==============================] - 9s 90ms/step - loss: 0.5642 - accuracy: 0.7125 - val_loss: 0.5282 - val_accuracy: 0.7450\n",
      "Epoch 5/100\n",
      "100/100 [==============================] - 9s 90ms/step - loss: 0.5673 - accuracy: 0.6978 - val_loss: 0.5281 - val_accuracy: 0.7412\n",
      "Epoch 6/100\n",
      "100/100 [==============================] - 9s 91ms/step - loss: 0.5477 - accuracy: 0.7222 - val_loss: 0.5521 - val_accuracy: 0.7113\n",
      "Epoch 7/100\n",
      "100/100 [==============================] - 9s 92ms/step - loss: 0.5377 - accuracy: 0.7209 - val_loss: 0.5642 - val_accuracy: 0.7175\n",
      "Epoch 8/100\n",
      "100/100 [==============================] - 9s 91ms/step - loss: 0.5646 - accuracy: 0.7003 - val_loss: 0.5693 - val_accuracy: 0.7225\n",
      "Epoch 9/100\n",
      "100/100 [==============================] - 9s 91ms/step - loss: 0.5498 - accuracy: 0.7206 - val_loss: 0.5122 - val_accuracy: 0.7525\n",
      "Epoch 10/100\n",
      "100/100 [==============================] - 9s 92ms/step - loss: 0.5485 - accuracy: 0.7203 - val_loss: 0.5392 - val_accuracy: 0.7337\n",
      "Epoch 11/100\n",
      "100/100 [==============================] - 9s 92ms/step - loss: 0.5385 - accuracy: 0.7328 - val_loss: 0.5482 - val_accuracy: 0.7250\n",
      "Epoch 12/100\n",
      "100/100 [==============================] - 9s 92ms/step - loss: 0.5281 - accuracy: 0.7447 - val_loss: 0.5084 - val_accuracy: 0.7638\n",
      "Epoch 13/100\n",
      "100/100 [==============================] - 9s 93ms/step - loss: 0.5251 - accuracy: 0.7397 - val_loss: 0.5561 - val_accuracy: 0.7287\n",
      "Epoch 14/100\n",
      "100/100 [==============================] - 9s 93ms/step - loss: 0.5057 - accuracy: 0.7506 - val_loss: 0.5222 - val_accuracy: 0.7575\n",
      "Epoch 15/100\n",
      "100/100 [==============================] - 9s 94ms/step - loss: 0.5099 - accuracy: 0.7547 - val_loss: 0.4903 - val_accuracy: 0.7738\n",
      "Epoch 16/100\n",
      "100/100 [==============================] - 10s 98ms/step - loss: 0.5081 - accuracy: 0.7462 - val_loss: 0.5242 - val_accuracy: 0.7475\n",
      "Epoch 17/100\n",
      "100/100 [==============================] - 10s 97ms/step - loss: 0.5200 - accuracy: 0.7403 - val_loss: 0.5099 - val_accuracy: 0.7387\n",
      "Epoch 18/100\n",
      "100/100 [==============================] - 9s 94ms/step - loss: 0.5072 - accuracy: 0.7500 - val_loss: 0.4628 - val_accuracy: 0.7788\n",
      "Epoch 19/100\n",
      "100/100 [==============================] - 10s 99ms/step - loss: 0.5136 - accuracy: 0.7503 - val_loss: 0.5002 - val_accuracy: 0.7550\n",
      "Epoch 20/100\n",
      "100/100 [==============================] - 10s 96ms/step - loss: 0.4954 - accuracy: 0.7678 - val_loss: 0.5565 - val_accuracy: 0.7325\n",
      "Epoch 21/100\n",
      "100/100 [==============================] - 9s 95ms/step - loss: 0.4996 - accuracy: 0.7569 - val_loss: 0.5041 - val_accuracy: 0.7675\n",
      "Epoch 22/100\n",
      "100/100 [==============================] - 10s 98ms/step - loss: 0.4991 - accuracy: 0.7625 - val_loss: 0.5056 - val_accuracy: 0.7663\n",
      "Epoch 23/100\n",
      "100/100 [==============================] - 10s 98ms/step - loss: 0.5024 - accuracy: 0.7619 - val_loss: 0.5026 - val_accuracy: 0.7763\n",
      "Epoch 24/100\n",
      "100/100 [==============================] - 10s 96ms/step - loss: 0.4849 - accuracy: 0.7619 - val_loss: 0.5463 - val_accuracy: 0.7312\n",
      "Epoch 25/100\n",
      "100/100 [==============================] - 9s 94ms/step - loss: 0.5027 - accuracy: 0.7550 - val_loss: 0.5055 - val_accuracy: 0.7437\n",
      "Epoch 26/100\n",
      "100/100 [==============================] - 9s 95ms/step - loss: 0.4800 - accuracy: 0.7622 - val_loss: 0.5098 - val_accuracy: 0.7563\n",
      "Epoch 27/100\n",
      "100/100 [==============================] - 10s 95ms/step - loss: 0.4929 - accuracy: 0.7634 - val_loss: 0.5111 - val_accuracy: 0.7688\n",
      "Epoch 28/100\n",
      "100/100 [==============================] - 9s 94ms/step - loss: 0.5149 - accuracy: 0.7403 - val_loss: 0.4581 - val_accuracy: 0.7738\n",
      "Epoch 29/100\n",
      "100/100 [==============================] - 10s 96ms/step - loss: 0.4987 - accuracy: 0.7559 - val_loss: 0.4964 - val_accuracy: 0.7638\n",
      "Epoch 30/100\n",
      "100/100 [==============================] - 10s 95ms/step - loss: 0.4868 - accuracy: 0.7609 - val_loss: 0.5149 - val_accuracy: 0.7475\n",
      "Epoch 31/100\n",
      "100/100 [==============================] - 10s 95ms/step - loss: 0.4884 - accuracy: 0.7606 - val_loss: 0.5482 - val_accuracy: 0.7387\n",
      "Epoch 32/100\n",
      "100/100 [==============================] - 10s 98ms/step - loss: 0.4956 - accuracy: 0.7597 - val_loss: 0.5462 - val_accuracy: 0.7113\n",
      "Epoch 33/100\n",
      "100/100 [==============================] - 10s 95ms/step - loss: 0.4826 - accuracy: 0.7663 - val_loss: 0.4822 - val_accuracy: 0.7800\n",
      "Epoch 34/100\n",
      "100/100 [==============================] - 10s 97ms/step - loss: 0.4803 - accuracy: 0.7713 - val_loss: 0.5297 - val_accuracy: 0.7575\n",
      "Epoch 35/100\n",
      "100/100 [==============================] - 10s 98ms/step - loss: 0.4912 - accuracy: 0.7672 - val_loss: 0.5635 - val_accuracy: 0.7325\n",
      "Epoch 36/100\n",
      "100/100 [==============================] - 10s 96ms/step - loss: 0.4705 - accuracy: 0.7803 - val_loss: 0.5035 - val_accuracy: 0.7663\n",
      "Epoch 37/100\n",
      "100/100 [==============================] - 10s 99ms/step - loss: 0.4753 - accuracy: 0.7741 - val_loss: 0.4917 - val_accuracy: 0.7788\n",
      "Epoch 38/100\n",
      "100/100 [==============================] - 10s 97ms/step - loss: 0.4663 - accuracy: 0.7837 - val_loss: 0.5901 - val_accuracy: 0.7437\n",
      "Epoch 39/100\n",
      "100/100 [==============================] - 10s 96ms/step - loss: 0.4868 - accuracy: 0.7691 - val_loss: 0.4681 - val_accuracy: 0.7812\n",
      "Epoch 40/100\n",
      "100/100 [==============================] - 10s 98ms/step - loss: 0.4799 - accuracy: 0.7681 - val_loss: 0.4800 - val_accuracy: 0.7688\n",
      "Epoch 41/100\n",
      "100/100 [==============================] - 10s 99ms/step - loss: 0.4734 - accuracy: 0.7778 - val_loss: 0.5346 - val_accuracy: 0.7563\n",
      "Epoch 42/100\n",
      "100/100 [==============================] - 10s 97ms/step - loss: 0.4782 - accuracy: 0.7722 - val_loss: 0.4583 - val_accuracy: 0.7812\n",
      "Epoch 43/100\n",
      "100/100 [==============================] - 10s 96ms/step - loss: 0.4687 - accuracy: 0.7756 - val_loss: 0.4896 - val_accuracy: 0.7650\n",
      "Epoch 44/100\n",
      "100/100 [==============================] - 10s 99ms/step - loss: 0.4612 - accuracy: 0.7822 - val_loss: 0.4894 - val_accuracy: 0.7788\n",
      "Epoch 45/100\n",
      "100/100 [==============================] - 10s 97ms/step - loss: 0.4800 - accuracy: 0.7688 - val_loss: 0.4719 - val_accuracy: 0.7650\n",
      "Epoch 46/100\n",
      "100/100 [==============================] - 10s 96ms/step - loss: 0.4492 - accuracy: 0.7916 - val_loss: 0.4697 - val_accuracy: 0.7788\n",
      "Epoch 47/100\n",
      "100/100 [==============================] - 10s 96ms/step - loss: 0.4531 - accuracy: 0.7881 - val_loss: 0.5648 - val_accuracy: 0.7400\n",
      "Epoch 48/100\n",
      "100/100 [==============================] - 9s 95ms/step - loss: 0.4589 - accuracy: 0.7816 - val_loss: 0.5250 - val_accuracy: 0.7575\n",
      "Epoch 49/100\n",
      "100/100 [==============================] - 10s 95ms/step - loss: 0.4630 - accuracy: 0.7859 - val_loss: 0.4612 - val_accuracy: 0.7837\n",
      "Epoch 50/100\n",
      "100/100 [==============================] - 10s 97ms/step - loss: 0.4799 - accuracy: 0.7797 - val_loss: 0.4886 - val_accuracy: 0.7763\n",
      "Epoch 51/100\n",
      "100/100 [==============================] - 10s 95ms/step - loss: 0.4544 - accuracy: 0.7941 - val_loss: 0.4844 - val_accuracy: 0.7713\n",
      "Epoch 52/100\n",
      "100/100 [==============================] - 10s 96ms/step - loss: 0.4690 - accuracy: 0.7734 - val_loss: 0.5007 - val_accuracy: 0.7713\n",
      "Epoch 53/100\n",
      "100/100 [==============================] - 10s 102ms/step - loss: 0.4690 - accuracy: 0.7806 - val_loss: 0.4976 - val_accuracy: 0.7675\n",
      "Epoch 54/100\n",
      "100/100 [==============================] - 10s 99ms/step - loss: 0.4488 - accuracy: 0.7997 - val_loss: 0.4907 - val_accuracy: 0.7738\n",
      "Epoch 55/100\n",
      "100/100 [==============================] - 10s 99ms/step - loss: 0.4599 - accuracy: 0.7900 - val_loss: 0.5190 - val_accuracy: 0.7738\n",
      "Epoch 56/100\n",
      "100/100 [==============================] - 10s 97ms/step - loss: 0.4429 - accuracy: 0.7966 - val_loss: 0.5203 - val_accuracy: 0.7675\n",
      "Epoch 57/100\n"
     ]
    },
    {
     "name": "stdout",
     "output_type": "stream",
     "text": [
      "100/100 [==============================] - 10s 96ms/step - loss: 0.4604 - accuracy: 0.7844 - val_loss: 0.4783 - val_accuracy: 0.7875\n",
      "Epoch 58/100\n",
      "100/100 [==============================] - 10s 97ms/step - loss: 0.4472 - accuracy: 0.7887 - val_loss: 0.4858 - val_accuracy: 0.7763\n",
      "Epoch 59/100\n",
      "100/100 [==============================] - 10s 96ms/step - loss: 0.4411 - accuracy: 0.7881 - val_loss: 0.5027 - val_accuracy: 0.7613\n",
      "Epoch 60/100\n",
      "100/100 [==============================] - 9s 92ms/step - loss: 0.4410 - accuracy: 0.7997 - val_loss: 0.6275 - val_accuracy: 0.6913\n",
      "Epoch 61/100\n",
      "100/100 [==============================] - 10s 96ms/step - loss: 0.4536 - accuracy: 0.7931 - val_loss: 0.4761 - val_accuracy: 0.7788\n",
      "Epoch 62/100\n",
      "100/100 [==============================] - 10s 99ms/step - loss: 0.4402 - accuracy: 0.8034 - val_loss: 0.5486 - val_accuracy: 0.7625\n",
      "Epoch 63/100\n",
      "100/100 [==============================] - 10s 98ms/step - loss: 0.4495 - accuracy: 0.7912 - val_loss: 0.4897 - val_accuracy: 0.7763\n",
      "Epoch 64/100\n",
      "100/100 [==============================] - 10s 97ms/step - loss: 0.4348 - accuracy: 0.8034 - val_loss: 0.5136 - val_accuracy: 0.7775\n",
      "Epoch 65/100\n",
      "100/100 [==============================] - 10s 97ms/step - loss: 0.4345 - accuracy: 0.7909 - val_loss: 0.4799 - val_accuracy: 0.7825\n",
      "Epoch 66/100\n",
      "100/100 [==============================] - 10s 99ms/step - loss: 0.4411 - accuracy: 0.8034 - val_loss: 0.4648 - val_accuracy: 0.7862\n",
      "Epoch 67/100\n",
      "100/100 [==============================] - 10s 98ms/step - loss: 0.4323 - accuracy: 0.7984 - val_loss: 0.5699 - val_accuracy: 0.7337\n",
      "Epoch 68/100\n",
      "100/100 [==============================] - 10s 96ms/step - loss: 0.4227 - accuracy: 0.8116 - val_loss: 0.5509 - val_accuracy: 0.7575\n",
      "Epoch 69/100\n",
      "100/100 [==============================] - 10s 98ms/step - loss: 0.4255 - accuracy: 0.8062 - val_loss: 0.4548 - val_accuracy: 0.7738\n",
      "Epoch 70/100\n",
      "100/100 [==============================] - 9s 94ms/step - loss: 0.4562 - accuracy: 0.7922 - val_loss: 0.4857 - val_accuracy: 0.7563\n",
      "Epoch 71/100\n",
      "100/100 [==============================] - 9s 95ms/step - loss: 0.4252 - accuracy: 0.8094 - val_loss: 0.4510 - val_accuracy: 0.8037\n",
      "Epoch 72/100\n",
      "100/100 [==============================] - 10s 97ms/step - loss: 0.4280 - accuracy: 0.8100 - val_loss: 0.5252 - val_accuracy: 0.7700\n",
      "Epoch 73/100\n",
      "100/100 [==============================] - 10s 95ms/step - loss: 0.4545 - accuracy: 0.7856 - val_loss: 0.5160 - val_accuracy: 0.7650\n",
      "Epoch 74/100\n",
      "100/100 [==============================] - 10s 98ms/step - loss: 0.4194 - accuracy: 0.8109 - val_loss: 0.4684 - val_accuracy: 0.7800\n",
      "Epoch 75/100\n",
      "100/100 [==============================] - 10s 96ms/step - loss: 0.4417 - accuracy: 0.7978 - val_loss: 0.4775 - val_accuracy: 0.7812\n",
      "Epoch 76/100\n",
      "100/100 [==============================] - 9s 93ms/step - loss: 0.4221 - accuracy: 0.8166 - val_loss: 0.5222 - val_accuracy: 0.7650\n",
      "Epoch 77/100\n",
      "100/100 [==============================] - 9s 91ms/step - loss: 0.4360 - accuracy: 0.8012 - val_loss: 0.4910 - val_accuracy: 0.7538\n",
      "Epoch 78/100\n",
      "100/100 [==============================] - 9s 91ms/step - loss: 0.4245 - accuracy: 0.8056 - val_loss: 0.5267 - val_accuracy: 0.7588\n",
      "Epoch 79/100\n",
      "100/100 [==============================] - 9s 91ms/step - loss: 0.4173 - accuracy: 0.8100 - val_loss: 0.4923 - val_accuracy: 0.7775\n",
      "Epoch 80/100\n",
      "100/100 [==============================] - 9s 91ms/step - loss: 0.4328 - accuracy: 0.8031 - val_loss: 0.5501 - val_accuracy: 0.7588\n",
      "Epoch 81/100\n",
      "100/100 [==============================] - 9s 91ms/step - loss: 0.4123 - accuracy: 0.8200 - val_loss: 0.4913 - val_accuracy: 0.7775\n",
      "Epoch 82/100\n",
      "100/100 [==============================] - 9s 91ms/step - loss: 0.4197 - accuracy: 0.8112 - val_loss: 0.4805 - val_accuracy: 0.7688\n",
      "Epoch 83/100\n",
      "100/100 [==============================] - 9s 91ms/step - loss: 0.4346 - accuracy: 0.7962 - val_loss: 0.4674 - val_accuracy: 0.7925\n",
      "Epoch 84/100\n",
      "100/100 [==============================] - 9s 91ms/step - loss: 0.4006 - accuracy: 0.8188 - val_loss: 0.5081 - val_accuracy: 0.7713\n",
      "Epoch 85/100\n",
      "100/100 [==============================] - 9s 91ms/step - loss: 0.4253 - accuracy: 0.8028 - val_loss: 0.4713 - val_accuracy: 0.7763\n",
      "Epoch 86/100\n",
      "100/100 [==============================] - 9s 91ms/step - loss: 0.4116 - accuracy: 0.8150 - val_loss: 0.4642 - val_accuracy: 0.7862\n",
      "Epoch 87/100\n",
      "100/100 [==============================] - 9s 91ms/step - loss: 0.4106 - accuracy: 0.8116 - val_loss: 0.4564 - val_accuracy: 0.7925\n",
      "Epoch 88/100\n",
      "100/100 [==============================] - 9s 91ms/step - loss: 0.4082 - accuracy: 0.8219 - val_loss: 0.4532 - val_accuracy: 0.7950\n",
      "Epoch 89/100\n",
      "100/100 [==============================] - 9s 91ms/step - loss: 0.4179 - accuracy: 0.8194 - val_loss: 0.5195 - val_accuracy: 0.7638\n",
      "Epoch 90/100\n",
      "100/100 [==============================] - 9s 90ms/step - loss: 0.4230 - accuracy: 0.8037 - val_loss: 0.5412 - val_accuracy: 0.7563\n",
      "Epoch 91/100\n",
      "100/100 [==============================] - 9s 91ms/step - loss: 0.4018 - accuracy: 0.8116 - val_loss: 0.4766 - val_accuracy: 0.7775\n",
      "Epoch 92/100\n",
      "100/100 [==============================] - 9s 91ms/step - loss: 0.4130 - accuracy: 0.8109 - val_loss: 0.6074 - val_accuracy: 0.7462\n",
      "Epoch 93/100\n",
      "100/100 [==============================] - 9s 91ms/step - loss: 0.4013 - accuracy: 0.8134 - val_loss: 0.4441 - val_accuracy: 0.7912\n",
      "Epoch 94/100\n",
      "100/100 [==============================] - 9s 90ms/step - loss: 0.4184 - accuracy: 0.8072 - val_loss: 0.5113 - val_accuracy: 0.7937\n",
      "Epoch 95/100\n",
      "100/100 [==============================] - 9s 90ms/step - loss: 0.3997 - accuracy: 0.8194 - val_loss: 0.4471 - val_accuracy: 0.8125\n",
      "Epoch 96/100\n",
      "100/100 [==============================] - 9s 90ms/step - loss: 0.3993 - accuracy: 0.8228 - val_loss: 0.4568 - val_accuracy: 0.7975\n",
      "Epoch 97/100\n",
      "100/100 [==============================] - 9s 91ms/step - loss: 0.3956 - accuracy: 0.8200 - val_loss: 0.4693 - val_accuracy: 0.7750\n",
      "Epoch 98/100\n",
      "100/100 [==============================] - 9s 90ms/step - loss: 0.4176 - accuracy: 0.8084 - val_loss: 0.4653 - val_accuracy: 0.7950\n",
      "Epoch 99/100\n",
      "100/100 [==============================] - 9s 91ms/step - loss: 0.4010 - accuracy: 0.8075 - val_loss: 0.4811 - val_accuracy: 0.7837\n",
      "Epoch 100/100\n",
      "100/100 [==============================] - 9s 90ms/step - loss: 0.4247 - accuracy: 0.8141 - val_loss: 0.4741 - val_accuracy: 0.7800\n"
     ]
    },
    {
     "data": {
      "text/plain": [
       "<tensorflow.python.keras.callbacks.History at 0x7f7774111210>"
      ]
     },
     "execution_count": 16,
     "metadata": {},
     "output_type": "execute_result"
    }
   ],
   "source": [
    "batch_size = 100\n",
    "\n",
    "classifier.fit_generator(\n",
    "    trainSet,\n",
    "    steps_per_epoch = int(10000/batch_size),\n",
    "    epochs = 100,\n",
    "    validation_data = testSet,\n",
    "    validation_steps = int(2500/batch_size)\n",
    ")"
   ]
  },
  {
   "cell_type": "code",
   "execution_count": null,
   "metadata": {},
   "outputs": [],
   "source": [
    "import numpy as np\n",
    "\n",
    "from keras.preprocessing import image"
   ]
  },
  {
   "cell_type": "code",
   "execution_count": 11,
   "metadata": {},
   "outputs": [],
   "source": [
    "new_image = image.load_img(\n",
    "    'test_image_2.jpg',\n",
    "    target_size = (64, 64)\n",
    ")"
   ]
  },
  {
   "cell_type": "code",
   "execution_count": 12,
   "metadata": {
    "scrolled": true
   },
   "outputs": [
    {
     "name": "stdout",
     "output_type": "stream",
     "text": [
      "Cat\n"
     ]
    }
   ],
   "source": [
    "new_image = image.img_to_array(new_image)\n",
    "new_image = np.expand_dims(new_image, axis = 0)\n",
    "\n",
    "result = classifier.predict(new_image)\n",
    "#trainSet.class_indices\n",
    "\n",
    "if result[0][0] == 1:\n",
    "    prediction = 'Dog'\n",
    "else:\n",
    "    prediction = 'Cat'\n",
    "    \n",
    "print(prediction)"
   ]
  },
  {
   "cell_type": "code",
   "execution_count": null,
   "metadata": {},
   "outputs": [],
   "source": []
  },
  {
   "cell_type": "code",
   "execution_count": null,
   "metadata": {},
   "outputs": [],
   "source": []
  },
  {
   "cell_type": "code",
   "execution_count": null,
   "metadata": {},
   "outputs": [],
   "source": [
    "# 라플라스 변환 => 전달 함수를 얻기 위해 계산함\n",
    "# 입력 대 출력비를 구하겠다.\n",
    "# 입력이 10, 출력이 7, 입출력비: 7/10 = 0.7\n",
    "# 입력이 y'' = y' + 3y + 2 \n",
    "# 출력이 y' = 3e^3x => y = e^3x\n",
    "# 라플라스 변환 통해 입출력비를 계산할 수 있게 된다.\n",
    "# intergeral 0 - int f(t)e^-st dt\n",
    "\n",
    "# 1계 미분 방정식(RC 회로)\n",
    "# 라플라스 변환, 푸리에 변환 약식\n",
    "# Low Pass Filter(LPF 설계법) - ID Convolution\n",
    "# 전달 함수 -> 실제 값을 필터링 하는 방법"
   ]
  },
  {
   "cell_type": "code",
   "execution_count": null,
   "metadata": {},
   "outputs": [],
   "source": []
  },
  {
   "cell_type": "code",
   "execution_count": null,
   "metadata": {},
   "outputs": [],
   "source": []
  },
  {
   "cell_type": "code",
   "execution_count": null,
   "metadata": {},
   "outputs": [],
   "source": []
  },
  {
   "cell_type": "code",
   "execution_count": null,
   "metadata": {},
   "outputs": [],
   "source": []
  },
  {
   "cell_type": "code",
   "execution_count": null,
   "metadata": {},
   "outputs": [],
   "source": []
  },
  {
   "cell_type": "code",
   "execution_count": null,
   "metadata": {},
   "outputs": [],
   "source": []
  },
  {
   "cell_type": "code",
   "execution_count": null,
   "metadata": {},
   "outputs": [],
   "source": []
  },
  {
   "cell_type": "code",
   "execution_count": null,
   "metadata": {},
   "outputs": [],
   "source": []
  },
  {
   "cell_type": "code",
   "execution_count": null,
   "metadata": {},
   "outputs": [],
   "source": []
  },
  {
   "cell_type": "code",
   "execution_count": null,
   "metadata": {},
   "outputs": [],
   "source": []
  },
  {
   "cell_type": "code",
   "execution_count": null,
   "metadata": {},
   "outputs": [],
   "source": []
  },
  {
   "cell_type": "code",
   "execution_count": null,
   "metadata": {},
   "outputs": [],
   "source": []
  },
  {
   "cell_type": "code",
   "execution_count": null,
   "metadata": {},
   "outputs": [],
   "source": []
  },
  {
   "cell_type": "code",
   "execution_count": null,
   "metadata": {},
   "outputs": [],
   "source": []
  },
  {
   "cell_type": "code",
   "execution_count": null,
   "metadata": {},
   "outputs": [],
   "source": []
  },
  {
   "cell_type": "code",
   "execution_count": null,
   "metadata": {},
   "outputs": [],
   "source": []
  },
  {
   "cell_type": "code",
   "execution_count": null,
   "metadata": {},
   "outputs": [],
   "source": []
  },
  {
   "cell_type": "code",
   "execution_count": null,
   "metadata": {},
   "outputs": [],
   "source": []
  },
  {
   "cell_type": "code",
   "execution_count": null,
   "metadata": {},
   "outputs": [],
   "source": []
  },
  {
   "cell_type": "code",
   "execution_count": null,
   "metadata": {},
   "outputs": [],
   "source": []
  },
  {
   "cell_type": "code",
   "execution_count": null,
   "metadata": {},
   "outputs": [],
   "source": []
  },
  {
   "cell_type": "code",
   "execution_count": null,
   "metadata": {},
   "outputs": [],
   "source": []
  },
  {
   "cell_type": "code",
   "execution_count": null,
   "metadata": {},
   "outputs": [],
   "source": []
  },
  {
   "cell_type": "code",
   "execution_count": null,
   "metadata": {},
   "outputs": [],
   "source": []
  },
  {
   "cell_type": "code",
   "execution_count": null,
   "metadata": {},
   "outputs": [],
   "source": []
  },
  {
   "cell_type": "code",
   "execution_count": null,
   "metadata": {},
   "outputs": [],
   "source": []
  },
  {
   "cell_type": "code",
   "execution_count": null,
   "metadata": {},
   "outputs": [],
   "source": []
  },
  {
   "cell_type": "code",
   "execution_count": null,
   "metadata": {},
   "outputs": [],
   "source": []
  },
  {
   "cell_type": "code",
   "execution_count": null,
   "metadata": {},
   "outputs": [],
   "source": []
  },
  {
   "cell_type": "code",
   "execution_count": null,
   "metadata": {},
   "outputs": [],
   "source": []
  },
  {
   "cell_type": "code",
   "execution_count": null,
   "metadata": {},
   "outputs": [],
   "source": []
  },
  {
   "cell_type": "code",
   "execution_count": null,
   "metadata": {},
   "outputs": [],
   "source": []
  }
 ],
 "metadata": {
  "kernelspec": {
   "display_name": "Python 3",
   "language": "python",
   "name": "python3"
  },
  "language_info": {
   "codemirror_mode": {
    "name": "ipython",
    "version": 3
   },
   "file_extension": ".py",
   "mimetype": "text/x-python",
   "name": "python",
   "nbconvert_exporter": "python",
   "pygments_lexer": "ipython3",
   "version": "3.7.6"
  }
 },
 "nbformat": 4,
 "nbformat_minor": 4
}
