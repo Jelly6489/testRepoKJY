{
 "cells": [
  {
   "cell_type": "code",
   "execution_count": 1,
   "metadata": {},
   "outputs": [
    {
     "name": "stdout",
     "output_type": "stream",
     "text": [
      "응\n"
     ]
    }
   ],
   "source": [
    "print('응')"
   ]
  },
  {
   "cell_type": "code",
   "execution_count": 2,
   "metadata": {},
   "outputs": [],
   "source": [
    "# 베이스 - 디지털 신호 처리\n",
    "# CNN - FIR 필터(음성 분석)\n",
    "# RNN, LTSM - IIR 필터(음성 분석)\n",
    "# 피드백(IIR)을 준다는 개념은\n",
    "# 특정값을 찾아 수렴시키는 것이라 보면 된다.\n",
    "# 마이크로 펀딩 => FPGA"
   ]
  },
  {
   "cell_type": "code",
   "execution_count": 3,
   "metadata": {},
   "outputs": [],
   "source": [
    "# y(u, x) => ∂y / ∂u 혹은 ∂y / ∂x\n",
    "# y' = ∂y / ∂x * ∂x / ∂u"
   ]
  },
  {
   "cell_type": "code",
   "execution_count": 4,
   "metadata": {},
   "outputs": [],
   "source": [
    "import numpy as np\n",
    "import matplotlib.pyplot as plt\n",
    "import pandas as pd"
   ]
  },
  {
   "cell_type": "code",
   "execution_count": 5,
   "metadata": {},
   "outputs": [
    {
     "name": "stdout",
     "output_type": "stream",
     "text": [
      "AAPL_test.csv\t  Activity18.ipynb  Exercise28.ipynb\r\n",
      "AAPL_train.csv\t  Activity19.ipynb  MSFT_test.csv\r\n",
      "Activity17.ipynb  Exercise27.ipynb  MSFT_train.csv\r\n"
     ]
    }
   ],
   "source": [
    "!ls Applied-Deep-Learning-with-Keras/Lesson09"
   ]
  },
  {
   "cell_type": "code",
   "execution_count": 6,
   "metadata": {},
   "outputs": [
    {
     "data": {
      "text/html": [
       "<div>\n",
       "<style scoped>\n",
       "    .dataframe tbody tr th:only-of-type {\n",
       "        vertical-align: middle;\n",
       "    }\n",
       "\n",
       "    .dataframe tbody tr th {\n",
       "        vertical-align: top;\n",
       "    }\n",
       "\n",
       "    .dataframe thead th {\n",
       "        text-align: right;\n",
       "    }\n",
       "</style>\n",
       "<table border=\"1\" class=\"dataframe\">\n",
       "  <thead>\n",
       "    <tr style=\"text-align: right;\">\n",
       "      <th></th>\n",
       "      <th>Date</th>\n",
       "      <th>Open</th>\n",
       "      <th>High</th>\n",
       "      <th>Low</th>\n",
       "      <th>Close</th>\n",
       "      <th>Adj Close</th>\n",
       "      <th>Volume</th>\n",
       "    </tr>\n",
       "  </thead>\n",
       "  <tbody>\n",
       "    <tr>\n",
       "      <th>0</th>\n",
       "      <td>02-01-2014</td>\n",
       "      <td>79.382858</td>\n",
       "      <td>79.575714</td>\n",
       "      <td>78.860001</td>\n",
       "      <td>79.018570</td>\n",
       "      <td>66.964325</td>\n",
       "      <td>58671200</td>\n",
       "    </tr>\n",
       "    <tr>\n",
       "      <th>1</th>\n",
       "      <td>03-01-2014</td>\n",
       "      <td>78.980003</td>\n",
       "      <td>79.099998</td>\n",
       "      <td>77.204285</td>\n",
       "      <td>77.282860</td>\n",
       "      <td>65.493416</td>\n",
       "      <td>98116900</td>\n",
       "    </tr>\n",
       "    <tr>\n",
       "      <th>2</th>\n",
       "      <td>06-01-2014</td>\n",
       "      <td>76.778572</td>\n",
       "      <td>78.114288</td>\n",
       "      <td>76.228569</td>\n",
       "      <td>77.704285</td>\n",
       "      <td>65.850533</td>\n",
       "      <td>103152700</td>\n",
       "    </tr>\n",
       "    <tr>\n",
       "      <th>3</th>\n",
       "      <td>07-01-2014</td>\n",
       "      <td>77.760002</td>\n",
       "      <td>77.994286</td>\n",
       "      <td>76.845711</td>\n",
       "      <td>77.148575</td>\n",
       "      <td>65.379593</td>\n",
       "      <td>79302300</td>\n",
       "    </tr>\n",
       "    <tr>\n",
       "      <th>4</th>\n",
       "      <td>08-01-2014</td>\n",
       "      <td>76.972855</td>\n",
       "      <td>77.937141</td>\n",
       "      <td>76.955711</td>\n",
       "      <td>77.637146</td>\n",
       "      <td>65.793633</td>\n",
       "      <td>64632400</td>\n",
       "    </tr>\n",
       "  </tbody>\n",
       "</table>\n",
       "</div>"
      ],
      "text/plain": [
       "         Date       Open       High        Low      Close  Adj Close  \\\n",
       "0  02-01-2014  79.382858  79.575714  78.860001  79.018570  66.964325   \n",
       "1  03-01-2014  78.980003  79.099998  77.204285  77.282860  65.493416   \n",
       "2  06-01-2014  76.778572  78.114288  76.228569  77.704285  65.850533   \n",
       "3  07-01-2014  77.760002  77.994286  76.845711  77.148575  65.379593   \n",
       "4  08-01-2014  76.972855  77.937141  76.955711  77.637146  65.793633   \n",
       "\n",
       "      Volume  \n",
       "0   58671200  \n",
       "1   98116900  \n",
       "2  103152700  \n",
       "3   79302300  \n",
       "4   64632400  "
      ]
     },
     "execution_count": 6,
     "metadata": {},
     "output_type": "execute_result"
    }
   ],
   "source": [
    "trainSet = pd.read_csv(\n",
    "    'Applied-Deep-Learning-with-Keras/Lesson09/AAPL_train.csv'\n",
    ")\n",
    "trainSet.head()"
   ]
  },
  {
   "cell_type": "code",
   "execution_count": 7,
   "metadata": {},
   "outputs": [
    {
     "data": {
      "text/plain": [
       "array([[ 79.382858],\n",
       "       [ 78.980003],\n",
       "       [ 76.778572],\n",
       "       ...,\n",
       "       [155.839996],\n",
       "       [157.5     ],\n",
       "       [158.529999]])"
      ]
     },
     "execution_count": 7,
     "metadata": {},
     "output_type": "execute_result"
    }
   ],
   "source": [
    "trainSetOpen = trainSet.iloc[:, 1:2].values\n",
    "trainSetOpen"
   ]
  },
  {
   "cell_type": "code",
   "execution_count": 8,
   "metadata": {},
   "outputs": [],
   "source": [
    "from sklearn.preprocessing import MinMaxScaler"
   ]
  },
  {
   "cell_type": "code",
   "execution_count": 9,
   "metadata": {},
   "outputs": [
    {
     "data": {
      "text/plain": [
       "array([[0.05400437],\n",
       "       [0.05148716],\n",
       "       [0.03773165],\n",
       "       ...,\n",
       "       [0.53174205],\n",
       "       [0.54211448],\n",
       "       [0.54855037]])"
      ]
     },
     "execution_count": 9,
     "metadata": {},
     "output_type": "execute_result"
    }
   ],
   "source": [
    "sc = MinMaxScaler(feature_range = (0, 1))\n",
    "trainSetScaled = sc.fit_transform(trainSetOpen)\n",
    "trainSetScaled"
   ]
  },
  {
   "cell_type": "code",
   "execution_count": 10,
   "metadata": {},
   "outputs": [],
   "source": [
    "X_train = []\n",
    "y_train = []\n",
    "\n",
    "for i in range(60, 1258):\n",
    "    X_train.append(trainSetScaled[i - 60:i, 0])\n",
    "    y_train.append(trainSetScaled[i, 0])\n",
    "    \n",
    "X_train = np.array(X_train)\n",
    "y_train = np.array(y_train)"
   ]
  },
  {
   "cell_type": "code",
   "execution_count": 11,
   "metadata": {},
   "outputs": [
    {
     "data": {
      "text/plain": [
       "array([[[0.05400437],\n",
       "        [0.05148716],\n",
       "        [0.03773165],\n",
       "        ...,\n",
       "        [0.04582785],\n",
       "        [0.04002572],\n",
       "        [0.03850823]],\n",
       "\n",
       "       [[0.05148716],\n",
       "        [0.03773165],\n",
       "        [0.04386406],\n",
       "        ...,\n",
       "        [0.04002572],\n",
       "        [0.03850823],\n",
       "        [0.03932056]],\n",
       "\n",
       "       [[0.03773165],\n",
       "        [0.04386406],\n",
       "        [0.03894562],\n",
       "        ...,\n",
       "        [0.03850823],\n",
       "        [0.03932056],\n",
       "        [0.03800839]],\n",
       "\n",
       "       ...,\n",
       "\n",
       "       [[0.98231691],\n",
       "        [0.97794302],\n",
       "        [0.99543867],\n",
       "        ...,\n",
       "        [0.53811549],\n",
       "        [0.48369155],\n",
       "        [0.48462887]],\n",
       "\n",
       "       [[0.97794302],\n",
       "        [0.99543867],\n",
       "        [1.        ],\n",
       "        ...,\n",
       "        [0.48369155],\n",
       "        [0.48462887],\n",
       "        [0.53174205]],\n",
       "\n",
       "       [[0.99543867],\n",
       "        [1.        ],\n",
       "        [0.98237946],\n",
       "        ...,\n",
       "        [0.48462887],\n",
       "        [0.53174205],\n",
       "        [0.54211448]]])"
      ]
     },
     "execution_count": 11,
     "metadata": {},
     "output_type": "execute_result"
    }
   ],
   "source": [
    "X_train = np.reshape(\n",
    "    X_train, (X_train.shape[0], X_train.shape[1],1)\n",
    ")\n",
    "X_train"
   ]
  },
  {
   "cell_type": "code",
   "execution_count": 12,
   "metadata": {},
   "outputs": [],
   "source": [
    "from keras.models import Sequential\n",
    "from keras.layers import Dense, LSTM, Dropout"
   ]
  },
  {
   "cell_type": "code",
   "execution_count": 13,
   "metadata": {},
   "outputs": [],
   "source": [
    "# 교재\n",
    "#model = Sequential()\n",
    "\n",
    "#model.add(LSTM(\n",
    "#    50, return_sequences = True, \n",
    "#        input_shape = (X_train.shape[1], 1)\n",
    "#    )\n",
    "#)\n",
    "#model.add(LSTM(50, return_sequences = True))\n",
    "#model.add(LSTM(50, return_sequences = True))\n",
    "#model.add(LSTM(50))\n",
    "#model.add(Dense(1))"
   ]
  },
  {
   "cell_type": "code",
   "execution_count": 26,
   "metadata": {},
   "outputs": [],
   "source": [
    "model = Sequential()\n",
    "\n",
    "model.add(LSTM(\n",
    "    150, return_sequences = True, \n",
    "        input_shape = (X_train.shape[1], 1)\n",
    "    )\n",
    ")\n",
    "model.add(LSTM(150, return_sequences = True))\n",
    "model.add(LSTM(100, return_sequences = True))\n",
    "model.add(LSTM(100))\n",
    "model.add(Dense(1))"
   ]
  },
  {
   "cell_type": "code",
   "execution_count": 27,
   "metadata": {},
   "outputs": [
    {
     "name": "stdout",
     "output_type": "stream",
     "text": [
      "Epoch 1/100\n",
      "38/38 [==============================] - 3s 81ms/step - loss: 0.0210\n",
      "Epoch 2/100\n",
      "38/38 [==============================] - 3s 81ms/step - loss: 0.0022\n",
      "Epoch 3/100\n",
      "38/38 [==============================] - 3s 80ms/step - loss: 0.0020\n",
      "Epoch 4/100\n",
      "38/38 [==============================] - 3s 81ms/step - loss: 0.0017\n",
      "Epoch 5/100\n",
      "38/38 [==============================] - 3s 81ms/step - loss: 0.0016\n",
      "Epoch 6/100\n",
      "38/38 [==============================] - 3s 82ms/step - loss: 0.0014\n",
      "Epoch 7/100\n",
      "38/38 [==============================] - 3s 82ms/step - loss: 0.0013\n",
      "Epoch 8/100\n",
      "38/38 [==============================] - 3s 82ms/step - loss: 0.0012\n",
      "Epoch 9/100\n",
      "38/38 [==============================] - 3s 81ms/step - loss: 0.0013\n",
      "Epoch 10/100\n",
      "38/38 [==============================] - 3s 81ms/step - loss: 0.0013\n",
      "Epoch 11/100\n",
      "38/38 [==============================] - 3s 80ms/step - loss: 0.0010\n",
      "Epoch 12/100\n",
      "38/38 [==============================] - 3s 79ms/step - loss: 0.0011\n",
      "Epoch 13/100\n",
      "38/38 [==============================] - 3s 81ms/step - loss: 0.0010\n",
      "Epoch 14/100\n",
      "38/38 [==============================] - 3s 80ms/step - loss: 9.7705e-04\n",
      "Epoch 15/100\n",
      "38/38 [==============================] - 3s 80ms/step - loss: 0.0011\n",
      "Epoch 16/100\n",
      "38/38 [==============================] - 3s 79ms/step - loss: 8.4033e-04\n",
      "Epoch 17/100\n",
      "38/38 [==============================] - 3s 81ms/step - loss: 8.1912e-04\n",
      "Epoch 18/100\n",
      "38/38 [==============================] - 3s 81ms/step - loss: 9.0163e-04\n",
      "Epoch 19/100\n",
      "38/38 [==============================] - 3s 80ms/step - loss: 9.3295e-04\n",
      "Epoch 20/100\n",
      "38/38 [==============================] - 3s 82ms/step - loss: 7.7267e-04\n",
      "Epoch 21/100\n",
      "38/38 [==============================] - 3s 81ms/step - loss: 7.8590e-04\n",
      "Epoch 22/100\n",
      "38/38 [==============================] - 3s 80ms/step - loss: 7.3278e-04\n",
      "Epoch 23/100\n",
      "38/38 [==============================] - 3s 81ms/step - loss: 8.4275e-04\n",
      "Epoch 24/100\n",
      "38/38 [==============================] - 3s 80ms/step - loss: 7.0744e-04\n",
      "Epoch 25/100\n",
      "38/38 [==============================] - 3s 81ms/step - loss: 5.6379e-04\n",
      "Epoch 26/100\n",
      "38/38 [==============================] - 3s 81ms/step - loss: 8.0294e-04\n",
      "Epoch 27/100\n",
      "38/38 [==============================] - 3s 81ms/step - loss: 7.1641e-04\n",
      "Epoch 28/100\n",
      "38/38 [==============================] - 3s 80ms/step - loss: 6.3254e-04\n",
      "Epoch 29/100\n",
      "38/38 [==============================] - 3s 80ms/step - loss: 4.7897e-04\n",
      "Epoch 30/100\n",
      "38/38 [==============================] - 3s 80ms/step - loss: 5.3388e-04\n",
      "Epoch 31/100\n",
      "38/38 [==============================] - 3s 80ms/step - loss: 6.8441e-04\n",
      "Epoch 32/100\n",
      "38/38 [==============================] - 3s 79ms/step - loss: 5.1312e-04\n",
      "Epoch 33/100\n",
      "38/38 [==============================] - 3s 79ms/step - loss: 7.2486e-04\n",
      "Epoch 34/100\n",
      "38/38 [==============================] - 3s 79ms/step - loss: 4.6489e-04\n",
      "Epoch 35/100\n",
      "38/38 [==============================] - 3s 80ms/step - loss: 6.0077e-04\n",
      "Epoch 36/100\n",
      "38/38 [==============================] - 3s 80ms/step - loss: 4.3878e-04\n",
      "Epoch 37/100\n",
      "38/38 [==============================] - 3s 80ms/step - loss: 4.0802e-04\n",
      "Epoch 38/100\n",
      "38/38 [==============================] - 3s 80ms/step - loss: 4.4579e-04\n",
      "Epoch 39/100\n",
      "38/38 [==============================] - 3s 79ms/step - loss: 4.0969e-04\n",
      "Epoch 40/100\n",
      "38/38 [==============================] - 3s 80ms/step - loss: 3.5406e-04\n",
      "Epoch 41/100\n",
      "38/38 [==============================] - 3s 79ms/step - loss: 3.4252e-04\n",
      "Epoch 42/100\n",
      "38/38 [==============================] - 3s 79ms/step - loss: 3.9635e-04\n",
      "Epoch 43/100\n",
      "38/38 [==============================] - 3s 79ms/step - loss: 3.9374e-04\n",
      "Epoch 44/100\n",
      "38/38 [==============================] - 3s 80ms/step - loss: 3.4075e-04\n",
      "Epoch 45/100\n",
      "38/38 [==============================] - 3s 79ms/step - loss: 5.0195e-04\n",
      "Epoch 46/100\n",
      "38/38 [==============================] - 3s 80ms/step - loss: 3.2435e-04\n",
      "Epoch 47/100\n",
      "38/38 [==============================] - 3s 80ms/step - loss: 4.0544e-04\n",
      "Epoch 48/100\n",
      "38/38 [==============================] - 3s 79ms/step - loss: 3.3868e-04\n",
      "Epoch 49/100\n",
      "38/38 [==============================] - 3s 77ms/step - loss: 3.2714e-04\n",
      "Epoch 50/100\n",
      "38/38 [==============================] - 3s 79ms/step - loss: 4.3431e-04\n",
      "Epoch 51/100\n",
      "38/38 [==============================] - 3s 79ms/step - loss: 3.5422e-04\n",
      "Epoch 52/100\n",
      "38/38 [==============================] - 3s 78ms/step - loss: 3.3171e-04\n",
      "Epoch 53/100\n",
      "38/38 [==============================] - 3s 79ms/step - loss: 3.6695e-04\n",
      "Epoch 54/100\n",
      "38/38 [==============================] - 3s 79ms/step - loss: 2.6869e-04\n",
      "Epoch 55/100\n",
      "38/38 [==============================] - 3s 80ms/step - loss: 3.1487e-04\n",
      "Epoch 56/100\n",
      "38/38 [==============================] - 3s 80ms/step - loss: 2.8056e-04\n",
      "Epoch 57/100\n",
      "38/38 [==============================] - 3s 80ms/step - loss: 2.7302e-04\n",
      "Epoch 58/100\n",
      "38/38 [==============================] - 3s 78ms/step - loss: 4.4062e-04\n",
      "Epoch 59/100\n",
      "38/38 [==============================] - 3s 79ms/step - loss: 2.4699e-04\n",
      "Epoch 60/100\n",
      "38/38 [==============================] - 3s 80ms/step - loss: 2.9405e-04\n",
      "Epoch 61/100\n",
      "38/38 [==============================] - 3s 81ms/step - loss: 2.7554e-04\n",
      "Epoch 62/100\n",
      "38/38 [==============================] - 3s 80ms/step - loss: 2.9721e-04\n",
      "Epoch 63/100\n",
      "38/38 [==============================] - 3s 80ms/step - loss: 2.9607e-04\n",
      "Epoch 64/100\n",
      "38/38 [==============================] - 3s 81ms/step - loss: 3.0572e-04\n",
      "Epoch 65/100\n",
      "38/38 [==============================] - 3s 79ms/step - loss: 4.0471e-04\n",
      "Epoch 66/100\n",
      "38/38 [==============================] - 3s 79ms/step - loss: 3.1971e-04\n",
      "Epoch 67/100\n",
      "38/38 [==============================] - 3s 80ms/step - loss: 4.2214e-04\n",
      "Epoch 68/100\n",
      "38/38 [==============================] - 3s 80ms/step - loss: 3.3713e-04\n",
      "Epoch 69/100\n",
      "38/38 [==============================] - 3s 79ms/step - loss: 2.8579e-04\n",
      "Epoch 70/100\n",
      "38/38 [==============================] - 3s 80ms/step - loss: 2.9012e-04\n",
      "Epoch 71/100\n",
      "38/38 [==============================] - 3s 80ms/step - loss: 2.6449e-04\n",
      "Epoch 72/100\n",
      "38/38 [==============================] - 3s 80ms/step - loss: 2.5329e-04\n",
      "Epoch 73/100\n",
      "38/38 [==============================] - 3s 80ms/step - loss: 2.8073e-04\n",
      "Epoch 74/100\n",
      "38/38 [==============================] - 3s 79ms/step - loss: 2.4580e-04\n",
      "Epoch 75/100\n",
      "38/38 [==============================] - 3s 80ms/step - loss: 3.3228e-04\n",
      "Epoch 76/100\n",
      "38/38 [==============================] - 3s 79ms/step - loss: 2.5952e-04\n",
      "Epoch 77/100\n",
      "38/38 [==============================] - 3s 80ms/step - loss: 2.4677e-04\n",
      "Epoch 78/100\n",
      "38/38 [==============================] - 3s 81ms/step - loss: 3.2386e-04\n",
      "Epoch 79/100\n",
      "38/38 [==============================] - 3s 79ms/step - loss: 2.8370e-04\n",
      "Epoch 80/100\n",
      "38/38 [==============================] - 3s 80ms/step - loss: 2.8857e-04\n",
      "Epoch 81/100\n",
      "38/38 [==============================] - 3s 79ms/step - loss: 3.2857e-04\n",
      "Epoch 82/100\n",
      "38/38 [==============================] - 3s 80ms/step - loss: 2.3996e-04\n",
      "Epoch 83/100\n",
      "38/38 [==============================] - 3s 79ms/step - loss: 2.7969e-04\n",
      "Epoch 84/100\n",
      "38/38 [==============================] - 3s 79ms/step - loss: 3.1636e-04\n",
      "Epoch 85/100\n",
      "38/38 [==============================] - 3s 80ms/step - loss: 2.6516e-04\n",
      "Epoch 86/100\n",
      "38/38 [==============================] - 3s 80ms/step - loss: 3.0182e-04\n",
      "Epoch 87/100\n",
      "38/38 [==============================] - 3s 81ms/step - loss: 2.7013e-04\n",
      "Epoch 88/100\n",
      "38/38 [==============================] - 3s 79ms/step - loss: 2.7261e-04\n",
      "Epoch 89/100\n",
      "38/38 [==============================] - 3s 80ms/step - loss: 4.9763e-04\n",
      "Epoch 90/100\n",
      "38/38 [==============================] - 3s 80ms/step - loss: 2.6276e-04\n",
      "Epoch 91/100\n",
      "38/38 [==============================] - 3s 79ms/step - loss: 2.5034e-04\n",
      "Epoch 92/100\n",
      "38/38 [==============================] - 3s 80ms/step - loss: 2.4935e-04\n",
      "Epoch 93/100\n",
      "38/38 [==============================] - 3s 80ms/step - loss: 2.4158e-04\n",
      "Epoch 94/100\n",
      "38/38 [==============================] - 3s 80ms/step - loss: 2.6795e-04\n",
      "Epoch 95/100\n",
      "38/38 [==============================] - 3s 80ms/step - loss: 2.8379e-04\n",
      "Epoch 96/100\n",
      "38/38 [==============================] - 3s 80ms/step - loss: 2.7149e-04\n",
      "Epoch 97/100\n"
     ]
    },
    {
     "name": "stdout",
     "output_type": "stream",
     "text": [
      "38/38 [==============================] - 3s 79ms/step - loss: 2.9086e-04\n",
      "Epoch 98/100\n",
      "38/38 [==============================] - 3s 80ms/step - loss: 2.8702e-04\n",
      "Epoch 99/100\n",
      "38/38 [==============================] - 3s 80ms/step - loss: 2.2730e-04\n",
      "Epoch 100/100\n",
      "38/38 [==============================] - 3s 79ms/step - loss: 2.9812e-04\n"
     ]
    },
    {
     "data": {
      "text/plain": [
       "<tensorflow.python.keras.callbacks.History at 0x7f108466b890>"
      ]
     },
     "execution_count": 27,
     "metadata": {},
     "output_type": "execute_result"
    }
   ],
   "source": [
    "model.compile(\n",
    "    optimizer = 'adam',\n",
    "    loss = 'mean_squared_error'\n",
    ")\n",
    "model.fit(\n",
    "    X_train, y_train, epochs = 100, batch_size = 32\n",
    ")"
   ]
  },
  {
   "cell_type": "code",
   "execution_count": 28,
   "metadata": {},
   "outputs": [
    {
     "data": {
      "text/html": [
       "<div>\n",
       "<style scoped>\n",
       "    .dataframe tbody tr th:only-of-type {\n",
       "        vertical-align: middle;\n",
       "    }\n",
       "\n",
       "    .dataframe tbody tr th {\n",
       "        vertical-align: top;\n",
       "    }\n",
       "\n",
       "    .dataframe thead th {\n",
       "        text-align: right;\n",
       "    }\n",
       "</style>\n",
       "<table border=\"1\" class=\"dataframe\">\n",
       "  <thead>\n",
       "    <tr style=\"text-align: right;\">\n",
       "      <th></th>\n",
       "      <th>Date</th>\n",
       "      <th>Open</th>\n",
       "      <th>High</th>\n",
       "      <th>Low</th>\n",
       "      <th>Close</th>\n",
       "      <th>Adj Close</th>\n",
       "      <th>Volume</th>\n",
       "    </tr>\n",
       "  </thead>\n",
       "  <tbody>\n",
       "    <tr>\n",
       "      <th>0</th>\n",
       "      <td>02-01-2019</td>\n",
       "      <td>154.889999</td>\n",
       "      <td>158.850006</td>\n",
       "      <td>154.229996</td>\n",
       "      <td>157.919998</td>\n",
       "      <td>157.245605</td>\n",
       "      <td>37039700</td>\n",
       "    </tr>\n",
       "    <tr>\n",
       "      <th>1</th>\n",
       "      <td>03-01-2019</td>\n",
       "      <td>143.979996</td>\n",
       "      <td>145.720001</td>\n",
       "      <td>142.000000</td>\n",
       "      <td>142.190002</td>\n",
       "      <td>141.582779</td>\n",
       "      <td>91244100</td>\n",
       "    </tr>\n",
       "    <tr>\n",
       "      <th>2</th>\n",
       "      <td>04-01-2019</td>\n",
       "      <td>144.529999</td>\n",
       "      <td>148.550003</td>\n",
       "      <td>143.800003</td>\n",
       "      <td>148.259995</td>\n",
       "      <td>147.626846</td>\n",
       "      <td>58607100</td>\n",
       "    </tr>\n",
       "    <tr>\n",
       "      <th>3</th>\n",
       "      <td>07-01-2019</td>\n",
       "      <td>148.699997</td>\n",
       "      <td>148.830002</td>\n",
       "      <td>145.899994</td>\n",
       "      <td>147.929993</td>\n",
       "      <td>147.298264</td>\n",
       "      <td>54777800</td>\n",
       "    </tr>\n",
       "    <tr>\n",
       "      <th>4</th>\n",
       "      <td>08-01-2019</td>\n",
       "      <td>149.559998</td>\n",
       "      <td>151.820007</td>\n",
       "      <td>148.520004</td>\n",
       "      <td>150.750000</td>\n",
       "      <td>150.106216</td>\n",
       "      <td>41025300</td>\n",
       "    </tr>\n",
       "  </tbody>\n",
       "</table>\n",
       "</div>"
      ],
      "text/plain": [
       "         Date        Open        High         Low       Close   Adj Close  \\\n",
       "0  02-01-2019  154.889999  158.850006  154.229996  157.919998  157.245605   \n",
       "1  03-01-2019  143.979996  145.720001  142.000000  142.190002  141.582779   \n",
       "2  04-01-2019  144.529999  148.550003  143.800003  148.259995  147.626846   \n",
       "3  07-01-2019  148.699997  148.830002  145.899994  147.929993  147.298264   \n",
       "4  08-01-2019  149.559998  151.820007  148.520004  150.750000  150.106216   \n",
       "\n",
       "     Volume  \n",
       "0  37039700  \n",
       "1  91244100  \n",
       "2  58607100  \n",
       "3  54777800  \n",
       "4  41025300  "
      ]
     },
     "execution_count": 28,
     "metadata": {},
     "output_type": "execute_result"
    }
   ],
   "source": [
    "testSet = pd.read_csv(\n",
    "    'Applied-Deep-Learning-with-Keras/Lesson09/AAPL_test.csv'\n",
    ")\n",
    "testSet.head()"
   ]
  },
  {
   "cell_type": "code",
   "execution_count": 29,
   "metadata": {},
   "outputs": [
    {
     "data": {
      "text/plain": [
       "array([[154.889999],\n",
       "       [143.979996],\n",
       "       [144.529999],\n",
       "       [148.699997],\n",
       "       [149.559998],\n",
       "       [151.289993],\n",
       "       [152.5     ],\n",
       "       [152.880005],\n",
       "       [150.850006],\n",
       "       [150.270004],\n",
       "       [153.080002],\n",
       "       [154.199997],\n",
       "       [157.5     ],\n",
       "       [156.410004],\n",
       "       [154.149994],\n",
       "       [154.110001],\n",
       "       [155.479996],\n",
       "       [155.789993],\n",
       "       [156.25    ],\n",
       "       [163.25    ],\n",
       "       [166.110001]])"
      ]
     },
     "execution_count": 29,
     "metadata": {},
     "output_type": "execute_result"
    }
   ],
   "source": [
    "actualStock = testSet.iloc[:, 1:2].values\n",
    "actualStock"
   ]
  },
  {
   "cell_type": "code",
   "execution_count": 30,
   "metadata": {},
   "outputs": [],
   "source": [
    "total = pd.concat(\n",
    "    (trainSet['Open'], testSet['Open']),\n",
    "    axis = 0\n",
    ")"
   ]
  },
  {
   "cell_type": "code",
   "execution_count": 31,
   "metadata": {},
   "outputs": [],
   "source": [
    "input = total[len(total) - len(testSet) - 60:].values\n",
    "input = input.reshape(-1, 1)\n",
    "input = sc.transform(input)\n",
    "\n",
    "X_test = []\n",
    "\n",
    "for i in range(60, 81):\n",
    "    X_test.append(input[i - 60:i, 0])\n",
    "    \n",
    "X_test = np.array(X_test)\n",
    "X_test = np.reshape(\n",
    "    X_test,\n",
    "    (X_test.shape[0], X_test.shape[1], 1)\n",
    ")\n",
    "\n",
    "predictedStock = model.predict(X_test)\n",
    "predictedStock = sc.inverse_transform(predictedStock)"
   ]
  },
  {
   "cell_type": "code",
   "execution_count": 32,
   "metadata": {},
   "outputs": [
    {
     "data": {
      "image/png": "[encoded data removed]",
      "text/plain": [
       "<Figure size 432x288 with 1 Axes>"
      ]
     },
     "metadata": {
      "needs_background": "light"
     },
     "output_type": "display_data"
    }
   ],
   "source": [
    "plt.plot(\n",
    "    actualStock, color = 'green',\n",
    "    label = 'Real Apple Stock', ls = '--'\n",
    ")\n",
    "plt.plot(\n",
    "    predictedStock, color = 'red',\n",
    "    label = 'Predicted Apple Stock', ls = '-'\n",
    ")\n",
    "plt.title('Predicted Stock Price')\n",
    "plt.xlabel('Time in days')\n",
    "plt.ylabel('Real Stock Price')\n",
    "plt.legend()\n",
    "plt.show()"
   ]
  },
  {
   "cell_type": "code",
   "execution_count": null,
   "metadata": {},
   "outputs": [],
   "source": []
  },
  {
   "cell_type": "code",
   "execution_count": null,
   "metadata": {},
   "outputs": [],
   "source": []
  },
  {
   "cell_type": "code",
   "execution_count": null,
   "metadata": {},
   "outputs": [],
   "source": []
  },
  {
   "cell_type": "code",
   "execution_count": null,
   "metadata": {},
   "outputs": [],
   "source": []
  },
  {
   "cell_type": "code",
   "execution_count": null,
   "metadata": {},
   "outputs": [],
   "source": []
  },
  {
   "cell_type": "code",
   "execution_count": null,
   "metadata": {},
   "outputs": [],
   "source": []
  },
  {
   "cell_type": "code",
   "execution_count": null,
   "metadata": {},
   "outputs": [],
   "source": []
  },
  {
   "cell_type": "code",
   "execution_count": null,
   "metadata": {},
   "outputs": [],
   "source": []
  },
  {
   "cell_type": "code",
   "execution_count": null,
   "metadata": {},
   "outputs": [],
   "source": []
  },
  {
   "cell_type": "code",
   "execution_count": null,
   "metadata": {},
   "outputs": [],
   "source": []
  },
  {
   "cell_type": "code",
   "execution_count": null,
   "metadata": {},
   "outputs": [],
   "source": []
  },
  {
   "cell_type": "code",
   "execution_count": null,
   "metadata": {},
   "outputs": [],
   "source": []
  },
  {
   "cell_type": "code",
   "execution_count": null,
   "metadata": {},
   "outputs": [],
   "source": []
  },
  {
   "cell_type": "code",
   "execution_count": null,
   "metadata": {},
   "outputs": [],
   "source": []
  },
  {
   "cell_type": "code",
   "execution_count": null,
   "metadata": {},
   "outputs": [],
   "source": []
  },
  {
   "cell_type": "code",
   "execution_count": null,
   "metadata": {},
   "outputs": [],
   "source": []
  }
 ],
 "metadata": {
  "kernelspec": {
   "display_name": "Python 3",
   "language": "python",
   "name": "python3"
  },
  "language_info": {
   "codemirror_mode": {
    "name": "ipython",
    "version": 3
   },
   "file_extension": ".py",
   "mimetype": "text/x-python",
   "name": "python",
   "nbconvert_exporter": "python",
   "pygments_lexer": "ipython3",
   "version": "3.7.6"
  }
 },
 "nbformat": 4,
 "nbformat_minor": 4
}
