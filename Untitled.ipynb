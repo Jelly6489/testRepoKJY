{
 "cells": [
  {
   "cell_type": "code",
   "execution_count": 1,
   "metadata": {},
   "outputs": [
    {
     "name": "stdout",
     "output_type": "stream",
     "text": [
      "으어어어\n"
     ]
    }
   ],
   "source": [
    "print(\"으어어어\")"
   ]
  },
  {
   "cell_type": "code",
   "execution_count": null,
   "metadata": {},
   "outputs": [],
   "source": [
    "# 나만의 git 저장소를 가져보도록 하자!\n",
    "# 1. Github에 접속한다.\n",
    "# 2. 로그인하고 접속하면 Repositories에 New가 있고 이것을 누른다.\n",
    "# 3. 맨 위쪽에 Repository Name과 Description을 작성한다.\n",
    "# 4. 아래쪽의 .gitignore를 설정해주고 라이센스를 선택한다.\n",
    "#    회사에서 라이센스 선택시 회의가 필요하므로 이런 작업을 할 일이 있다면\n",
    "#    반드시 먼저 상사에게 보고를 하고 진행하도록 한다.\n",
    "# 5. Create Repository를 눌러서 저장소를 생성한다.\n",
    "# 6. 초록색 버튼 Code에 보면 Clone이 있다.\n",
    "#    해당 URL을 전부 복사한다.\n",
    "# 7. 먼저 저장소의 기본 위치를 선택한다.\n",
    "#    cd ~\n",
    "#    cd proj\n",
    "#    홈 디렉토리 밑에 proj에 진입하게 된다.\n",
    "# 8. git clone '가져오고 싶은 저장소 이름'\n",
    "#    (홑 따옴표 필요 없음)\n",
    "# 9. 작업할 저장소로 위치를 이동한다.\n",
    "# 10. 해당 위치에서 jupyter notebook을 입력한다.\n",
    "# 11. 그러면 웹 브라우저에 쥬피터가 실행될 것이고\n",
    "#     여기서 기존에 파이썬 작업을 하듯이 파일을 작성하면 된다.\n",
    "# 12. git status - 현재 추적되지 않고 있는 파일을 볼 수 있다.\n",
    "# 13. 추적이 되지 않으므로 해당 파일을 추적하고 싶다면\n",
    "#     git add를 통해 파일을 추적할 수 있게 만들어준다.\n",
    "#     정말 잘 추적이 되는지 확인하기 위해\n",
    "#     github에 있는 저장소 원본으로 이동해서 추적되지 않음을 확인한다.\n",
    "#     git add '추적할 파일명 혹은 디렉토리 전체도 가능'\n",
    "# 14. git status를 입력하면 추적이 됨을 알리는 초록색 파일로 나타난다.\n",
    "#     그리고 commit 하라는 메시지가 같이 올라온다.\n",
    "# 15. git push origin master\n",
    "#     커밋된 내용을 모두 master(원격 저장소:원본)에 갱신한다.\n",
    "# *** 만약 위의 명령을 쳤는데 config --global 나오면\n",
    "#     해당 명령으로 email 주소와 name을 등록하면 된다.\n",
    "#     git config --global user.name \"git 이름 및 별명\"\n",
    "#     git config --global user.email \"깃 가입시 사용한 이메일 주소\""
   ]
  }
 ],
 "metadata": {
  "kernelspec": {
   "display_name": "Python 3",
   "language": "python",
   "name": "python3"
  },
  "language_info": {
   "codemirror_mode": {
    "name": "ipython",
    "version": 3
   },
   "file_extension": ".py",
   "mimetype": "text/x-python",
   "name": "python",
   "nbconvert_exporter": "python",
   "pygments_lexer": "ipython3",
   "version": "3.7.6"
  }
 },
 "nbformat": 4,
 "nbformat_minor": 4
}
