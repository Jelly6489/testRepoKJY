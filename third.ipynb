{
 "cells": [
  {
   "cell_type": "code",
   "execution_count": 1,
   "metadata": {},
   "outputs": [
    {
     "name": "stdout",
     "output_type": "stream",
     "text": [
      "으어어어엉\n"
     ]
    }
   ],
   "source": [
    "print('으어어어엉')"
   ]
  },
  {
   "cell_type": "code",
   "execution_count": 2,
   "metadata": {},
   "outputs": [
    {
     "data": {
      "text/plain": [
       "array([ 1,  2,  3,  4,  5,  6,  7,  8,  9, 10])"
      ]
     },
     "execution_count": 2,
     "metadata": {},
     "output_type": "execute_result"
    }
   ],
   "source": [
    "import numpy as np\n",
    "vec1 = np.array([1, 2, 3, 4, 5, 6 ,7 ,8, 9, 10])\n",
    "vec1"
   ]
  },
  {
   "cell_type": "code",
   "execution_count": 3,
   "metadata": {},
   "outputs": [
    {
     "name": "stdout",
     "output_type": "stream",
     "text": [
      "[ 1  2  3  4  5  6  7  8  9 10]\n"
     ]
    }
   ],
   "source": [
    "vec1 = np.arange(1, 11)\n",
    "print(vec1)"
   ]
  },
  {
   "cell_type": "code",
   "execution_count": 20,
   "metadata": {},
   "outputs": [
    {
     "name": "stdout",
     "output_type": "stream",
     "text": [
      "[[ 1  2  3]\n",
      " [ 4  5  6]\n",
      " [ 7  8  9]\n",
      " [10 11 12]]\n",
      "(4, 3)\n"
     ]
    }
   ],
   "source": [
    "mat1 = np.array([\n",
    "    [ 1,  2,  3],\n",
    "    [ 4,  5,  6],\n",
    "    [ 7,  8,  9],\n",
    "    [10, 11, 12]\n",
    "])\n",
    "print(mat1)\n",
    "print(mat1.shape)"
   ]
  },
  {
   "cell_type": "code",
   "execution_count": 5,
   "metadata": {},
   "outputs": [
    {
     "name": "stdout",
     "output_type": "stream",
     "text": [
      "[[ 1  2  3]\n",
      " [ 4  5  6]\n",
      " [ 7  8  9]\n",
      " [10 11 12]]\n"
     ]
    }
   ],
   "source": [
    "mat2 = np.matrix([\n",
    "    [ 1,  2,  3],\n",
    "    [ 4,  5,  6],\n",
    "    [ 7,  8,  9],\n",
    "    [10, 11, 12]\n",
    "])\n",
    "print(mat2)"
   ]
  },
  {
   "cell_type": "code",
   "execution_count": 6,
   "metadata": {},
   "outputs": [
    {
     "name": "stdout",
     "output_type": "stream",
     "text": [
      "[[[ 1  2  3]\n",
      "  [ 3  4  6]]\n",
      "\n",
      " [[ 7  8  9]\n",
      "  [10 11 12]]]\n"
     ]
    }
   ],
   "source": [
    "ten1 = np.array([\n",
    "    [\n",
    "        [ 1,  2,  3],\n",
    "        [ 3,  4,  6]\n",
    "    ],\n",
    "    [\n",
    "        [ 7,  8,  9],\n",
    "        [10, 11, 12]\n",
    "    ]\n",
    "])\n",
    "print(ten1)"
   ]
  },
  {
   "cell_type": "code",
   "execution_count": 7,
   "metadata": {},
   "outputs": [
    {
     "name": "stdout",
     "output_type": "stream",
     "text": [
      "[[ 4  5  6]\n",
      " [ 7  8  9]\n",
      " [10 11 12]]\n",
      "(3, 3)\n",
      "[[1 2 3]\n",
      " [4 5 6]\n",
      " [7 8 9]]\n",
      "(3, 3)\n"
     ]
    }
   ],
   "source": [
    "mat3 = np.array([\n",
    "    [ 4,  5,  6],\n",
    "    [ 7,  8,  9],\n",
    "    [10, 11, 12]\n",
    "])\n",
    "\n",
    "print(mat3)\n",
    "print(mat3.shape)\n",
    "\n",
    "mat4 = np.array([\n",
    "    [ 1,  2,  3],\n",
    "    [ 4,  5,  6],\n",
    "    [ 7,  8,  9]\n",
    "])\n",
    "\n",
    "print(mat4)\n",
    "print(mat4.shape)"
   ]
  },
  {
   "cell_type": "code",
   "execution_count": 8,
   "metadata": {},
   "outputs": [
    {
     "name": "stdout",
     "output_type": "stream",
     "text": [
      "[[  4  10  18]\n",
      " [ 28  40  54]\n",
      " [ 70  88 108]]\n"
     ]
    }
   ],
   "source": [
    "mat5 = mat3 * mat4\n",
    "print(mat5)"
   ]
  },
  {
   "cell_type": "code",
   "execution_count": 9,
   "metadata": {},
   "outputs": [],
   "source": [
    "# 행렬 연산의 규칙\n",
    "# 행렬의 행과 열로 구성된다.\n",
    "# 행렬의 곱셈을 수행하기 위한 최소한의 규칙\n",
    "# m by n 행렬을 곱하려면 n by x가 되어야 한다.\n",
    "# 두 행렬의 곱셈 결과는 m by x가 된다."
   ]
  },
  {
   "cell_type": "code",
   "execution_count": 10,
   "metadata": {},
   "outputs": [
    {
     "name": "stdout",
     "output_type": "stream",
     "text": [
      "[[ 1  4  7 10]\n",
      " [ 2  5  8 11]\n",
      " [ 3  6  9 12]]\n",
      "[[ 1  2  3]\n",
      " [ 4  5  6]\n",
      " [ 7  8  9]\n",
      " [10 11 12]]\n"
     ]
    }
   ],
   "source": [
    "# 전치 행렬 = 행과 열의 위치를 바꾼다.\n",
    "print(mat1.T)\n",
    "print(mat1)"
   ]
  },
  {
   "cell_type": "code",
   "execution_count": 11,
   "metadata": {},
   "outputs": [
    {
     "name": "stdout",
     "output_type": "stream",
     "text": [
      "[[166 188 210]\n",
      " [188 214 240]\n",
      " [210 240 270]]\n"
     ]
    }
   ],
   "source": [
    "# 3 by 4 * 4 by 3 => 3 by 3\n",
    "mat5 = mat1.T * mat2\n",
    "print(mat5)"
   ]
  },
  {
   "cell_type": "code",
   "execution_count": 12,
   "metadata": {},
   "outputs": [
    {
     "name": "stdout",
     "output_type": "stream",
     "text": [
      "[[ 14  32  50  68]\n",
      " [ 32  77 122 167]\n",
      " [ 50 122 194 266]\n",
      " [ 68 167 266 365]]\n"
     ]
    }
   ],
   "source": [
    "# 4 by 3 *3 by 4 => 4 by 4\n",
    "mat5 = mat1 * mat2.T\n",
    "print(mat5)"
   ]
  },
  {
   "cell_type": "code",
   "execution_count": 13,
   "metadata": {},
   "outputs": [
    {
     "name": "stdout",
     "output_type": "stream",
     "text": [
      "(10,)\n"
     ]
    }
   ],
   "source": [
    "print(vec1.shape)"
   ]
  },
  {
   "cell_type": "code",
   "execution_count": 14,
   "metadata": {},
   "outputs": [
    {
     "name": "stdout",
     "output_type": "stream",
     "text": [
      "[[ 0  2  4]\n",
      " [ 6  8 10]]\n",
      "(2, 3)\n"
     ]
    }
   ],
   "source": [
    "smartMat = np.arange(0, 11, 2).reshape((2, 3)) #(시작, 끝, 개수)\n",
    "\n",
    "print(smartMat)\n",
    "print(smartMat.shape)"
   ]
  },
  {
   "cell_type": "code",
   "execution_count": 15,
   "metadata": {},
   "outputs": [
    {
     "name": "stdout",
     "output_type": "stream",
     "text": [
      "[[ 5  6  7]\n",
      " [ 8  9 10]\n",
      " [11 12 13]\n",
      " [14 15 16]]\n"
     ]
    }
   ],
   "source": [
    "test = mat1 + 4\n",
    "\n",
    "print(test)"
   ]
  },
  {
   "cell_type": "code",
   "execution_count": 16,
   "metadata": {},
   "outputs": [
    {
     "name": "stdout",
     "output_type": "stream",
     "text": [
      "[[ 1  2  3  4]\n",
      " [ 5  6  7  8]\n",
      " [ 9 10 11 12]]\n",
      "(3, 4)\n"
     ]
    }
   ],
   "source": [
    "smartMat2 = np.arange(1, 13).reshape((3, 4))\n",
    "\n",
    "print(smartMat2)\n",
    "print(smartMat2.shape)"
   ]
  },
  {
   "cell_type": "code",
   "execution_count": 17,
   "metadata": {},
   "outputs": [
    {
     "name": "stdout",
     "output_type": "stream",
     "text": [
      "(4, 3)\n"
     ]
    }
   ],
   "source": [
    "print(mat1.shape)"
   ]
  },
  {
   "cell_type": "code",
   "execution_count": 18,
   "metadata": {},
   "outputs": [
    {
     "name": "stdout",
     "output_type": "stream",
     "text": [
      "4\n",
      "3\n"
     ]
    }
   ],
   "source": [
    "print(mat1.shape[0])\n",
    "print(mat1.shape[1])"
   ]
  },
  {
   "cell_type": "code",
   "execution_count": 21,
   "metadata": {},
   "outputs": [
    {
     "ename": "ValueError",
     "evalue": "cannot reshape array of size 12 into shape (4,)",
     "output_type": "error",
     "traceback": [
      "\u001b[0;31m---------------------------------------------------------------------------\u001b[0m",
      "\u001b[0;31mValueError\u001b[0m                                Traceback (most recent call last)",
      "\u001b[0;32m<ipython-input-21-965d45545170>\u001b[0m in \u001b[0;36m<module>\u001b[0;34m\u001b[0m\n\u001b[1;32m      1\u001b[0m \u001b[0;31m# 차원 변환이 필요한 경우가 있음 - 가우스-조르단 소거법\u001b[0m\u001b[0;34m\u001b[0m\u001b[0;34m\u001b[0m\u001b[0;34m\u001b[0m\u001b[0m\n\u001b[0;32m----> 2\u001b[0;31m \u001b[0mmat1\u001b[0m \u001b[0;34m=\u001b[0m \u001b[0mmat1\u001b[0m\u001b[0;34m.\u001b[0m\u001b[0mreshape\u001b[0m\u001b[0;34m(\u001b[0m\u001b[0mlen\u001b[0m\u001b[0;34m(\u001b[0m\u001b[0mmat1\u001b[0m\u001b[0;34m)\u001b[0m\u001b[0;34m)\u001b[0m\u001b[0;34m\u001b[0m\u001b[0;34m\u001b[0m\u001b[0m\n\u001b[0m\u001b[1;32m      3\u001b[0m \u001b[0;34m\u001b[0m\u001b[0m\n\u001b[1;32m      4\u001b[0m \u001b[0mprint\u001b[0m\u001b[0;34m(\u001b[0m\u001b[0mmat1\u001b[0m\u001b[0;34m)\u001b[0m\u001b[0;34m\u001b[0m\u001b[0;34m\u001b[0m\u001b[0m\n",
      "\u001b[0;31mValueError\u001b[0m: cannot reshape array of size 12 into shape (4,)"
     ]
    }
   ],
   "source": [
    "# 차원 변환이 필요한 경우가 있음 - 가우스-조르단 소거법\n",
    "mat1 = mat1.reshape(len(mat1))\n",
    "\n",
    "print(mat1)"
   ]
  },
  {
   "cell_type": "code",
   "execution_count": 22,
   "metadata": {},
   "outputs": [
    {
     "name": "stdout",
     "output_type": "stream",
     "text": [
      "[[[ 1  2]\n",
      "  [ 3  4]]\n",
      "\n",
      " [[ 5  6]\n",
      "  [ 7  8]]\n",
      "\n",
      " [[ 9 10]\n",
      "  [11 12]]]\n"
     ]
    }
   ],
   "source": [
    "# 텐서를 해석하는 방법\n",
    "# 맨 앞의 숫자가 큰 집합의 개수를 의미함\n",
    "# 뒤쪽의 2개는 행렬의 모양을 의미\n",
    "# 즉 뒤쪽에 2개를 통해 행렬의 모양을 잡고\n",
    "# 맨 앞의 숫자를 통해 해당 행렬이 몇 개 있는지 파악하면 된다.\n",
    "mat1 = mat1.reshape((3, 2, 2))\n",
    "\n",
    "print(mat1)"
   ]
  },
  {
   "cell_type": "code",
   "execution_count": 23,
   "metadata": {},
   "outputs": [
    {
     "name": "stdout",
     "output_type": "stream",
     "text": [
      "[[[ 1  2]\n",
      "  [ 3  4]]\n",
      "\n",
      " [[ 5  6]\n",
      "  [ 7  8]]\n",
      "\n",
      " [[ 9 10]\n",
      "  [11 12]]]\n"
     ]
    }
   ],
   "source": [
    "ten2 = mat1.reshape((3, 2, 2))\n",
    "\n",
    "print(ten2)"
   ]
  },
  {
   "cell_type": "code",
   "execution_count": 24,
   "metadata": {},
   "outputs": [
    {
     "name": "stdout",
     "output_type": "stream",
     "text": [
      "[[[1 2 3]\n",
      "  [4 5 6]]\n",
      "\n",
      " [[2 3 4]\n",
      "  [5 6 7]]]\n",
      "(3, 2, 2)\n"
     ]
    }
   ],
   "source": [
    "ret = np.matrix(np.arange(1, 7)).reshape((2, 3))\n",
    "ret2 = np.matrix(np.arange(2, 8)).reshape((2, 3))\n",
    "ten3 = np.array([\n",
    "    ret, ret2\n",
    "])\n",
    "\n",
    "print(ten3)\n",
    "print(ten3.T.shape)"
   ]
  },
  {
   "cell_type": "code",
   "execution_count": 25,
   "metadata": {},
   "outputs": [
    {
     "name": "stdout",
     "output_type": "stream",
     "text": [
      "[[[1 2]\n",
      "  [4 5]]\n",
      "\n",
      " [[2 3]\n",
      "  [5 6]]\n",
      "\n",
      " [[3 4]\n",
      "  [6 7]]]\n",
      "(3, 2, 2)\n"
     ]
    }
   ],
   "source": [
    "print(ten3.T)\n",
    "print(ten3.T.shape)"
   ]
  },
  {
   "cell_type": "code",
   "execution_count": 26,
   "metadata": {},
   "outputs": [
    {
     "name": "stdout",
     "output_type": "stream",
     "text": [
      "(3, 2, 2)\n",
      "(2, 2, 3)\n"
     ]
    }
   ],
   "source": [
    "print(ten2.shape)\n",
    "print(ten3.shape)\n",
    "\n",
    "# [\n",
    "#     [\n",
    "#         [\n",
    "#             [  9  12  15]\n",
    "#             [ 12  15  18]\n",
    "#         ]\n",
    "#\n",
    "#         [\n",
    "#             [ 19  26  33]\n",
    "#             [ 26  33  40]\n",
    "#         ]\n",
    "#     ]\n",
    "#\n",
    "#\n",
    "#     [\n",
    "#         [\n",
    "#             [ 29  40  51]\n",
    "#             [ 40  51  62]\n",
    "#         ]\n",
    "#\n",
    "#     [\n",
    "#             [ 39  54  69]\n",
    "#             [ 54  69  84]\n",
    "#         ]\n",
    "#     ]\n",
    "# \n",
    "#     [\n",
    "#         [\n",
    "#             [ 49  68  87]\n",
    "#             [ 68  87 106]\n",
    "#         ]\n",
    "# \n",
    "#     [\n",
    "#             [ 59  82 105]\n",
    "#             [ 82 105 128]\n",
    "#         ]\n",
    "#     ]\n",
    "# ]  -------------------------- (3, 2, 2, 3)"
   ]
  },
  {
   "cell_type": "code",
   "execution_count": 27,
   "metadata": {},
   "outputs": [
    {
     "name": "stdout",
     "output_type": "stream",
     "text": [
      "[[[[  9  12  15]\n",
      "   [ 12  15  18]]\n",
      "\n",
      "  [[ 19  26  33]\n",
      "   [ 26  33  40]]]\n",
      "\n",
      "\n",
      " [[[ 29  40  51]\n",
      "   [ 40  51  62]]\n",
      "\n",
      "  [[ 39  54  69]\n",
      "   [ 54  69  84]]]\n",
      "\n",
      "\n",
      " [[[ 49  68  87]\n",
      "   [ 68  87 106]]\n",
      "\n",
      "  [[ 59  82 105]\n",
      "   [ 82 105 128]]]]\n"
     ]
    }
   ],
   "source": [
    "#  [ 1  2]    [1,  2,  3]\n",
    "#  [ 3  4]    [4,  5,  6]\n",
    "#             [2,  3,  4]\n",
    "#             [5,  6,  7]\n",
    "#  [ 5  6]\n",
    "#  [ 7  8]\n",
    "\n",
    "#  [ 9 10]\n",
    "#  [11 12]]\n",
    "\n",
    "ten4 = ten2.dot(ten3)\n",
    "\n",
    "print(ten4)"
   ]
  },
  {
   "cell_type": "code",
   "execution_count": 28,
   "metadata": {},
   "outputs": [
    {
     "name": "stdout",
     "output_type": "stream",
     "text": [
      "[[1 2]\n",
      " [3 4]]\n",
      "[[1 2]\n",
      " [3 4]]\n",
      "[[ 1  4]\n",
      " [ 9 16]]\n",
      "[[ 7 10]\n",
      " [15 22]]\n"
     ]
    }
   ],
   "source": [
    "testMat1 = np.arange(1, 5).reshape((2, 2))\n",
    "testMat2 = np.arange(1, 5).reshape((2, 2))\n",
    "\n",
    "print(testMat1)\n",
    "print(testMat2)\n",
    "print(testMat1 * testMat2)\n",
    "print(testMat1.dot(testMat2))"
   ]
  },
  {
   "cell_type": "code",
   "execution_count": 29,
   "metadata": {},
   "outputs": [],
   "source": [
    "# 인공지능을 공부할 때\n",
    "# 1. 선형대수(기본) - 수리물리학(텐서 <<< 책 x)\n",
    "#                  아프켄, 보아스\n",
    "# 2. 통계학\n",
    "# 3. 공업수학(라플라스 변환, 푸리에 변환)\n",
    "# 4. 커스텀 라이브러리"
   ]
  },
  {
   "cell_type": "code",
   "execution_count": 30,
   "metadata": {},
   "outputs": [
    {
     "name": "stdout",
     "output_type": "stream",
     "text": [
      "Applied-Deep-Learning-with-Keras  LICENSE\t    second.ipynb\r\n",
      "data\t\t\t\t  Python-3.7.6.tgz  third.ipynb\r\n",
      "First.ipynb\t\t\t  README.md\t    Untitled.ipynb\r\n"
     ]
    }
   ],
   "source": [
    "!ls"
   ]
  },
  {
   "cell_type": "code",
   "execution_count": 31,
   "metadata": {},
   "outputs": [
    {
     "name": "stdout",
     "output_type": "stream",
     "text": [
      "Lesson01  Lesson03  Lesson05  Lesson07\tLesson09  README.md\r\n",
      "Lesson02  Lesson04  Lesson06  Lesson08\tLICENSE\r\n"
     ]
    }
   ],
   "source": [
    "!ls Applied-Deep-Learning-with-Keras"
   ]
  },
  {
   "cell_type": "code",
   "execution_count": 32,
   "metadata": {},
   "outputs": [
    {
     "name": "stdout",
     "output_type": "stream",
     "text": [
      "Activity01.ipynb  data\t\t    Exercise02.ipynb  Exercise04.ipynb\r\n",
      "bank.zip\t  Exercise01.ipynb  Exercise03.ipynb  Exercise05.ipynb\r\n"
     ]
    }
   ],
   "source": [
    "!ls Applied-Deep-Learning-with-Keras/Lesson01"
   ]
  },
  {
   "cell_type": "code",
   "execution_count": 33,
   "metadata": {},
   "outputs": [
    {
     "name": "stdout",
     "output_type": "stream",
     "text": [
      "bank.csv\t\tbank_data_feats_e2.csv\tbank_data_target_e2.csv\r\n",
      "bank_data_feats_a2.csv\tbank_data_feats_e3.csv\tbank-full.csv\r\n",
      "bank_data_feats.csv\tbank_data_target.csv\tbank-names.txt\r\n"
     ]
    }
   ],
   "source": [
    "!ls Applied-Deep-Learning-with-Keras/Lesson01/data"
   ]
  },
  {
   "cell_type": "code",
   "execution_count": 34,
   "metadata": {},
   "outputs": [
    {
     "data": {
      "text/html": [
       "<div>\n",
       "<style scoped>\n",
       "    .dataframe tbody tr th:only-of-type {\n",
       "        vertical-align: middle;\n",
       "    }\n",
       "\n",
       "    .dataframe tbody tr th {\n",
       "        vertical-align: top;\n",
       "    }\n",
       "\n",
       "    .dataframe thead th {\n",
       "        text-align: right;\n",
       "    }\n",
       "</style>\n",
       "<table border=\"1\" class=\"dataframe\">\n",
       "  <thead>\n",
       "    <tr style=\"text-align: right;\">\n",
       "      <th></th>\n",
       "      <th>y</th>\n",
       "    </tr>\n",
       "  </thead>\n",
       "  <tbody>\n",
       "    <tr>\n",
       "      <th>0</th>\n",
       "      <td>0</td>\n",
       "    </tr>\n",
       "    <tr>\n",
       "      <th>1</th>\n",
       "      <td>0</td>\n",
       "    </tr>\n",
       "    <tr>\n",
       "      <th>2</th>\n",
       "      <td>0</td>\n",
       "    </tr>\n",
       "    <tr>\n",
       "      <th>3</th>\n",
       "      <td>0</td>\n",
       "    </tr>\n",
       "    <tr>\n",
       "      <th>4</th>\n",
       "      <td>0</td>\n",
       "    </tr>\n",
       "    <tr>\n",
       "      <th>...</th>\n",
       "      <td>...</td>\n",
       "    </tr>\n",
       "    <tr>\n",
       "      <th>4516</th>\n",
       "      <td>0</td>\n",
       "    </tr>\n",
       "    <tr>\n",
       "      <th>4517</th>\n",
       "      <td>0</td>\n",
       "    </tr>\n",
       "    <tr>\n",
       "      <th>4518</th>\n",
       "      <td>0</td>\n",
       "    </tr>\n",
       "    <tr>\n",
       "      <th>4519</th>\n",
       "      <td>0</td>\n",
       "    </tr>\n",
       "    <tr>\n",
       "      <th>4520</th>\n",
       "      <td>0</td>\n",
       "    </tr>\n",
       "  </tbody>\n",
       "</table>\n",
       "<p>4521 rows × 1 columns</p>\n",
       "</div>"
      ],
      "text/plain": [
       "      y\n",
       "0     0\n",
       "1     0\n",
       "2     0\n",
       "3     0\n",
       "4     0\n",
       "...  ..\n",
       "4516  0\n",
       "4517  0\n",
       "4518  0\n",
       "4519  0\n",
       "4520  0\n",
       "\n",
       "[4521 rows x 1 columns]"
      ]
     },
     "execution_count": 34,
     "metadata": {},
     "output_type": "execute_result"
    }
   ],
   "source": [
    "import pandas as pd\n",
    "feats = pd.read_csv(\n",
    "    'Applied-Deep-Learning-with-Keras/' +\n",
    "    'Lesson01/data/bank_data_feats_e3.csv',\n",
    "    index_col = 0\n",
    ")\n",
    "target = pd.read_csv(\n",
    "    'Applied-Deep-Learning-with-Keras/' +\n",
    "    'Lesson01/data/bank_data_target_e2.csv',\n",
    "    index_col = 0\n",
    ")\n",
    "target"
   ]
  },
  {
   "cell_type": "code",
   "execution_count": 35,
   "metadata": {},
   "outputs": [],
   "source": [
    "from sklearn.model_selection import train_test_split\n",
    "\n",
    "test_size = 0.2\n",
    "random_state = 42\n",
    "X_train, X_test, y_train, y_test = train_test_split(\n",
    "    feats, target, \n",
    "    test_size = test_size,\n",
    "    random_state = random_state\n",
    ")"
   ]
  },
  {
   "cell_type": "code",
   "execution_count": 36,
   "metadata": {},
   "outputs": [
    {
     "name": "stdout",
     "output_type": "stream",
     "text": [
      "Shape of X_train: (3616, 32)\n",
      "Shape of y_train: (3616, 1)\n",
      "Shape of X_test: (905, 32)\n",
      "Shape of y_test: (905, 1)\n"
     ]
    }
   ],
   "source": [
    "print(f'Shape of X_train: {X_train.shape}')\n",
    "print(f'Shape of y_train: {y_train.shape}')\n",
    "print(f'Shape of X_test: {X_test.shape}')\n",
    "print(f'Shape of y_test: {y_test.shape}')"
   ]
  },
  {
   "cell_type": "code",
   "execution_count": 37,
   "metadata": {},
   "outputs": [],
   "source": [
    "# pip install keras\n",
    "# pip install tensorflow\n",
    "from keras.models import Sequential\n",
    "model = Sequential()\n",
    "\n",
    "# 합성곱 = 콘볼루션(Convolution), 컨벌루션"
   ]
  },
  {
   "cell_type": "code",
   "execution_count": 38,
   "metadata": {},
   "outputs": [],
   "source": [
    "from keras.layers import Dense, Activation\n",
    "from keras.models import Sequential\n",
    "input_shape = X_train.shape[1]\n",
    "units = 1\n",
    "model.add(Dense(units, input_dim=input_shape))\n",
    "model.add(Activation('tanh'))"
   ]
  },
  {
   "cell_type": "code",
   "execution_count": 39,
   "metadata": {},
   "outputs": [],
   "source": [
    "model.compile(optimizer ='adam', \n",
    "              loss = 'binary_crossentropy',\n",
    "              metrics = ['accuracy']\n",
    "             )"
   ]
  },
  {
   "cell_type": "code",
   "execution_count": 40,
   "metadata": {},
   "outputs": [
    {
     "name": "stdout",
     "output_type": "stream",
     "text": [
      "Model: \"sequential\"\n",
      "_________________________________________________________________\n",
      "Layer (type)                 Output Shape              Param #   \n",
      "=================================================================\n",
      "dense (Dense)                (None, 1)                 33        \n",
      "_________________________________________________________________\n",
      "activation (Activation)      (None, 1)                 0         \n",
      "=================================================================\n",
      "Total params: 33\n",
      "Trainable params: 33\n",
      "Non-trainable params: 0\n",
      "_________________________________________________________________\n",
      "None\n"
     ]
    }
   ],
   "source": [
    "print(model.summary())"
   ]
  },
  {
   "cell_type": "code",
   "execution_count": 51,
   "metadata": {},
   "outputs": [
    {
     "name": "stdout",
     "output_type": "stream",
     "text": [
      "Epoch 1/10\n",
      "91/91 [==============================] - 0s 873us/step - loss: 1.8454 - accuracy: 0.8804 - val_loss: 1.6583 - val_accuracy: 0.8923\n",
      "Epoch 2/10\n",
      "91/91 [==============================] - 0s 883us/step - loss: 1.8454 - accuracy: 0.8804 - val_loss: 1.6583 - val_accuracy: 0.8923\n",
      "Epoch 3/10\n",
      "91/91 [==============================] - 0s 815us/step - loss: 1.8454 - accuracy: 0.8804 - val_loss: 1.6583 - val_accuracy: 0.8923\n",
      "Epoch 4/10\n",
      "91/91 [==============================] - 0s 864us/step - loss: 1.8454 - accuracy: 0.8804 - val_loss: 1.6583 - val_accuracy: 0.8923\n",
      "Epoch 5/10\n",
      "91/91 [==============================] - 0s 920us/step - loss: 1.8454 - accuracy: 0.8804 - val_loss: 1.6583 - val_accuracy: 0.8923\n",
      "Epoch 6/10\n",
      "91/91 [==============================] - 0s 938us/step - loss: 1.8454 - accuracy: 0.8804 - val_loss: 1.6583 - val_accuracy: 0.8923\n",
      "Epoch 7/10\n",
      "91/91 [==============================] - 0s 967us/step - loss: 1.8454 - accuracy: 0.8804 - val_loss: 1.6583 - val_accuracy: 0.8923\n",
      "Epoch 8/10\n",
      "91/91 [==============================] - 0s 898us/step - loss: 1.8454 - accuracy: 0.8804 - val_loss: 1.6583 - val_accuracy: 0.8923\n",
      "Epoch 9/10\n",
      "91/91 [==============================] - 0s 991us/step - loss: 1.8454 - accuracy: 0.8804 - val_loss: 1.6583 - val_accuracy: 0.8923\n",
      "Epoch 10/10\n",
      "91/91 [==============================] - 0s 998us/step - loss: 1.8454 - accuracy: 0.8804 - val_loss: 1.6583 - val_accuracy: 0.8923\n"
     ]
    }
   ],
   "source": [
    "history = model.fit(x = X_train, y = y_train['y'], \n",
    "                    epochs = 10, batch_size = 32, \n",
    "                    validation_split = 0.2)"
   ]
  },
  {
   "cell_type": "code",
   "execution_count": 52,
   "metadata": {},
   "outputs": [
    {
     "data": {
      "image/png": "[encoded data removed]",
      "text/plain": [
       "<Figure size 432x288 with 1 Axes>"
      ]
     },
     "metadata": {
      "needs_background": "light"
     },
     "output_type": "display_data"
    },
    {
     "data": {
      "image/png": "[encoded data removed]",
      "text/plain": [
       "<Figure size 432x288 with 1 Axes>"
      ]
     },
     "metadata": {
      "needs_background": "light"
     },
     "output_type": "display_data"
    }
   ],
   "source": [
    "import matplotlib.pyplot as plt\n",
    "%matplotlib inline\n",
    "\n",
    "plt.plot(history.history['accuracy'])\n",
    "plt.plot(history.history['val_accuracy'])\n",
    "plt.title('Accuracy')\n",
    "plt.ylabel('Loss')\n",
    "plt.xlabel('Loop')\n",
    "plt.legend(['Train', 'Validation'], loc = 'upper left')\n",
    "plt.show()\n",
    "\n",
    "plt.plot(history.history['loss'])\n",
    "plt.plot(history.history['val_loss'])\n",
    "plt.title('Model Loss')\n",
    "plt.ylabel('Loss')\n",
    "plt.xlabel('Loop')\n",
    "plt.legend(['Train', 'Validation'], loc = 'upper left')\n",
    "plt.show()"
   ]
  },
  {
   "cell_type": "code",
   "execution_count": 53,
   "metadata": {},
   "outputs": [
    {
     "name": "stdout",
     "output_type": "stream",
     "text": [
      "29/29 [==============================] - 0s 470us/step - loss: 1.6868 - accuracy: 0.8906\n"
     ]
    }
   ],
   "source": [
    "test_loss = model.evaluate(X_test, y_test['y'])"
   ]
  },
  {
   "cell_type": "code",
   "execution_count": 55,
   "metadata": {},
   "outputs": [
    {
     "name": "stdout",
     "output_type": "stream",
     "text": [
      "Activity02.ipynb     bank_data_target.csv  Exercise07.ipynb  Exercise09.ipynb\r\n",
      "bank_data_feats.csv  Exercise06.ipynb\t   Exercise08.ipynb\r\n"
     ]
    }
   ],
   "source": [
    "!ls Applied-Deep-Learning-with-Keras/Lesson02"
   ]
  },
  {
   "cell_type": "code",
   "execution_count": 64,
   "metadata": {},
   "outputs": [],
   "source": [
    "import pandas as pd\n",
    "\n",
    "feats = pd.read_csv(\n",
    "    'Applied-Deep-Learning-with-Keras/Lesson02/bank_data_feats.csv',\n",
    "    index_col = 0\n",
    ")\n",
    "target = pd.read_csv(\n",
    "    'Applied-Deep-Learning-with-Keras/Lesson02/bank_data_target.csv',\n",
    "    index_col = 0\n",
    ")"
   ]
  },
  {
   "cell_type": "code",
   "execution_count": 65,
   "metadata": {},
   "outputs": [
    {
     "name": "stdout",
     "output_type": "stream",
     "text": [
      "Epoch 1/20\n",
      "91/91 [==============================] - 0s 1ms/step - loss: 5.3384 - accuracy: 0.6362 - val_loss: 4.4534 - val_accuracy: 0.6934\n",
      "Epoch 2/20\n",
      "91/91 [==============================] - 0s 894us/step - loss: 4.4944 - accuracy: 0.6919 - val_loss: 3.9172 - val_accuracy: 0.7293\n",
      "Epoch 3/20\n",
      "91/91 [==============================] - 0s 837us/step - loss: 3.6886 - accuracy: 0.7486 - val_loss: 3.3398 - val_accuracy: 0.7749\n",
      "Epoch 4/20\n",
      "91/91 [==============================] - 0s 843us/step - loss: 3.1127 - accuracy: 0.7877 - val_loss: 2.9649 - val_accuracy: 0.8011\n",
      "Epoch 5/20\n",
      "91/91 [==============================] - 0s 855us/step - loss: 2.7122 - accuracy: 0.8167 - val_loss: 2.6230 - val_accuracy: 0.8246\n",
      "Epoch 6/20\n",
      "91/91 [==============================] - 0s 906us/step - loss: 2.5116 - accuracy: 0.8333 - val_loss: 2.5164 - val_accuracy: 0.8329\n",
      "Epoch 7/20\n",
      "91/91 [==============================] - 0s 893us/step - loss: 2.4559 - accuracy: 0.8378 - val_loss: 2.4326 - val_accuracy: 0.8412\n",
      "Epoch 8/20\n",
      "91/91 [==============================] - 0s 918us/step - loss: 2.4278 - accuracy: 0.8402 - val_loss: 2.3636 - val_accuracy: 0.8439\n",
      "Epoch 9/20\n",
      "91/91 [==============================] - 0s 934us/step - loss: 2.4093 - accuracy: 0.8423 - val_loss: 2.3461 - val_accuracy: 0.8439\n",
      "Epoch 10/20\n",
      "91/91 [==============================] - 0s 921us/step - loss: 2.3986 - accuracy: 0.8430 - val_loss: 2.3221 - val_accuracy: 0.8453\n",
      "Epoch 11/20\n",
      "91/91 [==============================] - 0s 934us/step - loss: 2.3816 - accuracy: 0.8437 - val_loss: 2.3348 - val_accuracy: 0.8481\n",
      "Epoch 12/20\n",
      "91/91 [==============================] - 0s 904us/step - loss: 2.3392 - accuracy: 0.8461 - val_loss: 2.3243 - val_accuracy: 0.8481\n",
      "Epoch 13/20\n",
      "91/91 [==============================] - 0s 880us/step - loss: 2.2682 - accuracy: 0.8510 - val_loss: 2.2132 - val_accuracy: 0.8536\n",
      "Epoch 14/20\n",
      "91/91 [==============================] - 0s 984us/step - loss: 2.1528 - accuracy: 0.8575 - val_loss: 1.8836 - val_accuracy: 0.8757\n",
      "Epoch 15/20\n",
      "91/91 [==============================] - 0s 1ms/step - loss: 1.9545 - accuracy: 0.8717 - val_loss: 1.7202 - val_accuracy: 0.8881\n",
      "Epoch 16/20\n",
      "91/91 [==============================] - 0s 1ms/step - loss: 1.8730 - accuracy: 0.8783 - val_loss: 1.6892 - val_accuracy: 0.8895\n",
      "Epoch 17/20\n",
      "91/91 [==============================] - 0s 1ms/step - loss: 1.8551 - accuracy: 0.8793 - val_loss: 1.6405 - val_accuracy: 0.8936\n",
      "Epoch 18/20\n",
      "91/91 [==============================] - 0s 1ms/step - loss: 1.8454 - accuracy: 0.8804 - val_loss: 1.6405 - val_accuracy: 0.8936\n",
      "Epoch 19/20\n",
      "91/91 [==============================] - 0s 975us/step - loss: 1.8454 - accuracy: 0.8804 - val_loss: 1.6405 - val_accuracy: 0.8936\n",
      "Epoch 20/20\n",
      "91/91 [==============================] - 0s 970us/step - loss: 1.8454 - accuracy: 0.8804 - val_loss: 1.6405 - val_accuracy: 0.8936\n"
     ]
    }
   ],
   "source": [
    "from sklearn.model_selection import train_test_split\n",
    "\n",
    "test_size = 0.2\n",
    "random_state = 42\n",
    "\n",
    "X_train, X_test, y_train, y_test = train_test_split(\n",
    "    feats, target, test_size=test_size, random_state=random_state\n",
    ")\n",
    "\n",
    "from keras.models import Sequential\n",
    "\n",
    "model = Sequential()\n",
    "\n",
    "from keras.layers import Dense, Activation\n",
    "\n",
    "input_shape = X_train.shape[1]\n",
    "units = 1\n",
    "\n",
    "model.add(Dense(units, input_dim = input_shape))\n",
    "model.add(Activation('tanh'))\n",
    "\n",
    "model.compile(\n",
    "    optimizer='adam',\n",
    "    loss='binary_crossentropy',\n",
    "    metrics=['accuracy']\n",
    ")\n",
    "\n",
    "history = model.fit(\n",
    "    x=X_train, y=y_train['y'],\n",
    "    epochs=20, batch_size=32, validation_split=0.2\n",
    ")"
   ]
  },
  {
   "cell_type": "code",
   "execution_count": 66,
   "metadata": {},
   "outputs": [
    {
     "data": {
      "image/png": "[encoded data removed]",
      "text/plain": [
       "<Figure size 432x288 with 1 Axes>"
      ]
     },
     "metadata": {
      "needs_background": "light"
     },
     "output_type": "display_data"
    },
    {
     "data": {
      "image/png": "[encoded data removed]",
      "text/plain": [
       "<Figure size 432x288 with 1 Axes>"
      ]
     },
     "metadata": {
      "needs_background": "light"
     },
     "output_type": "display_data"
    }
   ],
   "source": [
    "import matplotlib.pyplot as plt\n",
    "\n",
    "plt.plot(history.history['accuracy'])\n",
    "plt.plot(history.history['val_accuracy'])\n",
    "plt.title('Model Accuracy')\n",
    "plt.ylabel('Accuracy')\n",
    "plt.xlabel('Loop')\n",
    "plt.legend(['Train', 'Validation'], loc='upper left')\n",
    "plt.show()\n",
    "\n",
    "plt.plot(history.history['loss'])\n",
    "plt.plot(history.history['val_loss'])\n",
    "plt.title('Model Loss')\n",
    "plt.ylabel('Loss')\n",
    "plt.xlabel('Loop')\n",
    "plt.legend(['Train', 'Validation'], loc='upper left')\n",
    "plt.show()"
   ]
  },
  {
   "cell_type": "code",
   "execution_count": null,
   "metadata": {},
   "outputs": [],
   "source": [
    "# Euler Formula\n",
    "# e^ix = cos(x) + i sin(x)\n",
    "# e^-ix = cos(x) - i sin(x)\n",
    "# e^ix + e^-ix = 2cos(x)\n",
    "# cos(x) = (e^ix + e^-ix) / 2\n",
    "\n",
    "# e^ix - e^-ix = 2i sin(x)\n",
    "# sin(x) = (e^ix - e^-ix) / 2\n",
    "\n",
    "# cosh(x) = (e^x + e^-x) / 2\n",
    "# sinh(x) = (e^x - e^-x) / 2\n",
    "# tanh(x) = sinh(x) / cosh(x)\n",
    "# tanh(x)는 -1 ~ 1사이의 값을 가지게 된다."
   ]
  },
  {
   "cell_type": "code",
   "execution_count": 67,
   "metadata": {},
   "outputs": [],
   "source": [
    "# X: 1 by 2\n",
    "# W1: 2 by 3\n",
    "# b1: 1 by 3\n",
    "# z1 = X * W1 + b1\n",
    "# 행렬 곱셈의 규칙\n",
    "# (1 by 2)(2 by 3) ===> (1 by 3)\n",
    "# a1: (1 by 3)\n",
    "# W2: 3 by 5\n",
    "# b2: 1 by 5\n",
    "# z2 = a1 * W2 + b2\n",
    "# (1 by 3)(3 by 5) ===> (1 by 5)\n",
    "# a2: (1 by 5)\n",
    "# W3: 5 by 1\n",
    "# b3: 1 by 1\n",
    "# z3 = a2 * W3 + b3\n",
    "# (1 by 5)(5 by 1) ===> (1 by 1)\n",
    "# Y = sigmoid(z3) ===> 0 ~ 1 확률로 나타난다."
   ]
  },
  {
   "cell_type": "code",
   "execution_count": 1,
   "metadata": {},
   "outputs": [
    {
     "name": "stdout",
     "output_type": "stream",
     "text": [
      "Num of Dataset: 300\n",
      "Num of Features: 10\n",
      "Possible Output Classes: [0 1]\n"
     ]
    }
   ],
   "source": [
    "import numpy as np\n",
    "from sklearn.datasets import make_classification\n",
    "\n",
    "X, y = make_classification(\n",
    "    # 데이터 300개\n",
    "    n_samples = 300, \n",
    "    # 독립 변수 10개\n",
    "    n_features = 10, \n",
    "    # 나올 수 있는 결과 2개\n",
    "    n_classes = 2\n",
    ")\n",
    "print(\"Num of Dataset:\", X.shape[0])\n",
    "print(\"Num of Features:\", X.shape[1])\n",
    "print(\"Possible Output Classes:\", np.unique(y))"
   ]
  },
  {
   "cell_type": "code",
   "execution_count": 2,
   "metadata": {},
   "outputs": [],
   "source": [
    "# Features가 10개라는 뜻은\n",
    "# y = ax1 + bx2 + cx3 + dx4 + ex5 + \n",
    "# fx6 + gx7 + hx8 + ix9 + jx10 + alpha"
   ]
  },
  {
   "cell_type": "code",
   "execution_count": 3,
   "metadata": {},
   "outputs": [],
   "source": [
    "from keras.models import Sequential\n",
    "\n",
    "model = Sequential()\n",
    "\n",
    "from keras.layers import Dense, Activation\n",
    "\n",
    "# Dense(출력 개수, 활성화 함수, 입력 개수)\n",
    "model.add(Dense(20, activation = 'tanh', input_dim = 10))"
   ]
  },
  {
   "cell_type": "code",
   "execution_count": 4,
   "metadata": {},
   "outputs": [
    {
     "name": "stdout",
     "output_type": "stream",
     "text": [
      "Epoch 1/100\n",
      "60/60 [==============================] - 0s 608us/step - loss: 0.6861\n",
      "Epoch 2/100\n",
      "60/60 [==============================] - 0s 587us/step - loss: 0.6142\n",
      "Epoch 3/100\n",
      "60/60 [==============================] - 0s 533us/step - loss: 0.5646\n",
      "Epoch 4/100\n",
      "60/60 [==============================] - 0s 532us/step - loss: 0.5201\n",
      "Epoch 5/100\n",
      "60/60 [==============================] - 0s 535us/step - loss: 0.4774\n",
      "Epoch 6/100\n",
      "60/60 [==============================] - 0s 539us/step - loss: 0.4379\n",
      "Epoch 7/100\n",
      "60/60 [==============================] - 0s 556us/step - loss: 0.4048\n",
      "Epoch 8/100\n",
      "60/60 [==============================] - 0s 574us/step - loss: 0.3779\n",
      "Epoch 9/100\n",
      "60/60 [==============================] - 0s 541us/step - loss: 0.3572\n",
      "Epoch 10/100\n",
      "60/60 [==============================] - 0s 696us/step - loss: 0.3412\n",
      "Epoch 11/100\n",
      "60/60 [==============================] - 0s 528us/step - loss: 0.3288\n",
      "Epoch 12/100\n",
      "60/60 [==============================] - 0s 532us/step - loss: 0.3186\n",
      "Epoch 13/100\n",
      "60/60 [==============================] - 0s 541us/step - loss: 0.3118\n",
      "Epoch 14/100\n",
      "60/60 [==============================] - 0s 540us/step - loss: 0.3065\n",
      "Epoch 15/100\n",
      "60/60 [==============================] - 0s 526us/step - loss: 0.3013\n",
      "Epoch 16/100\n",
      "60/60 [==============================] - 0s 543us/step - loss: 0.2968\n",
      "Epoch 17/100\n",
      "60/60 [==============================] - 0s 545us/step - loss: 0.2937\n",
      "Epoch 18/100\n",
      "60/60 [==============================] - 0s 513us/step - loss: 0.2927\n",
      "Epoch 19/100\n",
      "60/60 [==============================] - 0s 519us/step - loss: 0.2893\n",
      "Epoch 20/100\n",
      "60/60 [==============================] - 0s 526us/step - loss: 0.2881\n",
      "Epoch 21/100\n",
      "60/60 [==============================] - 0s 518us/step - loss: 0.2864\n",
      "Epoch 22/100\n",
      "60/60 [==============================] - 0s 563us/step - loss: 0.2847\n",
      "Epoch 23/100\n",
      "60/60 [==============================] - 0s 504us/step - loss: 0.2832\n",
      "Epoch 24/100\n",
      "60/60 [==============================] - 0s 525us/step - loss: 0.2822\n",
      "Epoch 25/100\n",
      "60/60 [==============================] - 0s 517us/step - loss: 0.2807\n",
      "Epoch 26/100\n",
      "60/60 [==============================] - 0s 533us/step - loss: 0.2792\n",
      "Epoch 27/100\n",
      "60/60 [==============================] - 0s 536us/step - loss: 0.2784\n",
      "Epoch 28/100\n",
      "60/60 [==============================] - 0s 517us/step - loss: 0.2772\n",
      "Epoch 29/100\n",
      "60/60 [==============================] - 0s 550us/step - loss: 0.2743\n",
      "Epoch 30/100\n",
      "60/60 [==============================] - 0s 513us/step - loss: 0.2760\n",
      "Epoch 31/100\n",
      "60/60 [==============================] - 0s 534us/step - loss: 0.2733\n",
      "Epoch 32/100\n",
      "60/60 [==============================] - 0s 538us/step - loss: 0.2717\n",
      "Epoch 33/100\n",
      "60/60 [==============================] - 0s 540us/step - loss: 0.2711\n",
      "Epoch 34/100\n",
      "60/60 [==============================] - 0s 628us/step - loss: 0.2701\n",
      "Epoch 35/100\n",
      "60/60 [==============================] - 0s 546us/step - loss: 0.2702\n",
      "Epoch 36/100\n",
      "60/60 [==============================] - 0s 534us/step - loss: 0.2679\n",
      "Epoch 37/100\n",
      "60/60 [==============================] - 0s 536us/step - loss: 0.2668\n",
      "Epoch 38/100\n",
      "60/60 [==============================] - 0s 571us/step - loss: 0.2660\n",
      "Epoch 39/100\n",
      "60/60 [==============================] - 0s 539us/step - loss: 0.2650\n",
      "Epoch 40/100\n",
      "60/60 [==============================] - 0s 537us/step - loss: 0.2646\n",
      "Epoch 41/100\n",
      "60/60 [==============================] - 0s 542us/step - loss: 0.2633\n",
      "Epoch 42/100\n",
      "60/60 [==============================] - 0s 534us/step - loss: 0.2626\n",
      "Epoch 43/100\n",
      "60/60 [==============================] - 0s 529us/step - loss: 0.2613\n",
      "Epoch 44/100\n",
      "60/60 [==============================] - 0s 549us/step - loss: 0.2599\n",
      "Epoch 45/100\n",
      "60/60 [==============================] - 0s 530us/step - loss: 0.2590\n",
      "Epoch 46/100\n",
      "60/60 [==============================] - ETA: 0s - loss: 0.075 - 0s 534us/step - loss: 0.2584\n",
      "Epoch 47/100\n",
      "60/60 [==============================] - 0s 575us/step - loss: 0.2564\n",
      "Epoch 48/100\n",
      "60/60 [==============================] - 0s 553us/step - loss: 0.2566\n",
      "Epoch 49/100\n",
      "60/60 [==============================] - 0s 510us/step - loss: 0.2555\n",
      "Epoch 50/100\n",
      "60/60 [==============================] - 0s 504us/step - loss: 0.2529\n",
      "Epoch 51/100\n",
      "60/60 [==============================] - 0s 558us/step - loss: 0.2539\n",
      "Epoch 52/100\n",
      "60/60 [==============================] - 0s 515us/step - loss: 0.2520\n",
      "Epoch 53/100\n",
      "60/60 [==============================] - 0s 509us/step - loss: 0.2510\n",
      "Epoch 54/100\n",
      "60/60 [==============================] - 0s 523us/step - loss: 0.2505\n",
      "Epoch 55/100\n",
      "60/60 [==============================] - 0s 528us/step - loss: 0.2483\n",
      "Epoch 56/100\n",
      "60/60 [==============================] - 0s 530us/step - loss: 0.2482\n",
      "Epoch 57/100\n",
      "60/60 [==============================] - 0s 520us/step - loss: 0.2466\n",
      "Epoch 58/100\n",
      "60/60 [==============================] - 0s 521us/step - loss: 0.2468\n",
      "Epoch 59/100\n",
      "60/60 [==============================] - 0s 524us/step - loss: 0.2454\n",
      "Epoch 60/100\n",
      "60/60 [==============================] - 0s 511us/step - loss: 0.2437\n",
      "Epoch 61/100\n",
      "60/60 [==============================] - 0s 519us/step - loss: 0.2432\n",
      "Epoch 62/100\n",
      "60/60 [==============================] - 0s 514us/step - loss: 0.2424\n",
      "Epoch 63/100\n",
      "60/60 [==============================] - 0s 554us/step - loss: 0.2417\n",
      "Epoch 64/100\n",
      "60/60 [==============================] - 0s 545us/step - loss: 0.2409\n",
      "Epoch 65/100\n",
      "60/60 [==============================] - 0s 520us/step - loss: 0.2393\n",
      "Epoch 66/100\n",
      "60/60 [==============================] - 0s 571us/step - loss: 0.2393\n",
      "Epoch 67/100\n",
      "60/60 [==============================] - 0s 541us/step - loss: 0.2375\n",
      "Epoch 68/100\n",
      "60/60 [==============================] - 0s 625us/step - loss: 0.2371\n",
      "Epoch 69/100\n",
      "60/60 [==============================] - 0s 554us/step - loss: 0.2360\n",
      "Epoch 70/100\n",
      "60/60 [==============================] - 0s 596us/step - loss: 0.2348\n",
      "Epoch 71/100\n",
      "60/60 [==============================] - 0s 603us/step - loss: 0.2341\n",
      "Epoch 72/100\n",
      "60/60 [==============================] - 0s 551us/step - loss: 0.2335\n",
      "Epoch 73/100\n",
      "60/60 [==============================] - 0s 570us/step - loss: 0.2325\n",
      "Epoch 74/100\n",
      "60/60 [==============================] - 0s 574us/step - loss: 0.2318\n",
      "Epoch 75/100\n",
      "60/60 [==============================] - 0s 580us/step - loss: 0.2307\n",
      "Epoch 76/100\n",
      "60/60 [==============================] - 0s 560us/step - loss: 0.2292\n",
      "Epoch 77/100\n",
      "60/60 [==============================] - 0s 592us/step - loss: 0.2284\n",
      "Epoch 78/100\n",
      "60/60 [==============================] - 0s 546us/step - loss: 0.2280\n",
      "Epoch 79/100\n",
      "60/60 [==============================] - 0s 567us/step - loss: 0.2265\n",
      "Epoch 80/100\n",
      "60/60 [==============================] - 0s 555us/step - loss: 0.2249\n",
      "Epoch 81/100\n",
      "60/60 [==============================] - 0s 579us/step - loss: 0.2253\n",
      "Epoch 82/100\n",
      "60/60 [==============================] - 0s 560us/step - loss: 0.2242\n",
      "Epoch 83/100\n",
      "60/60 [==============================] - 0s 565us/step - loss: 0.2224\n",
      "Epoch 84/100\n",
      "60/60 [==============================] - 0s 542us/step - loss: 0.2219\n",
      "Epoch 85/100\n",
      "60/60 [==============================] - 0s 579us/step - loss: 0.2209\n",
      "Epoch 86/100\n",
      "60/60 [==============================] - 0s 551us/step - loss: 0.2200\n",
      "Epoch 87/100\n",
      "60/60 [==============================] - 0s 582us/step - loss: 0.2191\n",
      "Epoch 88/100\n",
      "60/60 [==============================] - 0s 576us/step - loss: 0.2181\n",
      "Epoch 89/100\n",
      "60/60 [==============================] - 0s 548us/step - loss: 0.2169\n",
      "Epoch 90/100\n",
      "60/60 [==============================] - 0s 535us/step - loss: 0.2160\n",
      "Epoch 91/100\n",
      "60/60 [==============================] - 0s 507us/step - loss: 0.2152\n",
      "Epoch 92/100\n",
      "60/60 [==============================] - 0s 528us/step - loss: 0.2145\n",
      "Epoch 93/100\n",
      "60/60 [==============================] - 0s 526us/step - loss: 0.2136\n",
      "Epoch 94/100\n",
      "60/60 [==============================] - 0s 543us/step - loss: 0.2127\n",
      "Epoch 95/100\n",
      "60/60 [==============================] - 0s 543us/step - loss: 0.2114\n",
      "Epoch 96/100\n",
      "60/60 [==============================] - 0s 555us/step - loss: 0.2107\n",
      "Epoch 97/100\n",
      "60/60 [==============================] - 0s 535us/step - loss: 0.2087\n",
      "Epoch 98/100\n",
      "60/60 [==============================] - 0s 573us/step - loss: 0.2070\n",
      "Epoch 99/100\n"
     ]
    },
    {
     "name": "stdout",
     "output_type": "stream",
     "text": [
      "60/60 [==============================] - 0s 567us/step - loss: 0.2086\n",
      "Epoch 100/100\n",
      "60/60 [==============================] - 0s 616us/step - loss: 0.2064\n"
     ]
    }
   ],
   "source": [
    "model.add(Dense(40, activation = 'tanh'))\n",
    "model.add(Dense(10, activation = 'tanh'))\n",
    "model.add(Dense(1, activation = 'sigmoid'))\n",
    "\n",
    "model.compile(optimizer='sgd', loss='binary_crossentropy')\n",
    "\n",
    "history = model.fit(X, y, epochs = 100, batch_size = 5)"
   ]
  },
  {
   "cell_type": "code",
   "execution_count": 5,
   "metadata": {},
   "outputs": [
    {
     "data": {
      "image/png": "[encoded data removed]",
      "text/plain": [
       "<Figure size 432x288 with 1 Axes>"
      ]
     },
     "metadata": {
      "needs_background": "light"
     },
     "output_type": "display_data"
    }
   ],
   "source": [
    "import matplotlib.pyplot as plt\n",
    "\n",
    "plt.plot(history.history['loss'])\n",
    "plt.title('Model Loss')\n",
    "plt.ylabel('Loss')\n",
    "plt.xlabel('Loop')\n",
    "plt.legend(['Train', 'Validation'], loc='upper left')\n",
    "plt.show()"
   ]
  },
  {
   "cell_type": "code",
   "execution_count": 7,
   "metadata": {},
   "outputs": [
    {
     "name": "stdout",
     "output_type": "stream",
     "text": [
      "Model: \"sequential\"\n",
      "_________________________________________________________________\n",
      "Layer (type)                 Output Shape              Param #   \n",
      "=================================================================\n",
      "dense (Dense)                (None, 20)                220       \n",
      "_________________________________________________________________\n",
      "dense_1 (Dense)              (None, 40)                840       \n",
      "_________________________________________________________________\n",
      "dense_2 (Dense)              (None, 10)                410       \n",
      "_________________________________________________________________\n",
      "dense_3 (Dense)              (None, 1)                 11        \n",
      "=================================================================\n",
      "Total params: 1,481\n",
      "Trainable params: 1,481\n",
      "Non-trainable params: 0\n",
      "_________________________________________________________________\n",
      "None\n"
     ]
    }
   ],
   "source": [
    "print(model.summary())"
   ]
  },
  {
   "cell_type": "code",
   "execution_count": null,
   "metadata": {},
   "outputs": [],
   "source": []
  },
  {
   "cell_type": "code",
   "execution_count": null,
   "metadata": {},
   "outputs": [],
   "source": []
  },
  {
   "cell_type": "code",
   "execution_count": null,
   "metadata": {},
   "outputs": [],
   "source": []
  },
  {
   "cell_type": "code",
   "execution_count": null,
   "metadata": {},
   "outputs": [],
   "source": []
  }
 ],
 "metadata": {
  "kernelspec": {
   "display_name": "Python 3",
   "language": "python",
   "name": "python3"
  },
  "language_info": {
   "codemirror_mode": {
    "name": "ipython",
    "version": 3
   },
   "file_extension": ".py",
   "mimetype": "text/x-python",
   "name": "python",
   "nbconvert_exporter": "python",
   "pygments_lexer": "ipython3",
   "version": "3.7.6"
  }
 },
 "nbformat": 4,
 "nbformat_minor": 4
}
