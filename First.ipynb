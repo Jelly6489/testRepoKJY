{
 "cells": [
  {
   "cell_type": "code",
   "execution_count": 1,
   "metadata": {},
   "outputs": [
    {
     "name": "stdout",
     "output_type": "stream",
     "text": [
      "으어어어\n",
      "으어어어\n",
      "으어어어\n"
     ]
    }
   ],
   "source": [
    "print(\"으어어어\")\n",
    "print(\"으어어어\")\n",
    "print(\"으어어어\")"
   ]
  },
  {
   "cell_type": "code",
   "execution_count": 2,
   "metadata": {},
   "outputs": [],
   "source": [
    "# 나만의 git 저장소를 가져보도록 하자!\n",
    "# 1. Github에 접속한다.\n",
    "# 2. 로그인하고 접속하면 Repositories에 New가 있고 이것을 누른다.\n",
    "# 3. 맨 위쪽에 Repository Name과 Description을 작성한다.\n",
    "# 4. 아래쪽의 .gitignore를 설정해주고 라이센스를 선택한다.\n",
    "#    회사에서 라이센스 선택시 회의가 필요하므로 이런 작업을 할 일이 있다면\n",
    "#    반드시 먼저 상사에게 보고를 하고 진행하도록 한다.\n",
    "# 5. Create Repository를 눌러서 저장소를 생성한다.\n",
    "# 6. 초록색 버튼 Code에 보면 Clone이 있다.\n",
    "#    해당 URL을 전부 복사한다.\n",
    "# 7. 먼저 저장소의 기본 위치를 선택한다.\n",
    "#    cd ~\n",
    "#    cd proj\n",
    "#    홈 디렉토리 밑에 proj에 진입하게 된다.\n",
    "# 8. git clone '가져오고 싶은 저장소 이름'\n",
    "#    (홑 따옴표 필요 없음)\n",
    "# 9. 작업할 저장소로 위치를 이동한다.\n",
    "# 10. 해당 위치에서 jupyter notebook을 입력한다.\n",
    "# 11. 그러면 웹 브라우저에 쥬피터가 실행될 것이고\n",
    "#     여기서 기존에 파이썬 작업을 하듯이 파일을 작성하면 된다.\n",
    "# 12. git status - 현재 추적되지 않고 있는 파일을 볼 수 있다.\n",
    "# 13. 추적이 되지 않으므로 해당 파일을 추적하고 싶다면\n",
    "#     git add를 통해 파일을 추적할 수 있게 만들어준다.\n",
    "#     정말 잘 추적이 되는지 확인하기 위해\n",
    "#     github에 있는 저장소 원본으로 이동해서 추적되지 않음을 확인한다.\n",
    "#     git add '추적할 파일명 혹은 디렉토리 전체도 가능'\n",
    "# 14. git status를 입력하면 추적이 됨을 알리는 초록색 파일로 나타난다.\n",
    "#     그리고 commit 하라는 메시지가 같이 올라온다.\n",
    "# 15. git push origin master\n",
    "#     커밋된 내용을 모두 master(원격 저장소:원본)에 갱신한다.\n",
    "# *** 만약 위의 명령을 쳤는데 config --global 나오면\n",
    "#     해당 명령으로 email 주소와 name을 등록하면 된다.\n",
    "#     git config --global user.name \"git 이름 및 별명\"\n",
    "#     git config --global user.email \"깃 가입시 사용한 이메일 주소\""
   ]
  },
  {
   "cell_type": "code",
   "execution_count": 3,
   "metadata": {},
   "outputs": [],
   "source": [
    "# 현재 Ubuntu 버전에서 다운로드 받아 사용할 수 있는\n",
    "# MySQL 서버 버전을 검색하는 명령어다.\n",
    "# sudo apt-cache search mysql-server\n",
    "\n",
    "# 찾은 정보중에 MySQL Server 5.7을 다운받도록 한다.\n",
    "# sudo apt-get install mysql-server-5.7\n",
    "\n",
    "# 설치 마지막쯤 나오는 경로를 기록해두도록 한다.\n",
    "# 나중에 다시 찾으려고 하면 골 아픔 ;;;\n",
    "# update-alternatives:\n",
    "# using /etc/mysql/mysql.cnf to provide \n",
    "# /etc/mysql/my.cnf (my.cnf) in auto mode\n",
    "# Renaming removed key_buffer\n",
    "# and myisam-recover options (if present)\n",
    "# Created symlink\n",
    "# /etc/systemd/system/multi-user.target.wants/mysql.service → /lib/systemd/system/mysql.service.\n",
    "\n",
    "# 현재 MySQL 서버가 잘 동작중인 확인하는 방법\n",
    "# service mysql status\n",
    "\n",
    "# 현재 구동되고 있는 MySQL 서버 프로세스를 확인하는 방법\n",
    "# ps -ef | grep mysql\n",
    "\n",
    "# 쓸모없는 정보가 같이 나오는데 걸러내는 방법\n",
    "# ps -ef | grep mysql | grep -v grep\n",
    "\n",
    "# netstat 명령어를 사용하기 위해 필요한 SW 툴\n",
    "# sudo apt-get install net-tools\n",
    "\n",
    "# 현재 구동중인 네트워크 서비스들을 확인해볼 수 있다.\n",
    "# sudo netstat -ntlp | grep mysql\n",
    "\n",
    "# 127.0.0.1:3306\n",
    "# 일반적으로 127.0.0.1이라는 주소는 localhost를 의미한다.\n",
    "# localhost란 현재 내 컴퓨터를 의미한다.\n",
    "# 그러므로 127.0.0.1:3306은\n",
    "# 현재 내 컴퓨터에서 서비스 되는 번호가 3306이라는 의미\n",
    "\n",
    "# 만약 외부에서 해당 내용을 보게 만들것이라면\n",
    "# ifconfig 명령어를 입력해서 현재 내 IP 주소를 확인할 필요가 있다.\n",
    "\n",
    "# MySQL에 루트 계정으로 접속하는 방법\n",
    "# sudo mysql -u root -p\n",
    "# 학원 비밀번호 입력하면 OK\n",
    "\n",
    "# 리눅스 세계에서는 root가 최강자\n",
    "# root는 윈도우의 관리자 권한보다 더 상위라고 보면 된다.\n",
    "# 그래서 루트 권한을 잘못 사용하면 컴퓨터 아작이 난다.\n",
    "# 그러므로 일반적인 권한을 가지고 있는 일반 사용자를 만들 필요가 있다.\n",
    "\n",
    "# MySQL에 접속한 상태에서 show databases를 하면\n",
    "# 현재 DB에 있는 모든 DB(스키마)를 구경할 수 있다.\n",
    "# show databases;\n",
    "\n",
    "# DB에 Query를 작성하다보면 화면이 지저분해질 수 있다.\n",
    "# 깔끔하게 사용하고자 한다면 화면을 지울 필요가 있다.\n",
    "# system clear\n",
    "\n",
    "# 일반적인 권한을 가진 사용자 계정을 만드는 과정\n",
    "# create user 'bitai'@localhost identified by '456123';\n",
    "\n",
    "# DB 사용하기 위한 권한을 부여해줘야 한다.\n",
    "# grant all privileges on *.* to 'bitai'@localhost identified by '456123';\n",
    "# flush privileges;\n",
    "\n",
    "# 앞서서 show databases를 통해서 스키마들을 확인했다.\n",
    "# 아래 명령은 어떤 스키마를 사용하려고 하는지를 결정하는 명령이다.\n",
    "# use pydb;\n",
    "\n",
    "# 현재 스키마에 어떤 DB 테이블들이 구성되어 있는지 보여주는 명령이다.\n",
    "# show tables;\n",
    "\n",
    "# 아래 명령을 통해서 MySQL을 종료할 수 있다.\n",
    "# quit\n",
    "\n",
    "# 아래 명령을 통해서\n",
    "# 방금 생성한 bitai 계정으로 MySQL에 접속이 가능하다.\n",
    "# mysql -u bitai -p"
   ]
  },
  {
   "cell_type": "code",
   "execution_count": 4,
   "metadata": {},
   "outputs": [
    {
     "ename": "InternalError",
     "evalue": "(1050, \"Table 'pydbtest' already exists\")",
     "output_type": "error",
     "traceback": [
      "\u001b[0;31m---------------------------------------------------------------------------\u001b[0m",
      "\u001b[0;31mInternalError\u001b[0m                             Traceback (most recent call last)",
      "\u001b[0;32m<ipython-input-4-7f52e504b36f>\u001b[0m in \u001b[0;36m<module>\u001b[0;34m\u001b[0m\n\u001b[1;32m     38\u001b[0m \u001b[0;31m# 위의 SQL Query를 실행하는 코드\u001b[0m\u001b[0;34m\u001b[0m\u001b[0;34m\u001b[0m\u001b[0;34m\u001b[0m\u001b[0m\n\u001b[1;32m     39\u001b[0m \u001b[0;31m# 작업을 메모리 상에서 해놓고 메모리에 올려놓고 있음\u001b[0m\u001b[0;34m\u001b[0m\u001b[0;34m\u001b[0m\u001b[0;34m\u001b[0m\u001b[0m\n\u001b[0;32m---> 40\u001b[0;31m \u001b[0mcursor\u001b[0m\u001b[0;34m.\u001b[0m\u001b[0mexecute\u001b[0m\u001b[0;34m(\u001b[0m\u001b[0msql\u001b[0m\u001b[0;34m)\u001b[0m\u001b[0;34m\u001b[0m\u001b[0;34m\u001b[0m\u001b[0m\n\u001b[0m\u001b[1;32m     41\u001b[0m \u001b[0;34m\u001b[0m\u001b[0m\n\u001b[1;32m     42\u001b[0m \u001b[0;31m# DB에 실제 내용을 갱신하는 코드\u001b[0m\u001b[0;34m\u001b[0m\u001b[0;34m\u001b[0m\u001b[0;34m\u001b[0m\u001b[0m\n",
      "\u001b[0;32m~/anaconda3/lib/python3.7/site-packages/pymysql/cursors.py\u001b[0m in \u001b[0;36mexecute\u001b[0;34m(self, query, args)\u001b[0m\n\u001b[1;32m    168\u001b[0m         \u001b[0mquery\u001b[0m \u001b[0;34m=\u001b[0m \u001b[0mself\u001b[0m\u001b[0;34m.\u001b[0m\u001b[0mmogrify\u001b[0m\u001b[0;34m(\u001b[0m\u001b[0mquery\u001b[0m\u001b[0;34m,\u001b[0m \u001b[0margs\u001b[0m\u001b[0;34m)\u001b[0m\u001b[0;34m\u001b[0m\u001b[0;34m\u001b[0m\u001b[0m\n\u001b[1;32m    169\u001b[0m \u001b[0;34m\u001b[0m\u001b[0m\n\u001b[0;32m--> 170\u001b[0;31m         \u001b[0mresult\u001b[0m \u001b[0;34m=\u001b[0m \u001b[0mself\u001b[0m\u001b[0;34m.\u001b[0m\u001b[0m_query\u001b[0m\u001b[0;34m(\u001b[0m\u001b[0mquery\u001b[0m\u001b[0;34m)\u001b[0m\u001b[0;34m\u001b[0m\u001b[0;34m\u001b[0m\u001b[0m\n\u001b[0m\u001b[1;32m    171\u001b[0m         \u001b[0mself\u001b[0m\u001b[0;34m.\u001b[0m\u001b[0m_executed\u001b[0m \u001b[0;34m=\u001b[0m \u001b[0mquery\u001b[0m\u001b[0;34m\u001b[0m\u001b[0;34m\u001b[0m\u001b[0m\n\u001b[1;32m    172\u001b[0m         \u001b[0;32mreturn\u001b[0m \u001b[0mresult\u001b[0m\u001b[0;34m\u001b[0m\u001b[0;34m\u001b[0m\u001b[0m\n",
      "\u001b[0;32m~/anaconda3/lib/python3.7/site-packages/pymysql/cursors.py\u001b[0m in \u001b[0;36m_query\u001b[0;34m(self, q)\u001b[0m\n\u001b[1;32m    326\u001b[0m         \u001b[0mself\u001b[0m\u001b[0;34m.\u001b[0m\u001b[0m_last_executed\u001b[0m \u001b[0;34m=\u001b[0m \u001b[0mq\u001b[0m\u001b[0;34m\u001b[0m\u001b[0;34m\u001b[0m\u001b[0m\n\u001b[1;32m    327\u001b[0m         \u001b[0mself\u001b[0m\u001b[0;34m.\u001b[0m\u001b[0m_clear_result\u001b[0m\u001b[0;34m(\u001b[0m\u001b[0;34m)\u001b[0m\u001b[0;34m\u001b[0m\u001b[0;34m\u001b[0m\u001b[0m\n\u001b[0;32m--> 328\u001b[0;31m         \u001b[0mconn\u001b[0m\u001b[0;34m.\u001b[0m\u001b[0mquery\u001b[0m\u001b[0;34m(\u001b[0m\u001b[0mq\u001b[0m\u001b[0;34m)\u001b[0m\u001b[0;34m\u001b[0m\u001b[0;34m\u001b[0m\u001b[0m\n\u001b[0m\u001b[1;32m    329\u001b[0m         \u001b[0mself\u001b[0m\u001b[0;34m.\u001b[0m\u001b[0m_do_get_result\u001b[0m\u001b[0;34m(\u001b[0m\u001b[0;34m)\u001b[0m\u001b[0;34m\u001b[0m\u001b[0;34m\u001b[0m\u001b[0m\n\u001b[1;32m    330\u001b[0m         \u001b[0;32mreturn\u001b[0m \u001b[0mself\u001b[0m\u001b[0;34m.\u001b[0m\u001b[0mrowcount\u001b[0m\u001b[0;34m\u001b[0m\u001b[0;34m\u001b[0m\u001b[0m\n",
      "\u001b[0;32m~/anaconda3/lib/python3.7/site-packages/pymysql/connections.py\u001b[0m in \u001b[0;36mquery\u001b[0;34m(self, sql, unbuffered)\u001b[0m\n\u001b[1;32m    515\u001b[0m                 \u001b[0msql\u001b[0m \u001b[0;34m=\u001b[0m \u001b[0msql\u001b[0m\u001b[0;34m.\u001b[0m\u001b[0mencode\u001b[0m\u001b[0;34m(\u001b[0m\u001b[0mself\u001b[0m\u001b[0;34m.\u001b[0m\u001b[0mencoding\u001b[0m\u001b[0;34m,\u001b[0m \u001b[0;34m'surrogateescape'\u001b[0m\u001b[0;34m)\u001b[0m\u001b[0;34m\u001b[0m\u001b[0;34m\u001b[0m\u001b[0m\n\u001b[1;32m    516\u001b[0m         \u001b[0mself\u001b[0m\u001b[0;34m.\u001b[0m\u001b[0m_execute_command\u001b[0m\u001b[0;34m(\u001b[0m\u001b[0mCOMMAND\u001b[0m\u001b[0;34m.\u001b[0m\u001b[0mCOM_QUERY\u001b[0m\u001b[0;34m,\u001b[0m \u001b[0msql\u001b[0m\u001b[0;34m)\u001b[0m\u001b[0;34m\u001b[0m\u001b[0;34m\u001b[0m\u001b[0m\n\u001b[0;32m--> 517\u001b[0;31m         \u001b[0mself\u001b[0m\u001b[0;34m.\u001b[0m\u001b[0m_affected_rows\u001b[0m \u001b[0;34m=\u001b[0m \u001b[0mself\u001b[0m\u001b[0;34m.\u001b[0m\u001b[0m_read_query_result\u001b[0m\u001b[0;34m(\u001b[0m\u001b[0munbuffered\u001b[0m\u001b[0;34m=\u001b[0m\u001b[0munbuffered\u001b[0m\u001b[0;34m)\u001b[0m\u001b[0;34m\u001b[0m\u001b[0;34m\u001b[0m\u001b[0m\n\u001b[0m\u001b[1;32m    518\u001b[0m         \u001b[0;32mreturn\u001b[0m \u001b[0mself\u001b[0m\u001b[0;34m.\u001b[0m\u001b[0m_affected_rows\u001b[0m\u001b[0;34m\u001b[0m\u001b[0;34m\u001b[0m\u001b[0m\n\u001b[1;32m    519\u001b[0m \u001b[0;34m\u001b[0m\u001b[0m\n",
      "\u001b[0;32m~/anaconda3/lib/python3.7/site-packages/pymysql/connections.py\u001b[0m in \u001b[0;36m_read_query_result\u001b[0;34m(self, unbuffered)\u001b[0m\n\u001b[1;32m    730\u001b[0m         \u001b[0;32melse\u001b[0m\u001b[0;34m:\u001b[0m\u001b[0;34m\u001b[0m\u001b[0;34m\u001b[0m\u001b[0m\n\u001b[1;32m    731\u001b[0m             \u001b[0mresult\u001b[0m \u001b[0;34m=\u001b[0m \u001b[0mMySQLResult\u001b[0m\u001b[0;34m(\u001b[0m\u001b[0mself\u001b[0m\u001b[0;34m)\u001b[0m\u001b[0;34m\u001b[0m\u001b[0;34m\u001b[0m\u001b[0m\n\u001b[0;32m--> 732\u001b[0;31m             \u001b[0mresult\u001b[0m\u001b[0;34m.\u001b[0m\u001b[0mread\u001b[0m\u001b[0;34m(\u001b[0m\u001b[0;34m)\u001b[0m\u001b[0;34m\u001b[0m\u001b[0;34m\u001b[0m\u001b[0m\n\u001b[0m\u001b[1;32m    733\u001b[0m         \u001b[0mself\u001b[0m\u001b[0;34m.\u001b[0m\u001b[0m_result\u001b[0m \u001b[0;34m=\u001b[0m \u001b[0mresult\u001b[0m\u001b[0;34m\u001b[0m\u001b[0;34m\u001b[0m\u001b[0m\n\u001b[1;32m    734\u001b[0m         \u001b[0;32mif\u001b[0m \u001b[0mresult\u001b[0m\u001b[0;34m.\u001b[0m\u001b[0mserver_status\u001b[0m \u001b[0;32mis\u001b[0m \u001b[0;32mnot\u001b[0m \u001b[0;32mNone\u001b[0m\u001b[0;34m:\u001b[0m\u001b[0;34m\u001b[0m\u001b[0;34m\u001b[0m\u001b[0m\n",
      "\u001b[0;32m~/anaconda3/lib/python3.7/site-packages/pymysql/connections.py\u001b[0m in \u001b[0;36mread\u001b[0;34m(self)\u001b[0m\n\u001b[1;32m   1073\u001b[0m     \u001b[0;32mdef\u001b[0m \u001b[0mread\u001b[0m\u001b[0;34m(\u001b[0m\u001b[0mself\u001b[0m\u001b[0;34m)\u001b[0m\u001b[0;34m:\u001b[0m\u001b[0;34m\u001b[0m\u001b[0;34m\u001b[0m\u001b[0m\n\u001b[1;32m   1074\u001b[0m         \u001b[0;32mtry\u001b[0m\u001b[0;34m:\u001b[0m\u001b[0;34m\u001b[0m\u001b[0;34m\u001b[0m\u001b[0m\n\u001b[0;32m-> 1075\u001b[0;31m             \u001b[0mfirst_packet\u001b[0m \u001b[0;34m=\u001b[0m \u001b[0mself\u001b[0m\u001b[0;34m.\u001b[0m\u001b[0mconnection\u001b[0m\u001b[0;34m.\u001b[0m\u001b[0m_read_packet\u001b[0m\u001b[0;34m(\u001b[0m\u001b[0;34m)\u001b[0m\u001b[0;34m\u001b[0m\u001b[0;34m\u001b[0m\u001b[0m\n\u001b[0m\u001b[1;32m   1076\u001b[0m \u001b[0;34m\u001b[0m\u001b[0m\n\u001b[1;32m   1077\u001b[0m             \u001b[0;32mif\u001b[0m \u001b[0mfirst_packet\u001b[0m\u001b[0;34m.\u001b[0m\u001b[0mis_ok_packet\u001b[0m\u001b[0;34m(\u001b[0m\u001b[0;34m)\u001b[0m\u001b[0;34m:\u001b[0m\u001b[0;34m\u001b[0m\u001b[0;34m\u001b[0m\u001b[0m\n",
      "\u001b[0;32m~/anaconda3/lib/python3.7/site-packages/pymysql/connections.py\u001b[0m in \u001b[0;36m_read_packet\u001b[0;34m(self, packet_type)\u001b[0m\n\u001b[1;32m    682\u001b[0m \u001b[0;34m\u001b[0m\u001b[0m\n\u001b[1;32m    683\u001b[0m         \u001b[0mpacket\u001b[0m \u001b[0;34m=\u001b[0m \u001b[0mpacket_type\u001b[0m\u001b[0;34m(\u001b[0m\u001b[0mbuff\u001b[0m\u001b[0;34m,\u001b[0m \u001b[0mself\u001b[0m\u001b[0;34m.\u001b[0m\u001b[0mencoding\u001b[0m\u001b[0;34m)\u001b[0m\u001b[0;34m\u001b[0m\u001b[0;34m\u001b[0m\u001b[0m\n\u001b[0;32m--> 684\u001b[0;31m         \u001b[0mpacket\u001b[0m\u001b[0;34m.\u001b[0m\u001b[0mcheck_error\u001b[0m\u001b[0;34m(\u001b[0m\u001b[0;34m)\u001b[0m\u001b[0;34m\u001b[0m\u001b[0;34m\u001b[0m\u001b[0m\n\u001b[0m\u001b[1;32m    685\u001b[0m         \u001b[0;32mreturn\u001b[0m \u001b[0mpacket\u001b[0m\u001b[0;34m\u001b[0m\u001b[0;34m\u001b[0m\u001b[0m\n\u001b[1;32m    686\u001b[0m \u001b[0;34m\u001b[0m\u001b[0m\n",
      "\u001b[0;32m~/anaconda3/lib/python3.7/site-packages/pymysql/protocol.py\u001b[0m in \u001b[0;36mcheck_error\u001b[0;34m(self)\u001b[0m\n\u001b[1;32m    218\u001b[0m             \u001b[0merrno\u001b[0m \u001b[0;34m=\u001b[0m \u001b[0mself\u001b[0m\u001b[0;34m.\u001b[0m\u001b[0mread_uint16\u001b[0m\u001b[0;34m(\u001b[0m\u001b[0;34m)\u001b[0m\u001b[0;34m\u001b[0m\u001b[0;34m\u001b[0m\u001b[0m\n\u001b[1;32m    219\u001b[0m             \u001b[0;32mif\u001b[0m \u001b[0mDEBUG\u001b[0m\u001b[0;34m:\u001b[0m \u001b[0mprint\u001b[0m\u001b[0;34m(\u001b[0m\u001b[0;34m\"errno =\"\u001b[0m\u001b[0;34m,\u001b[0m \u001b[0merrno\u001b[0m\u001b[0;34m)\u001b[0m\u001b[0;34m\u001b[0m\u001b[0;34m\u001b[0m\u001b[0m\n\u001b[0;32m--> 220\u001b[0;31m             \u001b[0merr\u001b[0m\u001b[0;34m.\u001b[0m\u001b[0mraise_mysql_exception\u001b[0m\u001b[0;34m(\u001b[0m\u001b[0mself\u001b[0m\u001b[0;34m.\u001b[0m\u001b[0m_data\u001b[0m\u001b[0;34m)\u001b[0m\u001b[0;34m\u001b[0m\u001b[0;34m\u001b[0m\u001b[0m\n\u001b[0m\u001b[1;32m    221\u001b[0m \u001b[0;34m\u001b[0m\u001b[0m\n\u001b[1;32m    222\u001b[0m     \u001b[0;32mdef\u001b[0m \u001b[0mdump\u001b[0m\u001b[0;34m(\u001b[0m\u001b[0mself\u001b[0m\u001b[0;34m)\u001b[0m\u001b[0;34m:\u001b[0m\u001b[0;34m\u001b[0m\u001b[0;34m\u001b[0m\u001b[0m\n",
      "\u001b[0;32m~/anaconda3/lib/python3.7/site-packages/pymysql/err.py\u001b[0m in \u001b[0;36mraise_mysql_exception\u001b[0;34m(data)\u001b[0m\n\u001b[1;32m    107\u001b[0m         \u001b[0merrval\u001b[0m \u001b[0;34m=\u001b[0m \u001b[0mdata\u001b[0m\u001b[0;34m[\u001b[0m\u001b[0;36m3\u001b[0m\u001b[0;34m:\u001b[0m\u001b[0;34m]\u001b[0m\u001b[0;34m.\u001b[0m\u001b[0mdecode\u001b[0m\u001b[0;34m(\u001b[0m\u001b[0;34m'utf-8'\u001b[0m\u001b[0;34m,\u001b[0m \u001b[0;34m'replace'\u001b[0m\u001b[0;34m)\u001b[0m\u001b[0;34m\u001b[0m\u001b[0;34m\u001b[0m\u001b[0m\n\u001b[1;32m    108\u001b[0m     \u001b[0merrorclass\u001b[0m \u001b[0;34m=\u001b[0m \u001b[0merror_map\u001b[0m\u001b[0;34m.\u001b[0m\u001b[0mget\u001b[0m\u001b[0;34m(\u001b[0m\u001b[0merrno\u001b[0m\u001b[0;34m,\u001b[0m \u001b[0mInternalError\u001b[0m\u001b[0;34m)\u001b[0m\u001b[0;34m\u001b[0m\u001b[0;34m\u001b[0m\u001b[0m\n\u001b[0;32m--> 109\u001b[0;31m     \u001b[0;32mraise\u001b[0m \u001b[0merrorclass\u001b[0m\u001b[0;34m(\u001b[0m\u001b[0merrno\u001b[0m\u001b[0;34m,\u001b[0m \u001b[0merrval\u001b[0m\u001b[0;34m)\u001b[0m\u001b[0;34m\u001b[0m\u001b[0;34m\u001b[0m\u001b[0m\n\u001b[0m",
      "\u001b[0;31mInternalError\u001b[0m: (1050, \"Table 'pydbtest' already exists\")"
     ]
    }
   ],
   "source": [
    "# pip install pymysql\n",
    "import pymysql\n",
    "\n",
    "# mysql -u bitai -p 비밀번호\n",
    "# 위의 명령을 프로그래밍 버전으로 변형한 것임\n",
    "db = pymysql.connect(\n",
    "    # 접속할 컴퓨터의 주소\n",
    "    host = '127.0.0.1',\n",
    "    # 현재 구동중인 MySQL의 포트(서비스) 번호\n",
    "    port = 3306,\n",
    "    # 계정 이름\n",
    "    user = 'bitai',\n",
    "    # 비밀 번호\n",
    "    passwd = '456123',\n",
    "    # 사용하려는 스키마\n",
    "    db = 'pydb'\n",
    ")\n",
    "\n",
    "# 후에 select 등을 했을때\n",
    "# 결과를 하나 하나 커서를 내려가며 순회할 수 있는 녀석\n",
    "cursor = db.cursor()\n",
    "\n",
    "# 실제 MySQL에서 사용하는 DB Query 문임\n",
    "# create table 테이블명(원하는 필드와 원하는 타입을 작성)\n",
    "# auto_increment는 자동 증가\n",
    "# unsigned란 부호가 없다는 의미(즉 양수만 취급)\n",
    "# varchar는 문자를 저장할 수 있는 배열\n",
    "# primary key는 대표 키를 설정하는 키워드\n",
    "sql = \"\"\"\n",
    "    create table pydbtest(\n",
    "        id int unsigned not null auto_increment,\n",
    "        name varchar(20) not null,\n",
    "        price int not null,\n",
    "        primary key(id)\n",
    "    )\n",
    "\"\"\"\n",
    "\n",
    "# 위의 SQL Query를 실행하는 코드\n",
    "# 작업을 메모리 상에서 해놓고 메모리에 올려놓고 있음\n",
    "cursor.execute(sql)\n",
    "\n",
    "# DB에 실제 내용을 갱신하는 코드\n",
    "# 실제 이부분은 I/O로 작업을 내리는 과정\n",
    "db.commit()\n",
    "\n",
    "# 왜 실행하자마자 적용되지 않고 commit()이란 것이 별도로 있나요 ?\n",
    "# 파이썬에서 join()을 배웠었는데 같은 이유다.\n",
    "# 결론적으로 컴퓨터의 성능은 I/O와 직결된다.\n",
    "\n",
    "# 작업을 완료했으므로 DB 연결을 끊는다.\n",
    "db.close()\n",
    "\n",
    "print(\"Table Creation Success\")"
   ]
  },
  {
   "cell_type": "code",
   "execution_count": 5,
   "metadata": {},
   "outputs": [],
   "source": [
    "# 위의 코드를 통해서 pydb 스키마에\n",
    "# pydbtest라는 테이블을 생성하였다.\n",
    "# 확인은 아래와 같이 하면 된다.\n",
    "# mysql -u bitai -p\n",
    "\n",
    "# MySQL에 접속해서\n",
    "# use pydb;\n",
    "# show tables;\n",
    "# 위의 명령을 수행하면 방금만든 pydbtest 테이블을 볼 수 있을 것이다.\n",
    "\n",
    "# 내부의 내용을 살펴보고자 한다면\n",
    "# describe pydbtest;"
   ]
  },
  {
   "cell_type": "code",
   "execution_count": 6,
   "metadata": {},
   "outputs": [
    {
     "name": "stdout",
     "output_type": "stream",
     "text": [
      "Insertion Success\n"
     ]
    }
   ],
   "source": [
    "# pip install pymysql\n",
    "import pymysql\n",
    "\n",
    "db = pymysql.connect(\n",
    "    host = '127.0.0.1',\n",
    "    port = 3306,\n",
    "    user = 'bitai',\n",
    "    passwd = '456123',\n",
    "    \n",
    "    db = 'pydb'\n",
    ")\n",
    "\n",
    "\n",
    "cursor = db.cursor()\n",
    "\n",
    "# insert into 테이블이름(필드 이름들 채움)\n",
    "# 필드를 이름을 채울 때 id처럼 auto_increment 되는 것은 제외한다.\n",
    "# values (%s, %s)라고 되어 있는데\n",
    "# 이 부분은 어떤 특정 값을 가져와서 문자열 형태로 처리할 것이라는 의미\n",
    "# DB에서 처리는 문자열로 처리하므로 %s를 보편적으로 사용한다.\n",
    "sql = \"\"\"\n",
    "    insert into pydbtest(name, price) value (%s, %s)\n",
    "\"\"\"\n",
    "\n",
    "# 위의 %s가 두 개 있으므로\n",
    "# sql로 전달되는 인자 또한 두 개가 들어온다.\n",
    "# execute할 때 sql의 %s에 인자로 넘어온 튜플이 들어가게 된다.\n",
    "cursor.execute(sql, ('Xeon Server', 10000000))\n",
    "cursor.execute(sql, ('FPGA Server', 34000000))\n",
    "cursor.execute(sql, ('GPU Server', 20000000))\n",
    "cursor.execute(sql, ('RTX Titan', 4000000))\n",
    "\n",
    "db.commit()\n",
    "\n",
    "db.close()\n",
    "\n",
    "print(\"Insertion Success\")"
   ]
  },
  {
   "cell_type": "code",
   "execution_count": 7,
   "metadata": {},
   "outputs": [],
   "source": [
    "# 입력 값을 확인하는 방법\n",
    "# mysql -u bitai -p로 접속한다.\n",
    "\n",
    "# use pydb;\n",
    "# select * from pydbtest;\n",
    "# 위의 명령을 입력하면 pydbtest에 삽입된 값들을 볼 수 있다."
   ]
  },
  {
   "cell_type": "code",
   "execution_count": 8,
   "metadata": {},
   "outputs": [
    {
     "name": "stdout",
     "output_type": "stream",
     "text": [
      "((1, 'Xeon Server', 10000000), (2, 'FPGA Server', 34000000), (3, 'GPU Server', 20000000), (4, 'RTX Titan', 4000000), (5, 'Xeon Server', 10000000), (6, 'FPGA Server', 34000000), (7, 'GPU Server', 20000000), (8, 'RTX Titan', 4000000))\n",
      "Selection Success\n"
     ]
    }
   ],
   "source": [
    "import pymysql\n",
    "\n",
    "db = pymysql.connect(\n",
    "    host = '127.0.0.1',\n",
    "    port = 3306,\n",
    "    user = 'bitai',\n",
    "    passwd = '456123',\n",
    "    db = 'pydb'\n",
    ")\n",
    "\n",
    "cursor = db.cursor()\n",
    "\n",
    "# pydbtest에 있는 모든것(*)을 선택해서 가져와라 ~\n",
    "sql = \"\"\"\n",
    "    select * from pydbtest;\n",
    "\"\"\"\n",
    "\n",
    "cursor.execute(sql)\n",
    "# cursor를 통해서 가져온 모든 데이터를 rows에 집어넣는다.\n",
    "rows = cursor.fetchall()\n",
    "print(rows)\n",
    "\n",
    "db.close()\n",
    "\n",
    "print(\"Selection Success\")"
   ]
  },
  {
   "cell_type": "code",
   "execution_count": 9,
   "metadata": {},
   "outputs": [
    {
     "name": "stdout",
     "output_type": "stream",
     "text": [
      "(1, 'Xeon Server', 10000000)\n",
      "(2, 'FPGA Server', 34000000)\n",
      "(3, 'GPU Server', 20000000)\n",
      "(4, 'RTX Titan', 4000000)\n",
      "(5, 'Xeon Server', 10000000)\n",
      "(6, 'FPGA Server', 34000000)\n",
      "(7, 'GPU Server', 20000000)\n",
      "(8, 'RTX Titan', 4000000)\n",
      "Selection Success\n"
     ]
    }
   ],
   "source": [
    "import pymysql\n",
    "\n",
    "db = pymysql.connect(\n",
    "    host = '127.0.0.1',\n",
    "    port = 3306,\n",
    "    user = 'bitai',\n",
    "    passwd = '456123',\n",
    "    db = 'pydb'\n",
    ")\n",
    "\n",
    "cursor = db.cursor()\n",
    "\n",
    "sql = \"\"\"\n",
    "    select * from pydbtest;\n",
    "\"\"\"\n",
    "\n",
    "cursor.execute(sql)\n",
    "rows = cursor.fetchall()\n",
    "for row in rows:\n",
    "    print(row)\n",
    "\n",
    "db.close()\n",
    "\n",
    "print(\"Selection Success\")"
   ]
  },
  {
   "cell_type": "code",
   "execution_count": 10,
   "metadata": {},
   "outputs": [
    {
     "name": "stdout",
     "output_type": "stream",
     "text": [
      "1 Xeon Server 10000000\n",
      "2 FPGA Server 34000000\n",
      "3 GPU Server 20000000\n",
      "4 RTX Titan 4000000\n",
      "5 Xeon Server 10000000\n",
      "6 FPGA Server 34000000\n",
      "7 GPU Server 20000000\n",
      "8 RTX Titan 4000000\n",
      "Selection Success\n"
     ]
    }
   ],
   "source": [
    "# pip install pymysql\n",
    "import pymysql\n",
    "\n",
    "db = pymysql.connect(\n",
    "    host = '127.0.0.1',\n",
    "    port = 3306,\n",
    "    user = 'bitai',\n",
    "    passwd = '456123',\n",
    "    db = 'pydb'\n",
    ")\n",
    "\n",
    "# 커서 정보를 Dictionary 형태로 사용하려면\n",
    "# 아래의 코드를 반드시 구동해야 한다.\n",
    "cursor = db.cursor(pymysql.cursors.DictCursor)\n",
    "\n",
    "\n",
    "sql = \"\"\"\n",
    "    select * from pydbtest;\n",
    "\"\"\"\n",
    "\n",
    "cursor.execute(sql)\n",
    "rows = cursor.fetchall()\n",
    "for row in rows:\n",
    "    print(row['id'], row['name'], row['price'])\n",
    "\n",
    "\n",
    "\n",
    "db.close()\n",
    "\n",
    "print(\"Selection Success\")"
   ]
  },
  {
   "cell_type": "code",
   "execution_count": 11,
   "metadata": {},
   "outputs": [
    {
     "name": "stdout",
     "output_type": "stream",
     "text": [
      "Drop Success\n"
     ]
    }
   ],
   "source": [
    "import pymysql\n",
    "\n",
    "db = pymysql.connect(\n",
    "    host = '127.0.0.1',\n",
    "    port = 3306,\n",
    "    user = 'bitai',\n",
    "    passwd = '456123',\n",
    "    db = 'pydb'\n",
    ")\n",
    "\n",
    "cursor = db.cursor()\n",
    "\n",
    "# 기존에 만든 테이블을 삭제하는 방법\n",
    "# drop table 테이블이름\n",
    "sql = \"\"\"\n",
    "    drop table pydbtest;\n",
    "\"\"\"\n",
    "\n",
    "cursor.execute(sql)\n",
    "\n",
    "db.commit()\n",
    "\n",
    "db.close()\n",
    "\n",
    "print(\"Drop Success\")"
   ]
  },
  {
   "cell_type": "code",
   "execution_count": 12,
   "metadata": {},
   "outputs": [
    {
     "ename": "InternalError",
     "evalue": "(1050, \"Table 'sensor_data' already exists\")",
     "output_type": "error",
     "traceback": [
      "\u001b[0;31m---------------------------------------------------------------------------\u001b[0m",
      "\u001b[0;31mInternalError\u001b[0m                             Traceback (most recent call last)",
      "\u001b[0;32m<ipython-input-12-976835add892>\u001b[0m in \u001b[0;36m<module>\u001b[0;34m\u001b[0m\n\u001b[1;32m     20\u001b[0m \"\"\"\n\u001b[1;32m     21\u001b[0m \u001b[0;34m\u001b[0m\u001b[0m\n\u001b[0;32m---> 22\u001b[0;31m \u001b[0mcursor\u001b[0m\u001b[0;34m.\u001b[0m\u001b[0mexecute\u001b[0m\u001b[0;34m(\u001b[0m\u001b[0msql\u001b[0m\u001b[0;34m)\u001b[0m\u001b[0;34m\u001b[0m\u001b[0;34m\u001b[0m\u001b[0m\n\u001b[0m\u001b[1;32m     23\u001b[0m \u001b[0;34m\u001b[0m\u001b[0m\n\u001b[1;32m     24\u001b[0m \u001b[0mdb\u001b[0m\u001b[0;34m.\u001b[0m\u001b[0mcommit\u001b[0m\u001b[0;34m(\u001b[0m\u001b[0;34m)\u001b[0m\u001b[0;34m\u001b[0m\u001b[0;34m\u001b[0m\u001b[0m\n",
      "\u001b[0;32m~/anaconda3/lib/python3.7/site-packages/pymysql/cursors.py\u001b[0m in \u001b[0;36mexecute\u001b[0;34m(self, query, args)\u001b[0m\n\u001b[1;32m    168\u001b[0m         \u001b[0mquery\u001b[0m \u001b[0;34m=\u001b[0m \u001b[0mself\u001b[0m\u001b[0;34m.\u001b[0m\u001b[0mmogrify\u001b[0m\u001b[0;34m(\u001b[0m\u001b[0mquery\u001b[0m\u001b[0;34m,\u001b[0m \u001b[0margs\u001b[0m\u001b[0;34m)\u001b[0m\u001b[0;34m\u001b[0m\u001b[0;34m\u001b[0m\u001b[0m\n\u001b[1;32m    169\u001b[0m \u001b[0;34m\u001b[0m\u001b[0m\n\u001b[0;32m--> 170\u001b[0;31m         \u001b[0mresult\u001b[0m \u001b[0;34m=\u001b[0m \u001b[0mself\u001b[0m\u001b[0;34m.\u001b[0m\u001b[0m_query\u001b[0m\u001b[0;34m(\u001b[0m\u001b[0mquery\u001b[0m\u001b[0;34m)\u001b[0m\u001b[0;34m\u001b[0m\u001b[0;34m\u001b[0m\u001b[0m\n\u001b[0m\u001b[1;32m    171\u001b[0m         \u001b[0mself\u001b[0m\u001b[0;34m.\u001b[0m\u001b[0m_executed\u001b[0m \u001b[0;34m=\u001b[0m \u001b[0mquery\u001b[0m\u001b[0;34m\u001b[0m\u001b[0;34m\u001b[0m\u001b[0m\n\u001b[1;32m    172\u001b[0m         \u001b[0;32mreturn\u001b[0m \u001b[0mresult\u001b[0m\u001b[0;34m\u001b[0m\u001b[0;34m\u001b[0m\u001b[0m\n",
      "\u001b[0;32m~/anaconda3/lib/python3.7/site-packages/pymysql/cursors.py\u001b[0m in \u001b[0;36m_query\u001b[0;34m(self, q)\u001b[0m\n\u001b[1;32m    326\u001b[0m         \u001b[0mself\u001b[0m\u001b[0;34m.\u001b[0m\u001b[0m_last_executed\u001b[0m \u001b[0;34m=\u001b[0m \u001b[0mq\u001b[0m\u001b[0;34m\u001b[0m\u001b[0;34m\u001b[0m\u001b[0m\n\u001b[1;32m    327\u001b[0m         \u001b[0mself\u001b[0m\u001b[0;34m.\u001b[0m\u001b[0m_clear_result\u001b[0m\u001b[0;34m(\u001b[0m\u001b[0;34m)\u001b[0m\u001b[0;34m\u001b[0m\u001b[0;34m\u001b[0m\u001b[0m\n\u001b[0;32m--> 328\u001b[0;31m         \u001b[0mconn\u001b[0m\u001b[0;34m.\u001b[0m\u001b[0mquery\u001b[0m\u001b[0;34m(\u001b[0m\u001b[0mq\u001b[0m\u001b[0;34m)\u001b[0m\u001b[0;34m\u001b[0m\u001b[0;34m\u001b[0m\u001b[0m\n\u001b[0m\u001b[1;32m    329\u001b[0m         \u001b[0mself\u001b[0m\u001b[0;34m.\u001b[0m\u001b[0m_do_get_result\u001b[0m\u001b[0;34m(\u001b[0m\u001b[0;34m)\u001b[0m\u001b[0;34m\u001b[0m\u001b[0;34m\u001b[0m\u001b[0m\n\u001b[1;32m    330\u001b[0m         \u001b[0;32mreturn\u001b[0m \u001b[0mself\u001b[0m\u001b[0;34m.\u001b[0m\u001b[0mrowcount\u001b[0m\u001b[0;34m\u001b[0m\u001b[0;34m\u001b[0m\u001b[0m\n",
      "\u001b[0;32m~/anaconda3/lib/python3.7/site-packages/pymysql/connections.py\u001b[0m in \u001b[0;36mquery\u001b[0;34m(self, sql, unbuffered)\u001b[0m\n\u001b[1;32m    515\u001b[0m                 \u001b[0msql\u001b[0m \u001b[0;34m=\u001b[0m \u001b[0msql\u001b[0m\u001b[0;34m.\u001b[0m\u001b[0mencode\u001b[0m\u001b[0;34m(\u001b[0m\u001b[0mself\u001b[0m\u001b[0;34m.\u001b[0m\u001b[0mencoding\u001b[0m\u001b[0;34m,\u001b[0m \u001b[0;34m'surrogateescape'\u001b[0m\u001b[0;34m)\u001b[0m\u001b[0;34m\u001b[0m\u001b[0;34m\u001b[0m\u001b[0m\n\u001b[1;32m    516\u001b[0m         \u001b[0mself\u001b[0m\u001b[0;34m.\u001b[0m\u001b[0m_execute_command\u001b[0m\u001b[0;34m(\u001b[0m\u001b[0mCOMMAND\u001b[0m\u001b[0;34m.\u001b[0m\u001b[0mCOM_QUERY\u001b[0m\u001b[0;34m,\u001b[0m \u001b[0msql\u001b[0m\u001b[0;34m)\u001b[0m\u001b[0;34m\u001b[0m\u001b[0;34m\u001b[0m\u001b[0m\n\u001b[0;32m--> 517\u001b[0;31m         \u001b[0mself\u001b[0m\u001b[0;34m.\u001b[0m\u001b[0m_affected_rows\u001b[0m \u001b[0;34m=\u001b[0m \u001b[0mself\u001b[0m\u001b[0;34m.\u001b[0m\u001b[0m_read_query_result\u001b[0m\u001b[0;34m(\u001b[0m\u001b[0munbuffered\u001b[0m\u001b[0;34m=\u001b[0m\u001b[0munbuffered\u001b[0m\u001b[0;34m)\u001b[0m\u001b[0;34m\u001b[0m\u001b[0;34m\u001b[0m\u001b[0m\n\u001b[0m\u001b[1;32m    518\u001b[0m         \u001b[0;32mreturn\u001b[0m \u001b[0mself\u001b[0m\u001b[0;34m.\u001b[0m\u001b[0m_affected_rows\u001b[0m\u001b[0;34m\u001b[0m\u001b[0;34m\u001b[0m\u001b[0m\n\u001b[1;32m    519\u001b[0m \u001b[0;34m\u001b[0m\u001b[0m\n",
      "\u001b[0;32m~/anaconda3/lib/python3.7/site-packages/pymysql/connections.py\u001b[0m in \u001b[0;36m_read_query_result\u001b[0;34m(self, unbuffered)\u001b[0m\n\u001b[1;32m    730\u001b[0m         \u001b[0;32melse\u001b[0m\u001b[0;34m:\u001b[0m\u001b[0;34m\u001b[0m\u001b[0;34m\u001b[0m\u001b[0m\n\u001b[1;32m    731\u001b[0m             \u001b[0mresult\u001b[0m \u001b[0;34m=\u001b[0m \u001b[0mMySQLResult\u001b[0m\u001b[0;34m(\u001b[0m\u001b[0mself\u001b[0m\u001b[0;34m)\u001b[0m\u001b[0;34m\u001b[0m\u001b[0;34m\u001b[0m\u001b[0m\n\u001b[0;32m--> 732\u001b[0;31m             \u001b[0mresult\u001b[0m\u001b[0;34m.\u001b[0m\u001b[0mread\u001b[0m\u001b[0;34m(\u001b[0m\u001b[0;34m)\u001b[0m\u001b[0;34m\u001b[0m\u001b[0;34m\u001b[0m\u001b[0m\n\u001b[0m\u001b[1;32m    733\u001b[0m         \u001b[0mself\u001b[0m\u001b[0;34m.\u001b[0m\u001b[0m_result\u001b[0m \u001b[0;34m=\u001b[0m \u001b[0mresult\u001b[0m\u001b[0;34m\u001b[0m\u001b[0;34m\u001b[0m\u001b[0m\n\u001b[1;32m    734\u001b[0m         \u001b[0;32mif\u001b[0m \u001b[0mresult\u001b[0m\u001b[0;34m.\u001b[0m\u001b[0mserver_status\u001b[0m \u001b[0;32mis\u001b[0m \u001b[0;32mnot\u001b[0m \u001b[0;32mNone\u001b[0m\u001b[0;34m:\u001b[0m\u001b[0;34m\u001b[0m\u001b[0;34m\u001b[0m\u001b[0m\n",
      "\u001b[0;32m~/anaconda3/lib/python3.7/site-packages/pymysql/connections.py\u001b[0m in \u001b[0;36mread\u001b[0;34m(self)\u001b[0m\n\u001b[1;32m   1073\u001b[0m     \u001b[0;32mdef\u001b[0m \u001b[0mread\u001b[0m\u001b[0;34m(\u001b[0m\u001b[0mself\u001b[0m\u001b[0;34m)\u001b[0m\u001b[0;34m:\u001b[0m\u001b[0;34m\u001b[0m\u001b[0;34m\u001b[0m\u001b[0m\n\u001b[1;32m   1074\u001b[0m         \u001b[0;32mtry\u001b[0m\u001b[0;34m:\u001b[0m\u001b[0;34m\u001b[0m\u001b[0;34m\u001b[0m\u001b[0m\n\u001b[0;32m-> 1075\u001b[0;31m             \u001b[0mfirst_packet\u001b[0m \u001b[0;34m=\u001b[0m \u001b[0mself\u001b[0m\u001b[0;34m.\u001b[0m\u001b[0mconnection\u001b[0m\u001b[0;34m.\u001b[0m\u001b[0m_read_packet\u001b[0m\u001b[0;34m(\u001b[0m\u001b[0;34m)\u001b[0m\u001b[0;34m\u001b[0m\u001b[0;34m\u001b[0m\u001b[0m\n\u001b[0m\u001b[1;32m   1076\u001b[0m \u001b[0;34m\u001b[0m\u001b[0m\n\u001b[1;32m   1077\u001b[0m             \u001b[0;32mif\u001b[0m \u001b[0mfirst_packet\u001b[0m\u001b[0;34m.\u001b[0m\u001b[0mis_ok_packet\u001b[0m\u001b[0;34m(\u001b[0m\u001b[0;34m)\u001b[0m\u001b[0;34m:\u001b[0m\u001b[0;34m\u001b[0m\u001b[0;34m\u001b[0m\u001b[0m\n",
      "\u001b[0;32m~/anaconda3/lib/python3.7/site-packages/pymysql/connections.py\u001b[0m in \u001b[0;36m_read_packet\u001b[0;34m(self, packet_type)\u001b[0m\n\u001b[1;32m    682\u001b[0m \u001b[0;34m\u001b[0m\u001b[0m\n\u001b[1;32m    683\u001b[0m         \u001b[0mpacket\u001b[0m \u001b[0;34m=\u001b[0m \u001b[0mpacket_type\u001b[0m\u001b[0;34m(\u001b[0m\u001b[0mbuff\u001b[0m\u001b[0;34m,\u001b[0m \u001b[0mself\u001b[0m\u001b[0;34m.\u001b[0m\u001b[0mencoding\u001b[0m\u001b[0;34m)\u001b[0m\u001b[0;34m\u001b[0m\u001b[0;34m\u001b[0m\u001b[0m\n\u001b[0;32m--> 684\u001b[0;31m         \u001b[0mpacket\u001b[0m\u001b[0;34m.\u001b[0m\u001b[0mcheck_error\u001b[0m\u001b[0;34m(\u001b[0m\u001b[0;34m)\u001b[0m\u001b[0;34m\u001b[0m\u001b[0;34m\u001b[0m\u001b[0m\n\u001b[0m\u001b[1;32m    685\u001b[0m         \u001b[0;32mreturn\u001b[0m \u001b[0mpacket\u001b[0m\u001b[0;34m\u001b[0m\u001b[0;34m\u001b[0m\u001b[0m\n\u001b[1;32m    686\u001b[0m \u001b[0;34m\u001b[0m\u001b[0m\n",
      "\u001b[0;32m~/anaconda3/lib/python3.7/site-packages/pymysql/protocol.py\u001b[0m in \u001b[0;36mcheck_error\u001b[0;34m(self)\u001b[0m\n\u001b[1;32m    218\u001b[0m             \u001b[0merrno\u001b[0m \u001b[0;34m=\u001b[0m \u001b[0mself\u001b[0m\u001b[0;34m.\u001b[0m\u001b[0mread_uint16\u001b[0m\u001b[0;34m(\u001b[0m\u001b[0;34m)\u001b[0m\u001b[0;34m\u001b[0m\u001b[0;34m\u001b[0m\u001b[0m\n\u001b[1;32m    219\u001b[0m             \u001b[0;32mif\u001b[0m \u001b[0mDEBUG\u001b[0m\u001b[0;34m:\u001b[0m \u001b[0mprint\u001b[0m\u001b[0;34m(\u001b[0m\u001b[0;34m\"errno =\"\u001b[0m\u001b[0;34m,\u001b[0m \u001b[0merrno\u001b[0m\u001b[0;34m)\u001b[0m\u001b[0;34m\u001b[0m\u001b[0;34m\u001b[0m\u001b[0m\n\u001b[0;32m--> 220\u001b[0;31m             \u001b[0merr\u001b[0m\u001b[0;34m.\u001b[0m\u001b[0mraise_mysql_exception\u001b[0m\u001b[0;34m(\u001b[0m\u001b[0mself\u001b[0m\u001b[0;34m.\u001b[0m\u001b[0m_data\u001b[0m\u001b[0;34m)\u001b[0m\u001b[0;34m\u001b[0m\u001b[0;34m\u001b[0m\u001b[0m\n\u001b[0m\u001b[1;32m    221\u001b[0m \u001b[0;34m\u001b[0m\u001b[0m\n\u001b[1;32m    222\u001b[0m     \u001b[0;32mdef\u001b[0m \u001b[0mdump\u001b[0m\u001b[0;34m(\u001b[0m\u001b[0mself\u001b[0m\u001b[0;34m)\u001b[0m\u001b[0;34m:\u001b[0m\u001b[0;34m\u001b[0m\u001b[0;34m\u001b[0m\u001b[0m\n",
      "\u001b[0;32m~/anaconda3/lib/python3.7/site-packages/pymysql/err.py\u001b[0m in \u001b[0;36mraise_mysql_exception\u001b[0;34m(data)\u001b[0m\n\u001b[1;32m    107\u001b[0m         \u001b[0merrval\u001b[0m \u001b[0;34m=\u001b[0m \u001b[0mdata\u001b[0m\u001b[0;34m[\u001b[0m\u001b[0;36m3\u001b[0m\u001b[0;34m:\u001b[0m\u001b[0;34m]\u001b[0m\u001b[0;34m.\u001b[0m\u001b[0mdecode\u001b[0m\u001b[0;34m(\u001b[0m\u001b[0;34m'utf-8'\u001b[0m\u001b[0;34m,\u001b[0m \u001b[0;34m'replace'\u001b[0m\u001b[0;34m)\u001b[0m\u001b[0;34m\u001b[0m\u001b[0;34m\u001b[0m\u001b[0m\n\u001b[1;32m    108\u001b[0m     \u001b[0merrorclass\u001b[0m \u001b[0;34m=\u001b[0m \u001b[0merror_map\u001b[0m\u001b[0;34m.\u001b[0m\u001b[0mget\u001b[0m\u001b[0;34m(\u001b[0m\u001b[0merrno\u001b[0m\u001b[0;34m,\u001b[0m \u001b[0mInternalError\u001b[0m\u001b[0;34m)\u001b[0m\u001b[0;34m\u001b[0m\u001b[0;34m\u001b[0m\u001b[0m\n\u001b[0;32m--> 109\u001b[0;31m     \u001b[0;32mraise\u001b[0m \u001b[0merrorclass\u001b[0m\u001b[0;34m(\u001b[0m\u001b[0merrno\u001b[0m\u001b[0;34m,\u001b[0m \u001b[0merrval\u001b[0m\u001b[0;34m)\u001b[0m\u001b[0;34m\u001b[0m\u001b[0;34m\u001b[0m\u001b[0m\n\u001b[0m",
      "\u001b[0;31mInternalError\u001b[0m: (1050, \"Table 'sensor_data' already exists\")"
     ]
    }
   ],
   "source": [
    "db = pymysql.connect(\n",
    "    host = '127.0.0.1',\n",
    "    port = 3306,\n",
    "    user = 'bitai',\n",
    "    passwd = '456123',\n",
    "    db = 'pydb'\n",
    ")\n",
    "\n",
    "cursor = db.cursor()\n",
    "\n",
    "sql = \"\"\"\n",
    "    create table sensor_data(\n",
    "        no integer not null auto_increment primary key, \n",
    "        voltage float not null, \n",
    "        current float not null, \n",
    "        vendor text null, \n",
    "        name text not null, \n",
    "        reg_date timestamp not null default now()\n",
    "    )\n",
    "\"\"\"\n",
    "\n",
    "cursor.execute(sql)\n",
    "\n",
    "db.commit()\n",
    "\n",
    "db.close()\n",
    "\n",
    "print(\"Table Creation Success\")"
   ]
  },
  {
   "cell_type": "code",
   "execution_count": 13,
   "metadata": {},
   "outputs": [],
   "source": [
    "import time\n",
    "import math\n",
    "import pymysql\n",
    "import calendar\n",
    "import datetime\n",
    "import numpy as np"
   ]
  },
  {
   "cell_type": "code",
   "execution_count": 14,
   "metadata": {},
   "outputs": [],
   "source": [
    "sampleTime = np.arange(0, 10, 0.001)\n",
    "noiseData = np.random.normal(size = len(sampleTime))\n",
    "\n",
    "# f = 1/T\n",
    "# T = 1/f\n",
    "# 2 * pi * f * t = w * t\n",
    "voltage = 3 * np.cos(10 * sampleTime + (math.pi / 3)) + \\\n",
    "    2.7 * np.cos(7 * sampleTime) + \\\n",
    "    2.5 * np.cos(5 * noiseData * sampleTime)\n",
    "\n",
    "current = 3 * np.cos(10 * sampleTime) + \\\n",
    "    2.7 * np.cos(7 * sampleTime) + \\\n",
    "    2.5 * np.cos(5 * noiseData * sampleTime)"
   ]
  },
  {
   "cell_type": "code",
   "execution_count": 15,
   "metadata": {},
   "outputs": [],
   "source": [
    "ts = calendar.timegm(time.gmtime())\n",
    "ts = (sampleTime * 1000) + ts\n",
    "\n",
    "sampleTime = np.array(sampleTime, dtype=np.float32)\n",
    "voltage = np.array(voltage, dtype=np.float32)\n",
    "current = np.array(current, dtype=np.float32)"
   ]
  },
  {
   "cell_type": "code",
   "execution_count": 16,
   "metadata": {},
   "outputs": [],
   "source": [
    "currTime = []\n",
    "\n",
    "for i in range(len(sampleTime)):\n",
    "    currTime.append(\n",
    "        datetime.\n",
    "            datetime.\n",
    "                fromtimestamp(ts[i]).\n",
    "                    strftime('%Y-%m-%d %H:%M:%S')\n",
    "    )"
   ]
  },
  {
   "cell_type": "code",
   "execution_count": 17,
   "metadata": {},
   "outputs": [],
   "source": [
    "db = pymysql.connect(\n",
    "    host = '127.0.0.1',\n",
    "    port = 3306,\n",
    "    user = 'bitai',\n",
    "    passwd = '456123',\n",
    "    db = 'pydb'\n",
    ")\n",
    "\n",
    "cursor = db.cursor()\n",
    "\n",
    "# 기존에 만든 테이블을 삭제하는 방법\n",
    "# drop table 테이블이름\n",
    "sql = \"\"\"\n",
    "    insert into sensor_data(\n",
    "        voltage, current, vendor, name, reg_date\n",
    "    ) values (%s, %s, %s, %s, %s)\n",
    "\"\"\""
   ]
  },
  {
   "cell_type": "code",
   "execution_count": 18,
   "metadata": {},
   "outputs": [
    {
     "name": "stdout",
     "output_type": "stream",
     "text": [
      "Sucess to insert 10000 Sensor Data\n"
     ]
    }
   ],
   "source": [
    "try:\n",
    "    with db.cursor() as cursor:\n",
    "        for i in range(len(sampleTime)):\n",
    "            cursor.execute(sql,\n",
    "                (\n",
    "                    str(voltage[i]),\n",
    "                    str(current[i]),\n",
    "                    'FMFire',\n",
    "                    'F33N21BTN7',\n",
    "                    currTime[i]\n",
    "                )\n",
    "            )\n",
    "            \n",
    "        db.commit()\n",
    "finally:\n",
    "    db.close()\n",
    "    \n",
    "print(\"Sucess to insert 10000 Sensor Data\")"
   ]
  },
  {
   "cell_type": "code",
   "execution_count": 19,
   "metadata": {},
   "outputs": [],
   "source": [
    "# Ubuntu에 IntelliJ 설치하기\n",
    "# 구글에 jetbrain toolbox를 검색한다.\n",
    "# https://www.jetbrains.com/ko-kr/toolbox-app/\n",
    "# 다운로드를 받는다.\n",
    "# 다운로드 받은 위치로 cd를 통해 이동하고\n",
    "# tar zxvf jetbrains-toolbox-1.17.7139.tar.gz\n",
    "# 위 명령을 통해 압축을 해제할 수 있다.\n",
    "# 압축 해제후\n",
    "# cd jetbrains-toolbox-1.17.7139\n",
    "# ./jetbrains-toolbox\n",
    "# 입력후 조금 지나면 화면 우측 상단에 메시지가 나타남\n",
    "# 이후에 IntelliJ Community를 설치하도록 한다."
   ]
  },
  {
   "cell_type": "code",
   "execution_count": null,
   "metadata": {},
   "outputs": [],
   "source": [
    " build.gradle 파일에 추가한 내용\n",
    "\n",
    "# plugins {\n",
    "#     id 'org.springframework.boot' version '2.3.1.RELEASE'\n",
    "#     id 'io.spring.dependency-management' version '1.0.9.RELEASE'\n",
    "#     id 'java'\n",
    "# }\n",
    "\n",
    "# configurations {\n",
    "#     compileOnly {\n",
    "#         extendsFrom annotationProcessor\n",
    "#     }\n",
    "# }\n",
    "\n",
    "# dependencies {\n",
    "#     implementation 'org.springframework.boot:spring-boot-starter-thymeleaf'\n",
    "#     implementation 'org.springframework.boot:spring-boot-starter-web'\n",
    "#     compileOnly 'org.projectlombok:lombok'\n",
    "#     annotationProcessor 'org.projectlombok:lombok'\n",
    "#     compile group: 'commons-io', name: 'commons-io', version: '2.6'\n",
    "#     compile 'org.springframework:spring-orm'\n",
    "#     compile 'org.apache.httpcomponents:httpclient:4.5.12'\n",
    "#     testCompile group: 'junit', name: 'junit', version: '4.12'\n",
    "# }"
   ]
  },
  {
   "cell_type": "code",
   "execution_count": null,
   "metadata": {},
   "outputs": [],
   "source": [
    "# 모든 Gradle 설정이 완료되었다면\n",
    "# 다음으로 가장 기본 애플리케이션 코드를 작성하도록 한다.\n",
    "# 그러기 위해 IntelliJ에서 src -> main -> java에 가서 우클릭\n",
    "# New -> Java Class를 선택하고 DemoApp을 만든다."
   ]
  },
  {
   "cell_type": "code",
   "execution_count": null,
   "metadata": {},
   "outputs": [],
   "source": [
    " sudo apt-get install gradle"
   ]
  },
  {
   "cell_type": "code",
   "execution_count": null,
   "metadata": {},
   "outputs": [],
   "source": [
    "# https://start.spring.io/ 로 이동한다.\n",
    "# Project: Gradle Project\n",
    "# Language: Java\n",
    "# Spring Boot: 2.3.1\n",
    "# Packaging: Jar\n",
    "# Java: 11\n",
    "# Dependency:\n",
    "#     Spring Boot DevTools\n",
    "#     Lombok\n",
    "#     Spring Configuration Processor\n",
    "#     Spring Web\n",
    "#     Thymeleaf\n",
    "#     MySQL Driver"
   ]
  },
  {
   "cell_type": "code",
   "execution_count": null,
   "metadata": {},
   "outputs": [],
   "source": [
    "# Generate를 눌러서 다운을 받고\n",
    "# 압축을 풀기 위해 다운로드 디렉토리로 이동한다.\n",
    "# 아래 명령을 입력하여 압축을 푼다.\n",
    "# unzip demo.zip\n",
    "\n",
    "# 그러면 demo라는 디렉토리가 생성될 것이다.\n",
    "# IntelliJ로 돌아가서 File -> Open\n",
    "# home -> bitai에서 Download -> demo를 누르고 OK\n",
    "# 그러면 자동으로 gradle을 Build하기 시작할 것이다.\n",
    "\n",
    "# 실행을 하고 웹 브라우저에서 localhost:8080을 입력하여\n",
    "# Whitelabel이 나오는 것을 확인하면 된다."
   ]
  },
  {
   "cell_type": "code",
   "execution_count": null,
   "metadata": {},
   "outputs": [],
   "source": [
    "package com.example.demo.controller;\n",
    "\n",
    "import org.slf4j.Logger;\n",
    "import org.slf4j.LoggerFactory;\n",
    "import org.springframework.http.MediaType;\n",
    "import org.springframework.http.converter.FormHttpMessageConverter;\n",
    "import org.springframework.http.converter.HttpMessageConverter;\n",
    "import org.springframework.http.converter.StringHttpMessageConverter;\n",
    "import org.springframework.util.LinkedMultiValueMap;\n",
    "import org.springframework.util.MultiValueMap;\n",
    "import org.springframework.web.bind.annotation.RequestMapping;\n",
    "import org.springframework.web.bind.annotation.RequestMethod;\n",
    "import org.springframework.web.bind.annotation.RestController;\n",
    "import org.springframework.web.client.RestTemplate;\n",
    "\n",
    "import java.util.ArrayList;\n",
    "import java.util.List;\n",
    "\n",
    "@RestController\n",
    "public class PythonRequester {\n",
    "    final static Logger log =\n",
    "            LoggerFactory.getLogger(PythonRequester.class);\n",
    "\n",
    "    @RequestMapping(\n",
    "            value = \"/doRequestPythonRest\",\n",
    "            produces = MediaType.APPLICATION_JSON_VALUE,\n",
    "            method = RequestMethod.GET\n",
    "    )\n",
    "    public String doRequestPythonRest() {\n",
    "        log.info(\"doRequestPythonRest()\");\n",
    "\n",
    "        List<HttpMessageConverter<?>> converters =\n",
    "                new ArrayList<HttpMessageConverter<?>>();\n",
    "        converters.add(new FormHttpMessageConverter());\n",
    "        converters.add(new StringHttpMessageConverter());\n",
    "\n",
    "        RestTemplate restTemplate = new RestTemplate();\n",
    "        restTemplate.setMessageConverters(converters);\n",
    "\n",
    "        MultiValueMap<String, String> map =\n",
    "                new LinkedMultiValueMap<String, String>();\n",
    "        map.add(\"str\", \"request test\");\n",
    "\n",
    "        # localhost:5000/dataServer을 요청하면\n",
    "        # 아래 함수가 동작을 한다는 의미!\n",
    "        String result = restTemplate.getForObject(\n",
    "                \"http://localhost:5000/dataServer\",\n",
    "                String.class\n",
    "        );\n",
    "\n",
    "        log.info(\"result = \" + result);\n",
    "\n",
    "        return result;\n",
    "    }"
   ]
  },
  {
   "cell_type": "code",
   "execution_count": 21,
   "metadata": {},
   "outputs": [],
   "source": [
    "from flask import Flask, jsonify\n",
    "\n",
    "import requests\n",
    "import json"
   ]
  },
  {
   "cell_type": "code",
   "execution_count": 23,
   "metadata": {},
   "outputs": [],
   "source": [
    "# pip install flask_restful\n",
    "from flask_restful import Resource, Api, reqparse"
   ]
  },
  {
   "cell_type": "code",
   "execution_count": null,
   "metadata": {},
   "outputs": [
    {
     "name": "stdout",
     "output_type": "stream",
     "text": [
      " * Serving Flask app \"__main__\" (lazy loading)\n",
      " * Environment: production\n",
      "   WARNING: This is a development server. Do not use it in a production deployment.\n",
      "   Use a production WSGI server instead.\n",
      " * Debug mode: off\n"
     ]
    },
    {
     "name": "stderr",
     "output_type": "stream",
     "text": [
      " * Running on http://127.0.0.1:5000/ (Press CTRL+C to quit)\n",
      "127.0.0.1 - - [03/Jul/2020 16:57:31] \"\u001b[37mGET /dataServer HTTP/1.1\u001b[0m\" 200 -\n"
     ]
    },
    {
     "name": "stdout",
     "output_type": "stream",
     "text": [
      "It's operate\n"
     ]
    },
    {
     "name": "stderr",
     "output_type": "stream",
     "text": [
      "127.0.0.1 - - [03/Jul/2020 16:57:39] \"\u001b[37mGET /dataServer HTTP/1.1\u001b[0m\" 200 -\n"
     ]
    },
    {
     "name": "stdout",
     "output_type": "stream",
     "text": [
      "It's operate\n"
     ]
    },
    {
     "name": "stderr",
     "output_type": "stream",
     "text": [
      "127.0.0.1 - - [03/Jul/2020 16:58:58] \"\u001b[37mGET /dataServer HTTP/1.1\u001b[0m\" 200 -\n"
     ]
    },
    {
     "name": "stdout",
     "output_type": "stream",
     "text": [
      "It's operate\n"
     ]
    },
    {
     "name": "stderr",
     "output_type": "stream",
     "text": [
      "127.0.0.1 - - [03/Jul/2020 16:59:10] \"\u001b[37mGET /dataServer HTTP/1.1\u001b[0m\" 200 -\n"
     ]
    },
    {
     "name": "stdout",
     "output_type": "stream",
     "text": [
      "It's operate\n"
     ]
    }
   ],
   "source": [
    "app = Flask(__name__)\n",
    "api = Api(app)\n",
    "\n",
    "@app.route('/dataServer')\n",
    "def PythonServerResponse():\n",
    "    print(\"It's operate\")\n",
    "    summary = {'name': 'Hello', 'major': 'C++'}\n",
    "    return jsonify(summary)\n",
    "               \n",
    "app.run()"
   ]
  },
  {
   "cell_type": "code",
   "execution_count": null,
   "metadata": {},
   "outputs": [],
   "source": [
    "# 작업 내용 정리\n",
    "# Java Spring과 기반 서버와 \n",
    "# Python 기반 웹 서버의 상호간 통신을 수행\n",
    "# 서버가 있으면 반드시 클라이언트(사용자)가 있다.\n",
    "# 클라이언트가 있으면 반드시 서버가 있다."
   ]
  },
  {
   "cell_type": "code",
   "execution_count": null,
   "metadata": {},
   "outputs": [],
   "source": []
  },
  {
   "cell_type": "code",
   "execution_count": null,
   "metadata": {},
   "outputs": [],
   "source": []
  }
 ],
 "metadata": {
  "kernelspec": {
   "display_name": "Python 3",
   "language": "python",
   "name": "python3"
  },
  "language_info": {
   "codemirror_mode": {
    "name": "ipython",
    "version": 3
   },
   "file_extension": ".py",
   "mimetype": "text/x-python",
   "name": "python",
   "nbconvert_exporter": "python",
   "pygments_lexer": "ipython3",
   "version": "3.7.6"
  }
 },
 "nbformat": 4,
 "nbformat_minor": 4
}
